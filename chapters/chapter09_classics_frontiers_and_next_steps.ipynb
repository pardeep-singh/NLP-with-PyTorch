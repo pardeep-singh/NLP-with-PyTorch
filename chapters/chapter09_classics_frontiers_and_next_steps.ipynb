{
 "cells": [
  {
   "cell_type": "markdown",
   "id": "b588a97e",
   "metadata": {
    "toc": true
   },
   "source": [
    "<h1>Classics, Frontiers, and Next Steps<span class=\"tocSkip\"></span></h1>\n",
    "<div class=\"toc\"><ul class=\"toc-item\"><li><span><a href=\"#What-Have-we-learned-so-Far?\" data-toc-modified-id=\"What-Have-we-learned-so-Far?-1\"><span class=\"toc-item-num\">1&nbsp;&nbsp;</span>What Have we learned so Far?</a></span></li><li><span><a href=\"#Timeless-Topics-in-NLP\" data-toc-modified-id=\"Timeless-Topics-in-NLP-2\"><span class=\"toc-item-num\">2&nbsp;&nbsp;</span>Timeless Topics in NLP</a></span></li><li><span><a href=\"#Frontiers-in-NLP\" data-toc-modified-id=\"Frontiers-in-NLP-3\"><span class=\"toc-item-num\">3&nbsp;&nbsp;</span>Frontiers in NLP</a></span></li><li><span><a href=\"#Design-patterns-for-Production-NLP-Systems\" data-toc-modified-id=\"Design-patterns-for-Production-NLP-Systems-4\"><span class=\"toc-item-num\">4&nbsp;&nbsp;</span>Design patterns for Production NLP Systems</a></span></li></ul></div>"
   ]
  },
  {
   "cell_type": "markdown",
   "id": "6d84e0a1",
   "metadata": {
    "heading_collapsed": true
   },
   "source": [
    "## What Have we learned so Far?"
   ]
  },
  {
   "cell_type": "markdown",
   "id": "49d1a260",
   "metadata": {
    "hidden": true
   },
   "source": [
    "- Constructing computational graphs for supervised learning problems.\n",
    "- PyTorch as a computational framework\n",
    "- NLP Basics\n",
    "- Deep Learning foundational concepts like activation functions, loss functions, Gradient based optimisation and training eval loop.\n",
    "- Deep Learning architectures like Perceptron, Multi Layer Perceptron, Convolutional Networks.\n",
    "- Recurrent Networks like Elman RNN, LSTMs, GRUs."
   ]
  },
  {
   "cell_type": "markdown",
   "id": "3930bb2b",
   "metadata": {
    "heading_collapsed": true
   },
   "source": [
    "## Timeless Topics in NLP"
   ]
  },
  {
   "cell_type": "markdown",
   "id": "826613d1",
   "metadata": {
    "hidden": true
   },
   "source": [
    "- Dialogue and interactive Systems\n",
    "- Discourse\n",
    "- Information Extraction and Text Mining\n",
    "- Document Analysis and Retrieval"
   ]
  },
  {
   "cell_type": "markdown",
   "id": "4e614407",
   "metadata": {
    "heading_collapsed": true
   },
   "source": [
    "## Frontiers in NLP"
   ]
  },
  {
   "cell_type": "markdown",
   "id": "62c5d07a",
   "metadata": {
    "hidden": true
   },
   "source": [
    "- Bringing classical NLP literature into the differential learning paradigm\n",
    "- Compositionality of models\n",
    "- Convolution for sequences\n",
    "- Attention is all you need\n",
    "- Transfer learning"
   ]
  },
  {
   "cell_type": "markdown",
   "id": "703764d8",
   "metadata": {
    "heading_collapsed": true
   },
   "source": [
    "## Design patterns for Production NLP Systems"
   ]
  },
  {
   "cell_type": "markdown",
   "id": "5d3ec15d",
   "metadata": {
    "hidden": true
   },
   "source": [
    "- Online Versus offline systems\n",
    "    ![Figure 9.3](../images/figure_9_3.png)\n",
    "- Interactive versus non interactive systems\n",
    "- Unimodal versus multimodal systems\n",
    "    ![Figure 9.5](../images/figure_9_5.png)\n",
    "- End to end systems versus piecewise systems\n",
    "- Closed domain versus open domain systems\n",
    "- Monolingual versus multilingual systems"
   ]
  },
  {
   "cell_type": "code",
   "execution_count": null,
   "id": "e9507ccb",
   "metadata": {
    "hidden": true
   },
   "outputs": [],
   "source": []
  }
 ],
 "metadata": {
  "kernelspec": {
   "display_name": "Python 3",
   "language": "python",
   "name": "python3"
  },
  "language_info": {
   "codemirror_mode": {
    "name": "ipython",
    "version": 3
   },
   "file_extension": ".py",
   "mimetype": "text/x-python",
   "name": "python",
   "nbconvert_exporter": "python",
   "pygments_lexer": "ipython3",
   "version": "3.8.10"
  },
  "toc": {
   "base_numbering": 1,
   "nav_menu": {},
   "number_sections": true,
   "sideBar": true,
   "skip_h1_title": false,
   "title_cell": "Classics, Frontiers, and Next Steps",
   "title_sidebar": "Contents",
   "toc_cell": true,
   "toc_position": {},
   "toc_section_display": true,
   "toc_window_display": false
  }
 },
 "nbformat": 4,
 "nbformat_minor": 5
}
