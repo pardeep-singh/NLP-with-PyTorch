{
 "cells": [
  {
   "cell_type": "markdown",
   "id": "31648ca5",
   "metadata": {
    "toc": true
   },
   "source": [
    "<h1>Advanced Sequence Modeling for Natural Language Processing<span class=\"tocSkip\"></span></h1>\n",
    "<div class=\"toc\"><ul class=\"toc-item\"><li><span><a href=\"#Introduction\" data-toc-modified-id=\"Introduction-1\"><span class=\"toc-item-num\">1&nbsp;&nbsp;</span>Introduction</a></span></li><li><span><a href=\"#Sequence-to-Sequence-Models,-Encoder-Decoder-Models-and-Conditioned-Generation\" data-toc-modified-id=\"Sequence-to-Sequence-Models,-Encoder-Decoder-Models-and-Conditioned-Generation-2\"><span class=\"toc-item-num\">2&nbsp;&nbsp;</span>Sequence-to-Sequence Models, Encoder-Decoder Models and Conditioned Generation</a></span></li><li><span><a href=\"#Capturing-More-from-a-Sequence:-Bidirectional-Recurrent-Models\" data-toc-modified-id=\"Capturing-More-from-a-Sequence:-Bidirectional-Recurrent-Models-3\"><span class=\"toc-item-num\">3&nbsp;&nbsp;</span>Capturing More from a Sequence: Bidirectional Recurrent Models</a></span></li><li><span><a href=\"#Capturing-More-from-a-Sequence:-Attention\" data-toc-modified-id=\"Capturing-More-from-a-Sequence:-Attention-4\"><span class=\"toc-item-num\">4&nbsp;&nbsp;</span>Capturing More from a Sequence: Attention</a></span><ul class=\"toc-item\"><li><span><a href=\"#Attention-in-Deep-Neural-Networks\" data-toc-modified-id=\"Attention-in-Deep-Neural-Networks-4.1\"><span class=\"toc-item-num\">4.1&nbsp;&nbsp;</span>Attention in Deep Neural Networks</a></span></li></ul></li><li><span><a href=\"#Evaluating-Sequence-Generation-Models\" data-toc-modified-id=\"Evaluating-Sequence-Generation-Models-5\"><span class=\"toc-item-num\">5&nbsp;&nbsp;</span>Evaluating Sequence Generation Models</a></span></li><li><span><a href=\"#Example:-Neural-Machine-Translation\" data-toc-modified-id=\"Example:-Neural-Machine-Translation-6\"><span class=\"toc-item-num\">6&nbsp;&nbsp;</span>Example: Neural Machine Translation</a></span><ul class=\"toc-item\"><li><span><a href=\"#Vocabulary,-Vectorizer-and-Dataset\" data-toc-modified-id=\"Vocabulary,-Vectorizer-and-Dataset-6.1\"><span class=\"toc-item-num\">6.1&nbsp;&nbsp;</span>Vocabulary, Vectorizer and Dataset</a></span></li><li><span><a href=\"#NMT-Model-with-No-Sampling\" data-toc-modified-id=\"NMT-Model-with-No-Sampling-6.2\"><span class=\"toc-item-num\">6.2&nbsp;&nbsp;</span>NMT Model with No Sampling</a></span></li><li><span><a href=\"#Evaluation\" data-toc-modified-id=\"Evaluation-6.3\"><span class=\"toc-item-num\">6.3&nbsp;&nbsp;</span>Evaluation</a></span></li></ul></li></ul></div>"
   ]
  },
  {
   "cell_type": "markdown",
   "id": "5c008ba4",
   "metadata": {
    "heading_collapsed": true
   },
   "source": [
    "## Introduction"
   ]
  },
  {
   "cell_type": "markdown",
   "id": "068d8768",
   "metadata": {
    "hidden": true
   },
   "source": [
    "- _Sequence-to-sequence Modeling_ refers to taking sequence as input and producing another sequence as an output of possibly different length\n",
    "- Examples\n",
    "    - Predict response for a given email\n",
    "    - Translate text\n",
    "    - Summarize the given text"
   ]
  },
  {
   "cell_type": "markdown",
   "id": "087be68d",
   "metadata": {
    "heading_collapsed": true
   },
   "source": [
    "## Sequence-to-Sequence Models, Encoder-Decoder Models and Conditioned Generation"
   ]
  },
  {
   "cell_type": "markdown",
   "id": "37c2de11",
   "metadata": {
    "hidden": true
   },
   "source": [
    "- **Sequence-to-Sequence(S2S)** models are a special case of general family of models alled _encoder-decoder models_\n",
    "- Encoder-Decoder model is a composition of two models -> an Encoder and a Decoder that are trained jointly.\n",
    "    - Encoder Model takes an input and produces an encoding or a representation $(\\phi)$ of the input which is usually a vector. The goal of the encoder is to capture important properties of the input with respect to the task at hand.\n",
    "    - The goal of the decoder is to take the encoded input and produce a desired output.\n",
    "- So S2S models can be defined as encoder-decoder models in which the encoder and decoder are sequence models and the inputs and outputs are both sequences possibly of different lengths.\n",
    "\n",
    "![Figure 8.1](../images/figure_8_1.png)"
   ]
  },
  {
   "cell_type": "markdown",
   "id": "1c8b4011",
   "metadata": {
    "hidden": true
   },
   "source": [
    "**Encoder-Decoder Models as Special Case of Conditioned Generation Models**\n",
    "\n",
    "- In Conditioned generation, instead of the input respresentation $\\phi$, a general conditioning context $c$ influences a decoder to produce an output.\n",
    "- When the conditioning context $c$ comes from an encoder model, conditioned generation is same as an encoder-decoder model.\n",
    "- Not all conditioned generation models are encoder-decoder models, because it is possible for the conditioning context to be derived from a structured source.\n",
    "- For example, in weather report generation, the value of the temperature, humidity and wind speed and direction could condition a decoder to generate the textual weather report.\n",
    "\n",
    "![Figure 8.2](../images/figure_8_2.png)\n",
    "![Figure 8.3](../images/figure_8_3.png)\n",
    "![Figure 8.4](../images/figure_8_4.png)"
   ]
  },
  {
   "cell_type": "markdown",
   "id": "620c4e38",
   "metadata": {
    "heading_collapsed": true
   },
   "source": [
    "## Capturing More from a Sequence: Bidirectional Recurrent Models"
   ]
  },
  {
   "cell_type": "markdown",
   "id": "8a290d1f",
   "metadata": {
    "hidden": true
   },
   "source": [
    "- The goal of bidirectional recurrent model is to combine the information from past and future to robustly represent the meaning of a word in a sequence.\n",
    "- Any model in the recurrent family, such as Elmann RNNs, LSTMs or GRUs could be used in such a bidirectional formulation.\n",
    "- Bidirectional models like unidirectional models can be used in both classification and sequence labeling settings.\n",
    "\n",
    "![Figure 8.5](../images/figure_8_5.png)\n",
    "![Figure 8.6](../images/figure_8_6.png)"
   ]
  },
  {
   "cell_type": "markdown",
   "id": "87f8c959",
   "metadata": {
    "heading_collapsed": true
   },
   "source": [
    "## Capturing More from a Sequence: Attention"
   ]
  },
  {
   "cell_type": "markdown",
   "id": "be8b6022",
   "metadata": {
    "hidden": true
   },
   "source": [
    "**Problems with S2S, encoder-decoder and conditioned generation models**\n",
    "\n",
    "- These models crams(encodes) the entire input sentence into a single vector $\\phi$ and uses that encoding to generate the output. This might work for very short sentences but will fail to capture the information in the entire input in case of ling sentences. This is a limitation of using just the final hidden state as the encoding.\n",
    "- Gradients vanishing problem can also happen during back prooagation throigh time which makes the training difficult.\n",
    "\n",
    "![Figure 8.7](../images/figure_8_7.png)"
   ]
  },
  {
   "cell_type": "markdown",
   "id": "4d975237",
   "metadata": {
    "hidden": true
   },
   "source": [
    "- **Attention** is the phenomenon in which our minds focus on the relevant parts of the input while producing output.\n",
    "- **Attention mechanism** is the process in which sequence generation models incorporate attention to different parts of the input and not just the final summary of the input.\n",
    "- The first models to incorporate the notion of attention for NLP were machine translation models by Bahdanau(2015).\n",
    "\n",
    "![Figure 8.8](../images/figure_8_8.png)"
   ]
  },
  {
   "cell_type": "markdown",
   "id": "93ec8058",
   "metadata": {
    "heading_collapsed": true,
    "hidden": true
   },
   "source": [
    "### Attention in Deep Neural Networks"
   ]
  },
  {
   "cell_type": "markdown",
   "id": "b6ee4bf2",
   "metadata": {
    "hidden": true
   },
   "source": [
    "- In typical S2S Model, each time step produces a hidden state representation, denoted as $\\phi_w$, specific to that time step in the encoder.\n",
    "- To incorporate attention, we consider not only the final hidden state of the encoder but also the hidden states for each of the intermediate steps. These encoder hidden states are uninformatively called _values_.\n",
    "- Attention also depends on the previous hidden state of the decoder called the _query_. The query vector for time step $t=0$ is a fixed hyperparameter.\n",
    "- Attention is represented by a vector with the same dimension as the number of values it is attending to. This is called _attention vector_, or _attention weights_ or sometimes _alignment_.\n",
    "- The attention weights are combined with the encoder states(values) to generate a _context vector_ that sometimes also known as a _glimpse_. This context vector becomes the input for the decoder instead of the full sentence encoding.\n",
    "- The attention vector for the next time step is updated using a _compatibility function_. The exact nature of the compatibility function depends on the attention mechanism being used.\n",
    "\n",
    "![Figure 8.9](../images/figure_8_9.png)"
   ]
  },
  {
   "cell_type": "markdown",
   "id": "ae8be84e",
   "metadata": {
    "hidden": true
   },
   "source": [
    "**Ways to Implement Attention**\n",
    "- Simplest and most common is **Content-aware Mechanism**.\n",
    "- Another popular attention is **Location-aware Attention** which depends only on query vector and the key.\n",
    "- Attention weights are typically floating-point values between 0 and 1. This is called **Soft Attention**.\n",
    "- It is also possible to learn a binary 0/1 vector for attention which is called **Hard Attention**.\n",
    "- When the encoder depends on the states for all the time step in the input, this is known as **Global Attention**.\n",
    "- In **Local Attention**, attention mechanism only depends on a window of the input around the current time step.\n",
    "- When multiple attention vector are used to track different regions of input such mechanism is known as **Multiheaded Attention** which is based on Vaswani(2017) work. This popularized the concept of **Self Attention** a mechanizm where the model learns which regions of the input influence one another.\n",
    "- When the input is multimodal like both image and speech, it is possible to design a **Multimodal Attention Mechanism**"
   ]
  },
  {
   "cell_type": "markdown",
   "id": "56c25495",
   "metadata": {
    "heading_collapsed": true
   },
   "source": [
    "## Evaluating Sequence Generation Models"
   ]
  },
  {
   "cell_type": "markdown",
   "id": "d9e2ab59",
   "metadata": {
    "hidden": true
   },
   "source": [
    "Sequence Models are evaluated against an expected output called **Reference Output**.\n",
    "\n",
    "There are two kinds of evaluation for sequence generation models:\n",
    "\n",
    "- Human Evaluation\n",
    "- Automation Evaluation\n",
    "    - n-gram overlap based metrics -> BLEU, ROUGE, METEOR\n",
    "    - Perplexity"
   ]
  },
  {
   "cell_type": "markdown",
   "id": "5e446e5e",
   "metadata": {},
   "source": [
    "## Example: Neural Machine Translation"
   ]
  },
  {
   "cell_type": "code",
   "execution_count": 1,
   "id": "39e943dc",
   "metadata": {},
   "outputs": [
    {
     "data": {
      "application/javascript": [
       "\n",
       "            setTimeout(function() {\n",
       "                var nbb_cell_id = 1;\n",
       "                var nbb_unformatted_code = \"%load_ext nb_black\\n\\nimport os\\nfrom argparse import Namespace\\nfrom collections import Counter\\nimport json\\nimport re\\nimport string\\n\\nimport numpy as np\\nimport pandas as pd\\nimport torch\\nimport torch.nn as nn\\nfrom torch.nn import functional as F\\nimport torch.optim as optim\\nfrom torch.nn.utils.rnn import pack_padded_sequence, pad_packed_sequence\\nfrom torch.utils.data import Dataset, DataLoader\\nfrom tqdm import notebook\\n\\nimport utils\";\n",
       "                var nbb_formatted_code = \"%load_ext nb_black\\n\\nimport os\\nfrom argparse import Namespace\\nfrom collections import Counter\\nimport json\\nimport re\\nimport string\\n\\nimport numpy as np\\nimport pandas as pd\\nimport torch\\nimport torch.nn as nn\\nfrom torch.nn import functional as F\\nimport torch.optim as optim\\nfrom torch.nn.utils.rnn import pack_padded_sequence, pad_packed_sequence\\nfrom torch.utils.data import Dataset, DataLoader\\nfrom tqdm import notebook\\n\\nimport utils\";\n",
       "                var nbb_cells = Jupyter.notebook.get_cells();\n",
       "                for (var i = 0; i < nbb_cells.length; ++i) {\n",
       "                    if (nbb_cells[i].input_prompt_number == nbb_cell_id) {\n",
       "                        if (nbb_cells[i].get_text() == nbb_unformatted_code) {\n",
       "                             nbb_cells[i].set_text(nbb_formatted_code);\n",
       "                        }\n",
       "                        break;\n",
       "                    }\n",
       "                }\n",
       "            }, 500);\n",
       "            "
      ],
      "text/plain": [
       "<IPython.core.display.Javascript object>"
      ]
     },
     "metadata": {},
     "output_type": "display_data"
    }
   ],
   "source": [
    "%load_ext nb_black\n",
    "\n",
    "import os\n",
    "from argparse import Namespace\n",
    "from collections import Counter\n",
    "import json\n",
    "import re\n",
    "import string\n",
    "\n",
    "import numpy as np\n",
    "import pandas as pd\n",
    "import torch\n",
    "import torch.nn as nn\n",
    "from torch.nn import functional as F\n",
    "import torch.optim as optim\n",
    "from torch.nn.utils.rnn import pack_padded_sequence, pad_packed_sequence\n",
    "from torch.utils.data import Dataset, DataLoader\n",
    "from tqdm import notebook\n",
    "\n",
    "import utils"
   ]
  },
  {
   "cell_type": "markdown",
   "id": "27b99a47",
   "metadata": {},
   "source": [
    "### Vocabulary, Vectorizer and Dataset"
   ]
  },
  {
   "cell_type": "code",
   "execution_count": 2,
   "id": "7709e98a",
   "metadata": {},
   "outputs": [
    {
     "data": {
      "application/javascript": [
       "\n",
       "            setTimeout(function() {\n",
       "                var nbb_cell_id = 2;\n",
       "                var nbb_unformatted_code = \"class Vocabulary(object):\\n    def __init__(self, token_to_idx=None):\\n        if token_to_idx is None:\\n            token_to_idx = {}\\n        self._token_to_idx = token_to_idx\\n        self._idx_to_token = {idk: token for token, idx in self._token_to_idx.items()}\\n\\n    def to_serializable(self):\\n        return {\\\"token_to_idx\\\": self._token_to_idx}\\n\\n    @classmethod\\n    def from_serializable(cls, contents):\\n        return cls(**contents)\\n\\n    def add_token(self, token):\\n        if token in self._token_to_idx:\\n            index = self._token_to_idx[token]\\n        else:\\n            index = len(self._token_to_idx)\\n            self._token_to_idx[token] = index\\n            self._idx_to_token[index] = token\\n        return index\\n\\n    def add_many(self, tokens):\\n        return [self.add_token(token) for token in tokens]\\n\\n    def lookup_token(self, token):\\n        return self._token_to_idx[token]\\n\\n    def lookup_index(self, index):\\n        if index not in self._idx_to_token:\\n            raise KeyError(f\\\"The index {index} is not in the Vocab.\\\")\\n        return self._idx_to_token[index]\\n\\n    def __str__(self):\\n        return f\\\"<Vocabulary(size={len(self)})>\\\"\\n\\n    def __len__(self):\\n        return len(self._token_to_idx)\";\n",
       "                var nbb_formatted_code = \"class Vocabulary(object):\\n    def __init__(self, token_to_idx=None):\\n        if token_to_idx is None:\\n            token_to_idx = {}\\n        self._token_to_idx = token_to_idx\\n        self._idx_to_token = {idk: token for token, idx in self._token_to_idx.items()}\\n\\n    def to_serializable(self):\\n        return {\\\"token_to_idx\\\": self._token_to_idx}\\n\\n    @classmethod\\n    def from_serializable(cls, contents):\\n        return cls(**contents)\\n\\n    def add_token(self, token):\\n        if token in self._token_to_idx:\\n            index = self._token_to_idx[token]\\n        else:\\n            index = len(self._token_to_idx)\\n            self._token_to_idx[token] = index\\n            self._idx_to_token[index] = token\\n        return index\\n\\n    def add_many(self, tokens):\\n        return [self.add_token(token) for token in tokens]\\n\\n    def lookup_token(self, token):\\n        return self._token_to_idx[token]\\n\\n    def lookup_index(self, index):\\n        if index not in self._idx_to_token:\\n            raise KeyError(f\\\"The index {index} is not in the Vocab.\\\")\\n        return self._idx_to_token[index]\\n\\n    def __str__(self):\\n        return f\\\"<Vocabulary(size={len(self)})>\\\"\\n\\n    def __len__(self):\\n        return len(self._token_to_idx)\";\n",
       "                var nbb_cells = Jupyter.notebook.get_cells();\n",
       "                for (var i = 0; i < nbb_cells.length; ++i) {\n",
       "                    if (nbb_cells[i].input_prompt_number == nbb_cell_id) {\n",
       "                        if (nbb_cells[i].get_text() == nbb_unformatted_code) {\n",
       "                             nbb_cells[i].set_text(nbb_formatted_code);\n",
       "                        }\n",
       "                        break;\n",
       "                    }\n",
       "                }\n",
       "            }, 500);\n",
       "            "
      ],
      "text/plain": [
       "<IPython.core.display.Javascript object>"
      ]
     },
     "metadata": {},
     "output_type": "display_data"
    }
   ],
   "source": [
    "class Vocabulary(object):\n",
    "    def __init__(self, token_to_idx=None):\n",
    "        if token_to_idx is None:\n",
    "            token_to_idx = {}\n",
    "        self._token_to_idx = token_to_idx\n",
    "        self._idx_to_token = {idk: token for token, idx in self._token_to_idx.items()}\n",
    "\n",
    "    def to_serializable(self):\n",
    "        return {\"token_to_idx\": self._token_to_idx}\n",
    "\n",
    "    @classmethod\n",
    "    def from_serializable(cls, contents):\n",
    "        return cls(**contents)\n",
    "\n",
    "    def add_token(self, token):\n",
    "        if token in self._token_to_idx:\n",
    "            index = self._token_to_idx[token]\n",
    "        else:\n",
    "            index = len(self._token_to_idx)\n",
    "            self._token_to_idx[token] = index\n",
    "            self._idx_to_token[index] = token\n",
    "        return index\n",
    "\n",
    "    def add_many(self, tokens):\n",
    "        return [self.add_token(token) for token in tokens]\n",
    "\n",
    "    def lookup_token(self, token):\n",
    "        return self._token_to_idx[token]\n",
    "\n",
    "    def lookup_index(self, index):\n",
    "        if index not in self._idx_to_token:\n",
    "            raise KeyError(f\"The index {index} is not in the Vocab.\")\n",
    "        return self._idx_to_token[index]\n",
    "\n",
    "    def __str__(self):\n",
    "        return f\"<Vocabulary(size={len(self)})>\"\n",
    "\n",
    "    def __len__(self):\n",
    "        return len(self._token_to_idx)"
   ]
  },
  {
   "cell_type": "code",
   "execution_count": 3,
   "id": "002d267a",
   "metadata": {},
   "outputs": [
    {
     "data": {
      "application/javascript": [
       "\n",
       "            setTimeout(function() {\n",
       "                var nbb_cell_id = 3;\n",
       "                var nbb_unformatted_code = \"class SequenceVocabulary(Vocabulary):\\n    def __init__(\\n        self,\\n        token_to_idx=None,\\n        unk_token=\\\"<UNK>\\\",\\n        mask_token=\\\"<MASK>\\\",\\n        begin_seq_token=\\\"<BEGIN>\\\",\\n        end_seq_token=\\\"<END>\\\",\\n    ):\\n        super(SequenceVocabulary, self).__init__(token_to_idx)\\n        self._mask_token = mask_token\\n        self._unk_token = unk_token\\n        self._begin_seq_token = begin_seq_token\\n        self._end_seq_token = end_seq_token\\n\\n        self.mask_index = self.add_token(self._mask_token)\\n        self.unk_index = self.add_token(self._unk_token)\\n        self.begin_seq_index = self.add_token(self._begin_seq_token)\\n        self.end_seq_index = self.add_token(self._end_seq_token)\\n\\n    def to_serializable(self):\\n        contents = super(SequenceVocabulary, self).to_serializable()\\n        contents.update(\\n            {\\n                \\\"unk_token\\\": self._unk_token,\\n                \\\"mask_token\\\": self._mask_token,\\n                \\\"begin_seq_token\\\": self._begin_seq_token,\\n                \\\"end_seq_token\\\": self._end_seq_token,\\n            }\\n        )\\n        return contents\\n\\n    def lookup_token(self, token):\\n        if self.unk_index >= 0:\\n            return self._token_to_idx.get(token, self.unk_index)\\n        else:\\n            return self._token_to_idx[token]\";\n",
       "                var nbb_formatted_code = \"class SequenceVocabulary(Vocabulary):\\n    def __init__(\\n        self,\\n        token_to_idx=None,\\n        unk_token=\\\"<UNK>\\\",\\n        mask_token=\\\"<MASK>\\\",\\n        begin_seq_token=\\\"<BEGIN>\\\",\\n        end_seq_token=\\\"<END>\\\",\\n    ):\\n        super(SequenceVocabulary, self).__init__(token_to_idx)\\n        self._mask_token = mask_token\\n        self._unk_token = unk_token\\n        self._begin_seq_token = begin_seq_token\\n        self._end_seq_token = end_seq_token\\n\\n        self.mask_index = self.add_token(self._mask_token)\\n        self.unk_index = self.add_token(self._unk_token)\\n        self.begin_seq_index = self.add_token(self._begin_seq_token)\\n        self.end_seq_index = self.add_token(self._end_seq_token)\\n\\n    def to_serializable(self):\\n        contents = super(SequenceVocabulary, self).to_serializable()\\n        contents.update(\\n            {\\n                \\\"unk_token\\\": self._unk_token,\\n                \\\"mask_token\\\": self._mask_token,\\n                \\\"begin_seq_token\\\": self._begin_seq_token,\\n                \\\"end_seq_token\\\": self._end_seq_token,\\n            }\\n        )\\n        return contents\\n\\n    def lookup_token(self, token):\\n        if self.unk_index >= 0:\\n            return self._token_to_idx.get(token, self.unk_index)\\n        else:\\n            return self._token_to_idx[token]\";\n",
       "                var nbb_cells = Jupyter.notebook.get_cells();\n",
       "                for (var i = 0; i < nbb_cells.length; ++i) {\n",
       "                    if (nbb_cells[i].input_prompt_number == nbb_cell_id) {\n",
       "                        if (nbb_cells[i].get_text() == nbb_unformatted_code) {\n",
       "                             nbb_cells[i].set_text(nbb_formatted_code);\n",
       "                        }\n",
       "                        break;\n",
       "                    }\n",
       "                }\n",
       "            }, 500);\n",
       "            "
      ],
      "text/plain": [
       "<IPython.core.display.Javascript object>"
      ]
     },
     "metadata": {},
     "output_type": "display_data"
    }
   ],
   "source": [
    "class SequenceVocabulary(Vocabulary):\n",
    "    def __init__(\n",
    "        self,\n",
    "        token_to_idx=None,\n",
    "        unk_token=\"<UNK>\",\n",
    "        mask_token=\"<MASK>\",\n",
    "        begin_seq_token=\"<BEGIN>\",\n",
    "        end_seq_token=\"<END>\",\n",
    "    ):\n",
    "        super(SequenceVocabulary, self).__init__(token_to_idx)\n",
    "        self._mask_token = mask_token\n",
    "        self._unk_token = unk_token\n",
    "        self._begin_seq_token = begin_seq_token\n",
    "        self._end_seq_token = end_seq_token\n",
    "\n",
    "        self.mask_index = self.add_token(self._mask_token)\n",
    "        self.unk_index = self.add_token(self._unk_token)\n",
    "        self.begin_seq_index = self.add_token(self._begin_seq_token)\n",
    "        self.end_seq_index = self.add_token(self._end_seq_token)\n",
    "\n",
    "    def to_serializable(self):\n",
    "        contents = super(SequenceVocabulary, self).to_serializable()\n",
    "        contents.update(\n",
    "            {\n",
    "                \"unk_token\": self._unk_token,\n",
    "                \"mask_token\": self._mask_token,\n",
    "                \"begin_seq_token\": self._begin_seq_token,\n",
    "                \"end_seq_token\": self._end_seq_token,\n",
    "            }\n",
    "        )\n",
    "        return contents\n",
    "\n",
    "    def lookup_token(self, token):\n",
    "        if self.unk_index >= 0:\n",
    "            return self._token_to_idx.get(token, self.unk_index)\n",
    "        else:\n",
    "            return self._token_to_idx[token]"
   ]
  },
  {
   "cell_type": "code",
   "execution_count": 4,
   "id": "fb5a39c5",
   "metadata": {},
   "outputs": [
    {
     "data": {
      "application/javascript": [
       "\n",
       "            setTimeout(function() {\n",
       "                var nbb_cell_id = 4;\n",
       "                var nbb_unformatted_code = \"class NMTVectorizer(object):\\n    def __init__(\\n        self, source_vocab, target_vocab, max_source_length, max_target_length\\n    ):\\n        self.source_vocab = source_vocab\\n        self.target_vocab = target_vocab\\n\\n        self.max_source_length = max_source_length\\n        self.max_target_length = max_target_length\\n\\n    def _vectorize(self, indices, vector_length=-1, mask_index=0):\\n        if vector_length < 0:\\n            vector_length = len(indices)\\n        vector = np.zeros(vector_length, dtype=np.int64)\\n        vector[: len(indices)] = indices\\n        vector[len(indices) :] = mask_index\\n        return vector\\n\\n    def _get_source_indices(self, text):\\n        indices = [self.source_vocab.begin_seq_index]\\n        indices.extend(\\n            self.source_vocab.lookup_token(token) for token in text.split(\\\" \\\")\\n        )\\n        indices.append(self.source_vocab.end_seq_index)\\n        return indices\\n\\n    def _get_target_indices(self, text):\\n        indices = [self.target_vocab.lookup_token(token) for token in text.split(\\\" \\\")]\\n        x_indices = [self.target_vocab.begin_seq_index] + indices\\n        y_indices = indices + [self.target_vocab.end_seq_index]\\n        return x_indices, y_indices\\n\\n    def vectorize(self, source_text, target_text, use_dataset_max_lengths=True):\\n        source_vector_length, target_vector_length = -1, -1\\n        if use_dataset_max_lengths:\\n            source_vector_length = self.max_source_length + 2\\n            target_vector_length = self.max_target_length + 1\\n\\n        source_indices = self._get_source_indices(source_text)\\n        source_vector = self._vectorize(\\n            source_indices,\\n            vector_length=source_vector_length,\\n            mask_index=self.source_vocab.mask_index,\\n        )\\n\\n        target_x_indices, target_y_indices = self._get_target_indices(target_text)\\n        target_x_vector = self._vectorize(\\n            target_x_indices,\\n            vector_length=target_vector_length,\\n            mask_index=self.target_vocab.mask_index,\\n        )\\n\\n        target_y_vector = self._vectorize(\\n            target_y_indices,\\n            vector_length=target_vector_length,\\n            mask_index=self.target_vocab.mask_index,\\n        )\\n        return {\\n            \\\"source_vector\\\": source_vector,\\n            \\\"target_x_vector\\\": target_x_vector,\\n            \\\"target_y_vector\\\": target_y_vector,\\n            \\\"source_length\\\": len(source_indices),\\n        }\\n\\n    @classmethod\\n    def from_dataframe(cls, bitext_df):\\n        source_vocab = SequenceVocabulary()\\n        target_vocab = SequenceVocabulary()\\n\\n        max_source_length, max_target_length = 0, 0\\n\\n        for _, row in bitext_df.iterrows():\\n            source_tokens = row[\\\"source_language\\\"].split(\\\" \\\")\\n            if len(source_tokens) > max_source_length:\\n                max_source_length = len(source_tokens)\\n            for token in source_tokens:\\n                source_vocab.add_token(token)\\n\\n            target_tokens = row[\\\"target_language\\\"].split(\\\" \\\")\\n            if len(target_tokens) > max_target_length:\\n                max_target_length = len(target_tokens)\\n            for token in target_tokens:\\n                target_vocab.add_token(token)\\n        return cls(source_vocab, target_vocab, max_source_length, max_target_length)\\n\\n    @classmethod\\n    def from_serializable(cls, contents):\\n        source_vocab = SequenceVocabulary.from_serializable(contents[\\\"source_vocab\\\"])\\n        target_vocab = SequenceVocabulary.from_serializable(contents[\\\"target_vocab\\\"])\\n        return cls(\\n            source_vocab=source_vocab,\\n            target_vocab=target_vocab,\\n            max_source_length=contents[\\\"max_source_length\\\"],\\n            max_target_length=contents[\\\"max_target_length\\\"],\\n        )\\n\\n    def to_serializable(self):\\n        return {\\n            \\\"source_vocab\\\": self.source_vocab.to_serializable(),\\n            \\\"target_vocab\\\": self.target_vocab.to_serializable(),\\n            \\\"max_source_length\\\": self.max_source_length,\\n            \\\"max_target_length\\\": self.max_target_length,\\n        }\";\n",
       "                var nbb_formatted_code = \"class NMTVectorizer(object):\\n    def __init__(\\n        self, source_vocab, target_vocab, max_source_length, max_target_length\\n    ):\\n        self.source_vocab = source_vocab\\n        self.target_vocab = target_vocab\\n\\n        self.max_source_length = max_source_length\\n        self.max_target_length = max_target_length\\n\\n    def _vectorize(self, indices, vector_length=-1, mask_index=0):\\n        if vector_length < 0:\\n            vector_length = len(indices)\\n        vector = np.zeros(vector_length, dtype=np.int64)\\n        vector[: len(indices)] = indices\\n        vector[len(indices) :] = mask_index\\n        return vector\\n\\n    def _get_source_indices(self, text):\\n        indices = [self.source_vocab.begin_seq_index]\\n        indices.extend(\\n            self.source_vocab.lookup_token(token) for token in text.split(\\\" \\\")\\n        )\\n        indices.append(self.source_vocab.end_seq_index)\\n        return indices\\n\\n    def _get_target_indices(self, text):\\n        indices = [self.target_vocab.lookup_token(token) for token in text.split(\\\" \\\")]\\n        x_indices = [self.target_vocab.begin_seq_index] + indices\\n        y_indices = indices + [self.target_vocab.end_seq_index]\\n        return x_indices, y_indices\\n\\n    def vectorize(self, source_text, target_text, use_dataset_max_lengths=True):\\n        source_vector_length, target_vector_length = -1, -1\\n        if use_dataset_max_lengths:\\n            source_vector_length = self.max_source_length + 2\\n            target_vector_length = self.max_target_length + 1\\n\\n        source_indices = self._get_source_indices(source_text)\\n        source_vector = self._vectorize(\\n            source_indices,\\n            vector_length=source_vector_length,\\n            mask_index=self.source_vocab.mask_index,\\n        )\\n\\n        target_x_indices, target_y_indices = self._get_target_indices(target_text)\\n        target_x_vector = self._vectorize(\\n            target_x_indices,\\n            vector_length=target_vector_length,\\n            mask_index=self.target_vocab.mask_index,\\n        )\\n\\n        target_y_vector = self._vectorize(\\n            target_y_indices,\\n            vector_length=target_vector_length,\\n            mask_index=self.target_vocab.mask_index,\\n        )\\n        return {\\n            \\\"source_vector\\\": source_vector,\\n            \\\"target_x_vector\\\": target_x_vector,\\n            \\\"target_y_vector\\\": target_y_vector,\\n            \\\"source_length\\\": len(source_indices),\\n        }\\n\\n    @classmethod\\n    def from_dataframe(cls, bitext_df):\\n        source_vocab = SequenceVocabulary()\\n        target_vocab = SequenceVocabulary()\\n\\n        max_source_length, max_target_length = 0, 0\\n\\n        for _, row in bitext_df.iterrows():\\n            source_tokens = row[\\\"source_language\\\"].split(\\\" \\\")\\n            if len(source_tokens) > max_source_length:\\n                max_source_length = len(source_tokens)\\n            for token in source_tokens:\\n                source_vocab.add_token(token)\\n\\n            target_tokens = row[\\\"target_language\\\"].split(\\\" \\\")\\n            if len(target_tokens) > max_target_length:\\n                max_target_length = len(target_tokens)\\n            for token in target_tokens:\\n                target_vocab.add_token(token)\\n        return cls(source_vocab, target_vocab, max_source_length, max_target_length)\\n\\n    @classmethod\\n    def from_serializable(cls, contents):\\n        source_vocab = SequenceVocabulary.from_serializable(contents[\\\"source_vocab\\\"])\\n        target_vocab = SequenceVocabulary.from_serializable(contents[\\\"target_vocab\\\"])\\n        return cls(\\n            source_vocab=source_vocab,\\n            target_vocab=target_vocab,\\n            max_source_length=contents[\\\"max_source_length\\\"],\\n            max_target_length=contents[\\\"max_target_length\\\"],\\n        )\\n\\n    def to_serializable(self):\\n        return {\\n            \\\"source_vocab\\\": self.source_vocab.to_serializable(),\\n            \\\"target_vocab\\\": self.target_vocab.to_serializable(),\\n            \\\"max_source_length\\\": self.max_source_length,\\n            \\\"max_target_length\\\": self.max_target_length,\\n        }\";\n",
       "                var nbb_cells = Jupyter.notebook.get_cells();\n",
       "                for (var i = 0; i < nbb_cells.length; ++i) {\n",
       "                    if (nbb_cells[i].input_prompt_number == nbb_cell_id) {\n",
       "                        if (nbb_cells[i].get_text() == nbb_unformatted_code) {\n",
       "                             nbb_cells[i].set_text(nbb_formatted_code);\n",
       "                        }\n",
       "                        break;\n",
       "                    }\n",
       "                }\n",
       "            }, 500);\n",
       "            "
      ],
      "text/plain": [
       "<IPython.core.display.Javascript object>"
      ]
     },
     "metadata": {},
     "output_type": "display_data"
    }
   ],
   "source": [
    "class NMTVectorizer(object):\n",
    "    def __init__(\n",
    "        self, source_vocab, target_vocab, max_source_length, max_target_length\n",
    "    ):\n",
    "        self.source_vocab = source_vocab\n",
    "        self.target_vocab = target_vocab\n",
    "\n",
    "        self.max_source_length = max_source_length\n",
    "        self.max_target_length = max_target_length\n",
    "\n",
    "    def _vectorize(self, indices, vector_length=-1, mask_index=0):\n",
    "        if vector_length < 0:\n",
    "            vector_length = len(indices)\n",
    "        vector = np.zeros(vector_length, dtype=np.int64)\n",
    "        vector[: len(indices)] = indices\n",
    "        vector[len(indices) :] = mask_index\n",
    "        return vector\n",
    "\n",
    "    def _get_source_indices(self, text):\n",
    "        indices = [self.source_vocab.begin_seq_index]\n",
    "        indices.extend(\n",
    "            self.source_vocab.lookup_token(token) for token in text.split(\" \")\n",
    "        )\n",
    "        indices.append(self.source_vocab.end_seq_index)\n",
    "        return indices\n",
    "\n",
    "    def _get_target_indices(self, text):\n",
    "        indices = [self.target_vocab.lookup_token(token) for token in text.split(\" \")]\n",
    "        x_indices = [self.target_vocab.begin_seq_index] + indices\n",
    "        y_indices = indices + [self.target_vocab.end_seq_index]\n",
    "        return x_indices, y_indices\n",
    "\n",
    "    def vectorize(self, source_text, target_text, use_dataset_max_lengths=True):\n",
    "        source_vector_length, target_vector_length = -1, -1\n",
    "        if use_dataset_max_lengths:\n",
    "            source_vector_length = self.max_source_length + 2\n",
    "            target_vector_length = self.max_target_length + 1\n",
    "\n",
    "        source_indices = self._get_source_indices(source_text)\n",
    "        source_vector = self._vectorize(\n",
    "            source_indices,\n",
    "            vector_length=source_vector_length,\n",
    "            mask_index=self.source_vocab.mask_index,\n",
    "        )\n",
    "\n",
    "        target_x_indices, target_y_indices = self._get_target_indices(target_text)\n",
    "        target_x_vector = self._vectorize(\n",
    "            target_x_indices,\n",
    "            vector_length=target_vector_length,\n",
    "            mask_index=self.target_vocab.mask_index,\n",
    "        )\n",
    "\n",
    "        target_y_vector = self._vectorize(\n",
    "            target_y_indices,\n",
    "            vector_length=target_vector_length,\n",
    "            mask_index=self.target_vocab.mask_index,\n",
    "        )\n",
    "        return {\n",
    "            \"source_vector\": source_vector,\n",
    "            \"target_x_vector\": target_x_vector,\n",
    "            \"target_y_vector\": target_y_vector,\n",
    "            \"source_length\": len(source_indices),\n",
    "        }\n",
    "\n",
    "    @classmethod\n",
    "    def from_dataframe(cls, bitext_df):\n",
    "        source_vocab = SequenceVocabulary()\n",
    "        target_vocab = SequenceVocabulary()\n",
    "\n",
    "        max_source_length, max_target_length = 0, 0\n",
    "\n",
    "        for _, row in bitext_df.iterrows():\n",
    "            source_tokens = row[\"source_language\"].split(\" \")\n",
    "            if len(source_tokens) > max_source_length:\n",
    "                max_source_length = len(source_tokens)\n",
    "            for token in source_tokens:\n",
    "                source_vocab.add_token(token)\n",
    "\n",
    "            target_tokens = row[\"target_language\"].split(\" \")\n",
    "            if len(target_tokens) > max_target_length:\n",
    "                max_target_length = len(target_tokens)\n",
    "            for token in target_tokens:\n",
    "                target_vocab.add_token(token)\n",
    "        return cls(source_vocab, target_vocab, max_source_length, max_target_length)\n",
    "\n",
    "    @classmethod\n",
    "    def from_serializable(cls, contents):\n",
    "        source_vocab = SequenceVocabulary.from_serializable(contents[\"source_vocab\"])\n",
    "        target_vocab = SequenceVocabulary.from_serializable(contents[\"target_vocab\"])\n",
    "        return cls(\n",
    "            source_vocab=source_vocab,\n",
    "            target_vocab=target_vocab,\n",
    "            max_source_length=contents[\"max_source_length\"],\n",
    "            max_target_length=contents[\"max_target_length\"],\n",
    "        )\n",
    "\n",
    "    def to_serializable(self):\n",
    "        return {\n",
    "            \"source_vocab\": self.source_vocab.to_serializable(),\n",
    "            \"target_vocab\": self.target_vocab.to_serializable(),\n",
    "            \"max_source_length\": self.max_source_length,\n",
    "            \"max_target_length\": self.max_target_length,\n",
    "        }"
   ]
  },
  {
   "cell_type": "code",
   "execution_count": 5,
   "id": "ff66aaf6",
   "metadata": {},
   "outputs": [
    {
     "data": {
      "application/javascript": [
       "\n",
       "            setTimeout(function() {\n",
       "                var nbb_cell_id = 5;\n",
       "                var nbb_unformatted_code = \"class NMTDataset(Dataset):\\n    def __init__(self, text_df, vectorizer):\\n        self.text_df = text_df\\n        self._vectorizer = vectorizer\\n\\n        self.train_df = self.text_df[self.text_df.split == \\\"train\\\"]\\n        self.train_size = len(self.train_df)\\n\\n        self.val_df = self.text_df[self.text_df.split == \\\"val\\\"]\\n        self.val_size = len(self.val_df)\\n\\n        self.test_df = self.text_df[self.text_df.split == \\\"test\\\"]\\n        self.test_size = len(self.test_df)\\n\\n        self._lookup_dict = {\\n            \\\"train\\\": (self.train_df, self.train_size),\\n            \\\"val\\\": (self.val_df, self.val_size),\\n            \\\"test\\\": (self.test_df, self.test_size),\\n        }\\n        self.set_split(\\\"train\\\")\\n\\n    @classmethod\\n    def load_dataset_and_make_vectorizer(cls, dataset_csv):\\n        text_df = pd.read_csv(dataset_csv)\\n        train_subset = text_df[text_df.split == \\\"train\\\"]\\n        return cls(text_df, NMTVectorizer.from_dataframe(train_subset))\\n\\n    @classmethod\\n    def load_dataset_and_load_vectorizer(cls, dataset_csv, vectorizer_filepath):\\n        text_df = pd.read_csv(dataset_csv)\\n        vectorizer = cls.load_vectorizer_only(vectorizer_filepath)\\n        return cls(text_df, vectorizer)\\n\\n    @staticmethod\\n    def load_vectorizer_only(vectorizer_filepath):\\n        with open(vectorizer_filepath) as fp:\\n            return NMTVectorizer.from_serializable(json.load(fp))\\n\\n    def save_vectorizer(self, vectorizer_filepath):\\n        with open(vectorizer_filepath, \\\"w\\\") as fp:\\n            json.dump(self._vectorizer.to_serializable(), fp)\\n\\n    def get_vectorizer(self):\\n        return self._vectorizer\\n\\n    def set_split(self, split=\\\"train\\\"):\\n        self._train_split = split\\n        self._target_df, self._target_size = self._lookup_dict[split]\\n\\n    def __len__(self):\\n        return self._target_size\\n\\n    def __getitem__(self, index):\\n        row = self._target_df.iloc[index]\\n        vector_dict = self._vectorizer.vectorize(\\n            row.source_language, row.target_language\\n        )\\n        return {\\n            \\\"x_source\\\": vector_dict[\\\"source_vector\\\"],\\n            \\\"x_target\\\": vector_dict[\\\"target_x_vector\\\"],\\n            \\\"y_target\\\": vector_dict[\\\"target_y_vector\\\"],\\n            \\\"x_source_length\\\": vector_dict[\\\"source_length\\\"],\\n        }\\n\\n    def get_num_batches(self, batch_size):\\n        return len(self) // batch_size\";\n",
       "                var nbb_formatted_code = \"class NMTDataset(Dataset):\\n    def __init__(self, text_df, vectorizer):\\n        self.text_df = text_df\\n        self._vectorizer = vectorizer\\n\\n        self.train_df = self.text_df[self.text_df.split == \\\"train\\\"]\\n        self.train_size = len(self.train_df)\\n\\n        self.val_df = self.text_df[self.text_df.split == \\\"val\\\"]\\n        self.val_size = len(self.val_df)\\n\\n        self.test_df = self.text_df[self.text_df.split == \\\"test\\\"]\\n        self.test_size = len(self.test_df)\\n\\n        self._lookup_dict = {\\n            \\\"train\\\": (self.train_df, self.train_size),\\n            \\\"val\\\": (self.val_df, self.val_size),\\n            \\\"test\\\": (self.test_df, self.test_size),\\n        }\\n        self.set_split(\\\"train\\\")\\n\\n    @classmethod\\n    def load_dataset_and_make_vectorizer(cls, dataset_csv):\\n        text_df = pd.read_csv(dataset_csv)\\n        train_subset = text_df[text_df.split == \\\"train\\\"]\\n        return cls(text_df, NMTVectorizer.from_dataframe(train_subset))\\n\\n    @classmethod\\n    def load_dataset_and_load_vectorizer(cls, dataset_csv, vectorizer_filepath):\\n        text_df = pd.read_csv(dataset_csv)\\n        vectorizer = cls.load_vectorizer_only(vectorizer_filepath)\\n        return cls(text_df, vectorizer)\\n\\n    @staticmethod\\n    def load_vectorizer_only(vectorizer_filepath):\\n        with open(vectorizer_filepath) as fp:\\n            return NMTVectorizer.from_serializable(json.load(fp))\\n\\n    def save_vectorizer(self, vectorizer_filepath):\\n        with open(vectorizer_filepath, \\\"w\\\") as fp:\\n            json.dump(self._vectorizer.to_serializable(), fp)\\n\\n    def get_vectorizer(self):\\n        return self._vectorizer\\n\\n    def set_split(self, split=\\\"train\\\"):\\n        self._train_split = split\\n        self._target_df, self._target_size = self._lookup_dict[split]\\n\\n    def __len__(self):\\n        return self._target_size\\n\\n    def __getitem__(self, index):\\n        row = self._target_df.iloc[index]\\n        vector_dict = self._vectorizer.vectorize(\\n            row.source_language, row.target_language\\n        )\\n        return {\\n            \\\"x_source\\\": vector_dict[\\\"source_vector\\\"],\\n            \\\"x_target\\\": vector_dict[\\\"target_x_vector\\\"],\\n            \\\"y_target\\\": vector_dict[\\\"target_y_vector\\\"],\\n            \\\"x_source_length\\\": vector_dict[\\\"source_length\\\"],\\n        }\\n\\n    def get_num_batches(self, batch_size):\\n        return len(self) // batch_size\";\n",
       "                var nbb_cells = Jupyter.notebook.get_cells();\n",
       "                for (var i = 0; i < nbb_cells.length; ++i) {\n",
       "                    if (nbb_cells[i].input_prompt_number == nbb_cell_id) {\n",
       "                        if (nbb_cells[i].get_text() == nbb_unformatted_code) {\n",
       "                             nbb_cells[i].set_text(nbb_formatted_code);\n",
       "                        }\n",
       "                        break;\n",
       "                    }\n",
       "                }\n",
       "            }, 500);\n",
       "            "
      ],
      "text/plain": [
       "<IPython.core.display.Javascript object>"
      ]
     },
     "metadata": {},
     "output_type": "display_data"
    }
   ],
   "source": [
    "class NMTDataset(Dataset):\n",
    "    def __init__(self, text_df, vectorizer):\n",
    "        self.text_df = text_df\n",
    "        self._vectorizer = vectorizer\n",
    "\n",
    "        self.train_df = self.text_df[self.text_df.split == \"train\"]\n",
    "        self.train_size = len(self.train_df)\n",
    "\n",
    "        self.val_df = self.text_df[self.text_df.split == \"val\"]\n",
    "        self.val_size = len(self.val_df)\n",
    "\n",
    "        self.test_df = self.text_df[self.text_df.split == \"test\"]\n",
    "        self.test_size = len(self.test_df)\n",
    "\n",
    "        self._lookup_dict = {\n",
    "            \"train\": (self.train_df, self.train_size),\n",
    "            \"val\": (self.val_df, self.val_size),\n",
    "            \"test\": (self.test_df, self.test_size),\n",
    "        }\n",
    "        self.set_split(\"train\")\n",
    "\n",
    "    @classmethod\n",
    "    def load_dataset_and_make_vectorizer(cls, dataset_csv):\n",
    "        text_df = pd.read_csv(dataset_csv)\n",
    "        train_subset = text_df[text_df.split == \"train\"]\n",
    "        return cls(text_df, NMTVectorizer.from_dataframe(train_subset))\n",
    "\n",
    "    @classmethod\n",
    "    def load_dataset_and_load_vectorizer(cls, dataset_csv, vectorizer_filepath):\n",
    "        text_df = pd.read_csv(dataset_csv)\n",
    "        vectorizer = cls.load_vectorizer_only(vectorizer_filepath)\n",
    "        return cls(text_df, vectorizer)\n",
    "\n",
    "    @staticmethod\n",
    "    def load_vectorizer_only(vectorizer_filepath):\n",
    "        with open(vectorizer_filepath) as fp:\n",
    "            return NMTVectorizer.from_serializable(json.load(fp))\n",
    "\n",
    "    def save_vectorizer(self, vectorizer_filepath):\n",
    "        with open(vectorizer_filepath, \"w\") as fp:\n",
    "            json.dump(self._vectorizer.to_serializable(), fp)\n",
    "\n",
    "    def get_vectorizer(self):\n",
    "        return self._vectorizer\n",
    "\n",
    "    def set_split(self, split=\"train\"):\n",
    "        self._train_split = split\n",
    "        self._target_df, self._target_size = self._lookup_dict[split]\n",
    "\n",
    "    def __len__(self):\n",
    "        return self._target_size\n",
    "\n",
    "    def __getitem__(self, index):\n",
    "        row = self._target_df.iloc[index]\n",
    "        vector_dict = self._vectorizer.vectorize(\n",
    "            row.source_language, row.target_language\n",
    "        )\n",
    "        return {\n",
    "            \"x_source\": vector_dict[\"source_vector\"],\n",
    "            \"x_target\": vector_dict[\"target_x_vector\"],\n",
    "            \"y_target\": vector_dict[\"target_y_vector\"],\n",
    "            \"x_source_length\": vector_dict[\"source_length\"],\n",
    "        }\n",
    "\n",
    "    def get_num_batches(self, batch_size):\n",
    "        return len(self) // batch_size"
   ]
  },
  {
   "cell_type": "code",
   "execution_count": 6,
   "id": "e7798d96",
   "metadata": {},
   "outputs": [
    {
     "data": {
      "application/javascript": [
       "\n",
       "            setTimeout(function() {\n",
       "                var nbb_cell_id = 6;\n",
       "                var nbb_unformatted_code = \"def generate_nmt_batches(\\n    dataset, batch_size, shuffle=True, drop_last=True, device=\\\"cpu\\\"\\n):\\n    dataloader = DataLoader(\\n        dataset=dataset, batch_size=batch_size, shuffle=shuffle, drop_last=drop_last\\n    )\\n    for data_dict in dataloader:\\n        lengths = data_dict[\\\"x_source_length\\\"].numpy()\\n        sorted_length_indices = lengths.argsort()[::-1].tolist()\\n\\n        out_data_dict = {}\\n        for name, tensor in data_dict.items():\\n            out_data_dict[name] = data_dict[name][sorted_length_indices].to(device)\\n        yield out_data_dict\";\n",
       "                var nbb_formatted_code = \"def generate_nmt_batches(\\n    dataset, batch_size, shuffle=True, drop_last=True, device=\\\"cpu\\\"\\n):\\n    dataloader = DataLoader(\\n        dataset=dataset, batch_size=batch_size, shuffle=shuffle, drop_last=drop_last\\n    )\\n    for data_dict in dataloader:\\n        lengths = data_dict[\\\"x_source_length\\\"].numpy()\\n        sorted_length_indices = lengths.argsort()[::-1].tolist()\\n\\n        out_data_dict = {}\\n        for name, tensor in data_dict.items():\\n            out_data_dict[name] = data_dict[name][sorted_length_indices].to(device)\\n        yield out_data_dict\";\n",
       "                var nbb_cells = Jupyter.notebook.get_cells();\n",
       "                for (var i = 0; i < nbb_cells.length; ++i) {\n",
       "                    if (nbb_cells[i].input_prompt_number == nbb_cell_id) {\n",
       "                        if (nbb_cells[i].get_text() == nbb_unformatted_code) {\n",
       "                             nbb_cells[i].set_text(nbb_formatted_code);\n",
       "                        }\n",
       "                        break;\n",
       "                    }\n",
       "                }\n",
       "            }, 500);\n",
       "            "
      ],
      "text/plain": [
       "<IPython.core.display.Javascript object>"
      ]
     },
     "metadata": {},
     "output_type": "display_data"
    }
   ],
   "source": [
    "def generate_nmt_batches(\n",
    "    dataset, batch_size, shuffle=True, drop_last=True, device=\"cpu\"\n",
    "):\n",
    "    dataloader = DataLoader(\n",
    "        dataset=dataset, batch_size=batch_size, shuffle=shuffle, drop_last=drop_last\n",
    "    )\n",
    "    for data_dict in dataloader:\n",
    "        lengths = data_dict[\"x_source_length\"].numpy()\n",
    "        sorted_length_indices = lengths.argsort()[::-1].tolist()\n",
    "\n",
    "        out_data_dict = {}\n",
    "        for name, tensor in data_dict.items():\n",
    "            out_data_dict[name] = data_dict[name][sorted_length_indices].to(device)\n",
    "        yield out_data_dict"
   ]
  },
  {
   "cell_type": "markdown",
   "id": "59580f79",
   "metadata": {},
   "source": [
    "### NMT Model with No Sampling\n",
    "\n",
    "Components:\n",
    "\n",
    "1. NMTEncoder\n",
    "    - accepts as input a source sequence to be embedded and fed through a bi-directional GRU\n",
    "2. NMTDecoder\n",
    "    - using the encoder state and attention, the decoder generates a new sequence\n",
    "    - the ground truth target sequence is used as input to the decoder at each time step\n",
    "    - an alternative formulation would allow some of the decoder's own choices to be used as input\n",
    "    - this is referred to as curriculum learning, learning to search\n",
    "        - TODO: Look up references for this. I believe Bengio has a paper from the image captioning competitions. Hal Daume has tons on this and is the main NLP guy for it.\n",
    "3. NMTModel\n",
    "    - Combines the encoder and decoder into a single class."
   ]
  },
  {
   "cell_type": "code",
   "execution_count": 7,
   "id": "a9fb4230",
   "metadata": {},
   "outputs": [
    {
     "data": {
      "application/javascript": [
       "\n",
       "            setTimeout(function() {\n",
       "                var nbb_cell_id = 7;\n",
       "                var nbb_unformatted_code = \"def verbose_attention(encoder_state_vectors, query_vector):\\n    batch_size, num_vectors, vector_size = encoder_state_vectors.size()\\n    vector_scores = torch.sum(\\n        encoder_state_vectors * query_vector.view(batch_size, 1, vector_size), dim=2\\n    )\\n    vector_probabilities = F.softmax(vector_scores, dim=1)\\n    weighted_vectors = encoder_state_vectors * vector_probabilities.view(\\n        batch_size, num_vectors, 1\\n    )\\n    context_vectors = torch.sum(weighted_vectors, dim=1)\\n    return context_vectors, vector_probabilities, vector_scores\\n\\n\\ndef terse_attention(encoder_state_vectors, query_vector):\\n    vector_scores = torch.matmul(\\n        encoder_state_vectors, query_vector.unsqueeze(dim=2)\\n    ).squeeze()\\n    vector_probabilities = F.softmax(vector_scores, dim=-1)\\n    context_vectors = torch.matmul(\\n        encoder_state_vectors.transpose(-2, -1), vector_probabilities.unsqueeze(dim=2)\\n    ).squeeze()\\n    return context_vectors, vector_probabilities\";\n",
       "                var nbb_formatted_code = \"def verbose_attention(encoder_state_vectors, query_vector):\\n    batch_size, num_vectors, vector_size = encoder_state_vectors.size()\\n    vector_scores = torch.sum(\\n        encoder_state_vectors * query_vector.view(batch_size, 1, vector_size), dim=2\\n    )\\n    vector_probabilities = F.softmax(vector_scores, dim=1)\\n    weighted_vectors = encoder_state_vectors * vector_probabilities.view(\\n        batch_size, num_vectors, 1\\n    )\\n    context_vectors = torch.sum(weighted_vectors, dim=1)\\n    return context_vectors, vector_probabilities, vector_scores\\n\\n\\ndef terse_attention(encoder_state_vectors, query_vector):\\n    vector_scores = torch.matmul(\\n        encoder_state_vectors, query_vector.unsqueeze(dim=2)\\n    ).squeeze()\\n    vector_probabilities = F.softmax(vector_scores, dim=-1)\\n    context_vectors = torch.matmul(\\n        encoder_state_vectors.transpose(-2, -1), vector_probabilities.unsqueeze(dim=2)\\n    ).squeeze()\\n    return context_vectors, vector_probabilities\";\n",
       "                var nbb_cells = Jupyter.notebook.get_cells();\n",
       "                for (var i = 0; i < nbb_cells.length; ++i) {\n",
       "                    if (nbb_cells[i].input_prompt_number == nbb_cell_id) {\n",
       "                        if (nbb_cells[i].get_text() == nbb_unformatted_code) {\n",
       "                             nbb_cells[i].set_text(nbb_formatted_code);\n",
       "                        }\n",
       "                        break;\n",
       "                    }\n",
       "                }\n",
       "            }, 500);\n",
       "            "
      ],
      "text/plain": [
       "<IPython.core.display.Javascript object>"
      ]
     },
     "metadata": {},
     "output_type": "display_data"
    }
   ],
   "source": [
    "def verbose_attention(encoder_state_vectors, query_vector):\n",
    "    batch_size, num_vectors, vector_size = encoder_state_vectors.size()\n",
    "    vector_scores = torch.sum(\n",
    "        encoder_state_vectors * query_vector.view(batch_size, 1, vector_size), dim=2\n",
    "    )\n",
    "    vector_probabilities = F.softmax(vector_scores, dim=1)\n",
    "    weighted_vectors = encoder_state_vectors * vector_probabilities.view(\n",
    "        batch_size, num_vectors, 1\n",
    "    )\n",
    "    context_vectors = torch.sum(weighted_vectors, dim=1)\n",
    "    return context_vectors, vector_probabilities, vector_scores\n",
    "\n",
    "\n",
    "def terse_attention(encoder_state_vectors, query_vector):\n",
    "    vector_scores = torch.matmul(\n",
    "        encoder_state_vectors, query_vector.unsqueeze(dim=2)\n",
    "    ).squeeze()\n",
    "    vector_probabilities = F.softmax(vector_scores, dim=-1)\n",
    "    context_vectors = torch.matmul(\n",
    "        encoder_state_vectors.transpose(-2, -1), vector_probabilities.unsqueeze(dim=2)\n",
    "    ).squeeze()\n",
    "    return context_vectors, vector_probabilities"
   ]
  },
  {
   "cell_type": "code",
   "execution_count": 8,
   "id": "206a7669",
   "metadata": {},
   "outputs": [
    {
     "data": {
      "application/javascript": [
       "\n",
       "            setTimeout(function() {\n",
       "                var nbb_cell_id = 8;\n",
       "                var nbb_unformatted_code = \"class NMTEncoder(nn.Module):\\n    def __init__(self, num_embeddings, embedding_size, rnn_hidden_size):\\n        \\\"\\\"\\\"\\n        Args:\\n            num_embeddings (int): number of embeddings is the size of source vocabulary\\n            embedding_size (int): size of the embedding vectors\\n            rnn_hidden_size (int): size of the RNN hidden state vectors\\n        \\\"\\\"\\\"\\n        super(NMTEncoder, self).__init__()\\n\\n        self.source_embedding = nn.Embedding(\\n            num_embeddings, embedding_size, padding_idx=0\\n        )\\n        self.birnn = nn.GRU(\\n            embedding_size, rnn_hidden_size, bidirectional=True, batch_first=True\\n        )\\n\\n    def forward(self, x_source, x_lengths):\\n        \\\"\\\"\\\"The forward pass of the model\\n\\n        Args:\\n            x_source (torch.Tensor): the input data tensor.\\n                x_source.shape is (batch, seq_size)\\n            x_lengths (torch.Tensor): a vector of lengths for each item in the batch\\n        Returns:\\n            a tuple: x_unpacked (torch.Tensor), x_birnn_h (torch.Tensor)\\n                x_unpacked.shape = (batch, seq_size, rnn_hidden_size * 2)\\n                x_birnn_h.shape = (batch, rnn_hidden_size * 2)\\n        \\\"\\\"\\\"\\n        x_embedded = self.source_embedding(x_source)\\n        # create PackedSequence; x_packed.data.shape=(number_items, embeddign_size)\\n        x_packed = pack_padded_sequence(\\n            x_embedded,\\n            x_lengths.detach().cpu().numpy(),\\n            batch_first=True,\\n            enforce_sorted=False,\\n        )\\n\\n        # x_birnn_h.shape = (num_rnn, batch_size, feature_size)\\n        x_birnn_out, x_birnn_h = self.birnn(x_packed)\\n        # permute to (batch_size, num_rnn, feature_size)\\n        x_birnn_h = x_birnn_h.permute(1, 0, 2)\\n\\n        # flatten features; reshape to (batch_size, num_rnn * feature_size)\\n        #  (recall: -1 takes the remaining positions,\\n        #           flattening the two RNN hidden vectors into 1)\\n        x_birnn_h = x_birnn_h.contiguous().view(x_birnn_h.size(0), -1)\\n\\n        x_unpacked, _ = pad_packed_sequence(x_birnn_out, batch_first=True)\\n\\n        return x_unpacked, x_birnn_h\";\n",
       "                var nbb_formatted_code = \"class NMTEncoder(nn.Module):\\n    def __init__(self, num_embeddings, embedding_size, rnn_hidden_size):\\n        \\\"\\\"\\\"\\n        Args:\\n            num_embeddings (int): number of embeddings is the size of source vocabulary\\n            embedding_size (int): size of the embedding vectors\\n            rnn_hidden_size (int): size of the RNN hidden state vectors\\n        \\\"\\\"\\\"\\n        super(NMTEncoder, self).__init__()\\n\\n        self.source_embedding = nn.Embedding(\\n            num_embeddings, embedding_size, padding_idx=0\\n        )\\n        self.birnn = nn.GRU(\\n            embedding_size, rnn_hidden_size, bidirectional=True, batch_first=True\\n        )\\n\\n    def forward(self, x_source, x_lengths):\\n        \\\"\\\"\\\"The forward pass of the model\\n\\n        Args:\\n            x_source (torch.Tensor): the input data tensor.\\n                x_source.shape is (batch, seq_size)\\n            x_lengths (torch.Tensor): a vector of lengths for each item in the batch\\n        Returns:\\n            a tuple: x_unpacked (torch.Tensor), x_birnn_h (torch.Tensor)\\n                x_unpacked.shape = (batch, seq_size, rnn_hidden_size * 2)\\n                x_birnn_h.shape = (batch, rnn_hidden_size * 2)\\n        \\\"\\\"\\\"\\n        x_embedded = self.source_embedding(x_source)\\n        # create PackedSequence; x_packed.data.shape=(number_items, embeddign_size)\\n        x_packed = pack_padded_sequence(\\n            x_embedded,\\n            x_lengths.detach().cpu().numpy(),\\n            batch_first=True,\\n            enforce_sorted=False,\\n        )\\n\\n        # x_birnn_h.shape = (num_rnn, batch_size, feature_size)\\n        x_birnn_out, x_birnn_h = self.birnn(x_packed)\\n        # permute to (batch_size, num_rnn, feature_size)\\n        x_birnn_h = x_birnn_h.permute(1, 0, 2)\\n\\n        # flatten features; reshape to (batch_size, num_rnn * feature_size)\\n        #  (recall: -1 takes the remaining positions,\\n        #           flattening the two RNN hidden vectors into 1)\\n        x_birnn_h = x_birnn_h.contiguous().view(x_birnn_h.size(0), -1)\\n\\n        x_unpacked, _ = pad_packed_sequence(x_birnn_out, batch_first=True)\\n\\n        return x_unpacked, x_birnn_h\";\n",
       "                var nbb_cells = Jupyter.notebook.get_cells();\n",
       "                for (var i = 0; i < nbb_cells.length; ++i) {\n",
       "                    if (nbb_cells[i].input_prompt_number == nbb_cell_id) {\n",
       "                        if (nbb_cells[i].get_text() == nbb_unformatted_code) {\n",
       "                             nbb_cells[i].set_text(nbb_formatted_code);\n",
       "                        }\n",
       "                        break;\n",
       "                    }\n",
       "                }\n",
       "            }, 500);\n",
       "            "
      ],
      "text/plain": [
       "<IPython.core.display.Javascript object>"
      ]
     },
     "metadata": {},
     "output_type": "display_data"
    }
   ],
   "source": [
    "class NMTEncoder(nn.Module):\n",
    "    def __init__(self, num_embeddings, embedding_size, rnn_hidden_size):\n",
    "        \"\"\"\n",
    "        Args:\n",
    "            num_embeddings (int): number of embeddings is the size of source vocabulary\n",
    "            embedding_size (int): size of the embedding vectors\n",
    "            rnn_hidden_size (int): size of the RNN hidden state vectors\n",
    "        \"\"\"\n",
    "        super(NMTEncoder, self).__init__()\n",
    "\n",
    "        self.source_embedding = nn.Embedding(\n",
    "            num_embeddings, embedding_size, padding_idx=0\n",
    "        )\n",
    "        self.birnn = nn.GRU(\n",
    "            embedding_size, rnn_hidden_size, bidirectional=True, batch_first=True\n",
    "        )\n",
    "\n",
    "    def forward(self, x_source, x_lengths):\n",
    "        \"\"\"The forward pass of the model\n",
    "\n",
    "        Args:\n",
    "            x_source (torch.Tensor): the input data tensor.\n",
    "                x_source.shape is (batch, seq_size)\n",
    "            x_lengths (torch.Tensor): a vector of lengths for each item in the batch\n",
    "        Returns:\n",
    "            a tuple: x_unpacked (torch.Tensor), x_birnn_h (torch.Tensor)\n",
    "                x_unpacked.shape = (batch, seq_size, rnn_hidden_size * 2)\n",
    "                x_birnn_h.shape = (batch, rnn_hidden_size * 2)\n",
    "        \"\"\"\n",
    "        x_embedded = self.source_embedding(x_source)\n",
    "        # create PackedSequence; x_packed.data.shape=(number_items, embeddign_size)\n",
    "        x_packed = pack_padded_sequence(\n",
    "            x_embedded,\n",
    "            x_lengths.detach().cpu().numpy(),\n",
    "            batch_first=True,\n",
    "            enforce_sorted=False,\n",
    "        )\n",
    "\n",
    "        # x_birnn_h.shape = (num_rnn, batch_size, feature_size)\n",
    "        x_birnn_out, x_birnn_h = self.birnn(x_packed)\n",
    "        # permute to (batch_size, num_rnn, feature_size)\n",
    "        x_birnn_h = x_birnn_h.permute(1, 0, 2)\n",
    "\n",
    "        # flatten features; reshape to (batch_size, num_rnn * feature_size)\n",
    "        #  (recall: -1 takes the remaining positions,\n",
    "        #           flattening the two RNN hidden vectors into 1)\n",
    "        x_birnn_h = x_birnn_h.contiguous().view(x_birnn_h.size(0), -1)\n",
    "\n",
    "        x_unpacked, _ = pad_packed_sequence(x_birnn_out, batch_first=True)\n",
    "\n",
    "        return x_unpacked, x_birnn_h"
   ]
  },
  {
   "cell_type": "code",
   "execution_count": 9,
   "id": "95920076",
   "metadata": {},
   "outputs": [
    {
     "data": {
      "application/javascript": [
       "\n",
       "            setTimeout(function() {\n",
       "                var nbb_cell_id = 9;\n",
       "                var nbb_unformatted_code = \"class NMTDecoder(nn.Module):\\n    def __init__(self, num_embeddings, embedding_size, rnn_hidden_size, bos_index):\\n        \\\"\\\"\\\"\\n        Args:\\n            num_embeddings (int): number of embeddings is also the number of\\n                unique words in target vocabulary\\n            embedding_size (int): the embedding vector size\\n            rnn_hidden_size (int): size of the hidden rnn state\\n            bos_index(int): begin-of-sequence index\\n        \\\"\\\"\\\"\\n        super(NMTDecoder, self).__init__()\\n        self._rnn_hidden_size = rnn_hidden_size\\n        self.target_embedding = nn.Embedding(\\n            num_embeddings=num_embeddings, embedding_dim=embedding_size, padding_idx=0\\n        )\\n        self.gru_cell = nn.GRUCell(embedding_size + rnn_hidden_size, rnn_hidden_size)\\n        self.hidden_map = nn.Linear(rnn_hidden_size, rnn_hidden_size)\\n        self.classifier = nn.Linear(rnn_hidden_size * 2, num_embeddings)\\n        self.bos_index = bos_index\\n\\n    def _init_indices(self, batch_size):\\n        \\\"\\\"\\\"return the BEGIN-OF-SEQUENCE index vector\\\"\\\"\\\"\\n        return torch.ones(batch_size, dtype=torch.int64) * self.bos_index\\n\\n    def _init_context_vectors(self, batch_size):\\n        \\\"\\\"\\\"return a zeros vector for initializing the context\\\"\\\"\\\"\\n        return torch.zeros(batch_size, self._rnn_hidden_size)\\n\\n    def forward(self, encoder_state, initial_hidden_state, target_sequence):\\n        \\\"\\\"\\\"The forward pass of the model\\n\\n        Args:\\n            encoder_state (torch.Tensor): the output of the NMTEncoder\\n            initial_hidden_state (torch.Tensor): The last hidden state in the  NMTEncoder\\n            target_sequence (torch.Tensor): the target text data tensor\\n        Returns:\\n            output_vectors (torch.Tensor): prediction vectors at each output step\\n        \\\"\\\"\\\"\\n        # We are making an assumption there: The batch is on first\\n        # The input is (Batch, Seq)\\n        # We want to iterate over sequence so we permute it to (S, B)\\n        target_sequence = target_sequence.permute(1, 0)\\n        output_sequence_size = target_sequence.size(0)\\n\\n        # use the provided encoder hidden state as the initial hidden state\\n        h_t = self.hidden_map(initial_hidden_state)\\n\\n        batch_size = encoder_state.size(0)\\n        # initialize context vectors to zeros\\n        context_vectors = self._init_context_vectors(batch_size)\\n        # initialize first y_t word as BOS\\n        y_t_index = self._init_indices(batch_size)\\n\\n        h_t = h_t.to(encoder_state.device)\\n        y_t_index = y_t_index.to(encoder_state.device)\\n        context_vectors = context_vectors.to(encoder_state.device)\\n\\n        output_vectors = []\\n        self._cached_p_attn = []\\n        self._cached_ht = []\\n        self._cached_decoder_state = encoder_state.cpu().detach().numpy()\\n\\n        for i in range(output_sequence_size):\\n            y_t_index = target_sequence[i]\\n\\n            # Step 1: Embed word and concat with previous context\\n            y_input_vector = self.target_embedding(y_t_index)\\n            rnn_input = torch.cat([y_input_vector, context_vectors], dim=1)\\n\\n            # Step 2: Make a GRU step, getting a new hidden vector\\n            h_t = self.gru_cell(rnn_input, h_t)\\n            self._cached_ht.append(h_t.cpu().detach().numpy())\\n\\n            # Step 3: Use the current hidden to attend to the encoder state\\n            context_vectors, p_attn, _ = verbose_attention(\\n                encoder_state_vectors=encoder_state, query_vector=h_t\\n            )\\n\\n            # auxillary: cache the attention probabilities for visualization\\n            self._cached_p_attn.append(p_attn.cpu().detach().numpy())\\n\\n            # Step 4: Use the current hidden and context vectors to make a prediction to the next word\\n            prediction_vector = torch.cat((context_vectors, h_t), dim=1)\\n            score_for_y_t_index = self.classifier(F.dropout(prediction_vector, 0.3))\\n\\n            # auxillary: collect the prediction scores\\n            output_vectors.append(score_for_y_t_index)\\n\\n        output_vectors = torch.stack(output_vectors).permute(1, 0, 2)\\n\\n        return output_vectors\";\n",
       "                var nbb_formatted_code = \"class NMTDecoder(nn.Module):\\n    def __init__(self, num_embeddings, embedding_size, rnn_hidden_size, bos_index):\\n        \\\"\\\"\\\"\\n        Args:\\n            num_embeddings (int): number of embeddings is also the number of\\n                unique words in target vocabulary\\n            embedding_size (int): the embedding vector size\\n            rnn_hidden_size (int): size of the hidden rnn state\\n            bos_index(int): begin-of-sequence index\\n        \\\"\\\"\\\"\\n        super(NMTDecoder, self).__init__()\\n        self._rnn_hidden_size = rnn_hidden_size\\n        self.target_embedding = nn.Embedding(\\n            num_embeddings=num_embeddings, embedding_dim=embedding_size, padding_idx=0\\n        )\\n        self.gru_cell = nn.GRUCell(embedding_size + rnn_hidden_size, rnn_hidden_size)\\n        self.hidden_map = nn.Linear(rnn_hidden_size, rnn_hidden_size)\\n        self.classifier = nn.Linear(rnn_hidden_size * 2, num_embeddings)\\n        self.bos_index = bos_index\\n\\n    def _init_indices(self, batch_size):\\n        \\\"\\\"\\\"return the BEGIN-OF-SEQUENCE index vector\\\"\\\"\\\"\\n        return torch.ones(batch_size, dtype=torch.int64) * self.bos_index\\n\\n    def _init_context_vectors(self, batch_size):\\n        \\\"\\\"\\\"return a zeros vector for initializing the context\\\"\\\"\\\"\\n        return torch.zeros(batch_size, self._rnn_hidden_size)\\n\\n    def forward(self, encoder_state, initial_hidden_state, target_sequence):\\n        \\\"\\\"\\\"The forward pass of the model\\n\\n        Args:\\n            encoder_state (torch.Tensor): the output of the NMTEncoder\\n            initial_hidden_state (torch.Tensor): The last hidden state in the  NMTEncoder\\n            target_sequence (torch.Tensor): the target text data tensor\\n        Returns:\\n            output_vectors (torch.Tensor): prediction vectors at each output step\\n        \\\"\\\"\\\"\\n        # We are making an assumption there: The batch is on first\\n        # The input is (Batch, Seq)\\n        # We want to iterate over sequence so we permute it to (S, B)\\n        target_sequence = target_sequence.permute(1, 0)\\n        output_sequence_size = target_sequence.size(0)\\n\\n        # use the provided encoder hidden state as the initial hidden state\\n        h_t = self.hidden_map(initial_hidden_state)\\n\\n        batch_size = encoder_state.size(0)\\n        # initialize context vectors to zeros\\n        context_vectors = self._init_context_vectors(batch_size)\\n        # initialize first y_t word as BOS\\n        y_t_index = self._init_indices(batch_size)\\n\\n        h_t = h_t.to(encoder_state.device)\\n        y_t_index = y_t_index.to(encoder_state.device)\\n        context_vectors = context_vectors.to(encoder_state.device)\\n\\n        output_vectors = []\\n        self._cached_p_attn = []\\n        self._cached_ht = []\\n        self._cached_decoder_state = encoder_state.cpu().detach().numpy()\\n\\n        for i in range(output_sequence_size):\\n            y_t_index = target_sequence[i]\\n\\n            # Step 1: Embed word and concat with previous context\\n            y_input_vector = self.target_embedding(y_t_index)\\n            rnn_input = torch.cat([y_input_vector, context_vectors], dim=1)\\n\\n            # Step 2: Make a GRU step, getting a new hidden vector\\n            h_t = self.gru_cell(rnn_input, h_t)\\n            self._cached_ht.append(h_t.cpu().detach().numpy())\\n\\n            # Step 3: Use the current hidden to attend to the encoder state\\n            context_vectors, p_attn, _ = verbose_attention(\\n                encoder_state_vectors=encoder_state, query_vector=h_t\\n            )\\n\\n            # auxillary: cache the attention probabilities for visualization\\n            self._cached_p_attn.append(p_attn.cpu().detach().numpy())\\n\\n            # Step 4: Use the current hidden and context vectors to make a prediction to the next word\\n            prediction_vector = torch.cat((context_vectors, h_t), dim=1)\\n            score_for_y_t_index = self.classifier(F.dropout(prediction_vector, 0.3))\\n\\n            # auxillary: collect the prediction scores\\n            output_vectors.append(score_for_y_t_index)\\n\\n        output_vectors = torch.stack(output_vectors).permute(1, 0, 2)\\n\\n        return output_vectors\";\n",
       "                var nbb_cells = Jupyter.notebook.get_cells();\n",
       "                for (var i = 0; i < nbb_cells.length; ++i) {\n",
       "                    if (nbb_cells[i].input_prompt_number == nbb_cell_id) {\n",
       "                        if (nbb_cells[i].get_text() == nbb_unformatted_code) {\n",
       "                             nbb_cells[i].set_text(nbb_formatted_code);\n",
       "                        }\n",
       "                        break;\n",
       "                    }\n",
       "                }\n",
       "            }, 500);\n",
       "            "
      ],
      "text/plain": [
       "<IPython.core.display.Javascript object>"
      ]
     },
     "metadata": {},
     "output_type": "display_data"
    }
   ],
   "source": [
    "class NMTDecoder(nn.Module):\n",
    "    def __init__(self, num_embeddings, embedding_size, rnn_hidden_size, bos_index):\n",
    "        \"\"\"\n",
    "        Args:\n",
    "            num_embeddings (int): number of embeddings is also the number of\n",
    "                unique words in target vocabulary\n",
    "            embedding_size (int): the embedding vector size\n",
    "            rnn_hidden_size (int): size of the hidden rnn state\n",
    "            bos_index(int): begin-of-sequence index\n",
    "        \"\"\"\n",
    "        super(NMTDecoder, self).__init__()\n",
    "        self._rnn_hidden_size = rnn_hidden_size\n",
    "        self.target_embedding = nn.Embedding(\n",
    "            num_embeddings=num_embeddings, embedding_dim=embedding_size, padding_idx=0\n",
    "        )\n",
    "        self.gru_cell = nn.GRUCell(embedding_size + rnn_hidden_size, rnn_hidden_size)\n",
    "        self.hidden_map = nn.Linear(rnn_hidden_size, rnn_hidden_size)\n",
    "        self.classifier = nn.Linear(rnn_hidden_size * 2, num_embeddings)\n",
    "        self.bos_index = bos_index\n",
    "\n",
    "    def _init_indices(self, batch_size):\n",
    "        \"\"\"return the BEGIN-OF-SEQUENCE index vector\"\"\"\n",
    "        return torch.ones(batch_size, dtype=torch.int64) * self.bos_index\n",
    "\n",
    "    def _init_context_vectors(self, batch_size):\n",
    "        \"\"\"return a zeros vector for initializing the context\"\"\"\n",
    "        return torch.zeros(batch_size, self._rnn_hidden_size)\n",
    "\n",
    "    def forward(self, encoder_state, initial_hidden_state, target_sequence):\n",
    "        \"\"\"The forward pass of the model\n",
    "\n",
    "        Args:\n",
    "            encoder_state (torch.Tensor): the output of the NMTEncoder\n",
    "            initial_hidden_state (torch.Tensor): The last hidden state in the  NMTEncoder\n",
    "            target_sequence (torch.Tensor): the target text data tensor\n",
    "        Returns:\n",
    "            output_vectors (torch.Tensor): prediction vectors at each output step\n",
    "        \"\"\"\n",
    "        # We are making an assumption there: The batch is on first\n",
    "        # The input is (Batch, Seq)\n",
    "        # We want to iterate over sequence so we permute it to (S, B)\n",
    "        target_sequence = target_sequence.permute(1, 0)\n",
    "        output_sequence_size = target_sequence.size(0)\n",
    "\n",
    "        # use the provided encoder hidden state as the initial hidden state\n",
    "        h_t = self.hidden_map(initial_hidden_state)\n",
    "\n",
    "        batch_size = encoder_state.size(0)\n",
    "        # initialize context vectors to zeros\n",
    "        context_vectors = self._init_context_vectors(batch_size)\n",
    "        # initialize first y_t word as BOS\n",
    "        y_t_index = self._init_indices(batch_size)\n",
    "\n",
    "        h_t = h_t.to(encoder_state.device)\n",
    "        y_t_index = y_t_index.to(encoder_state.device)\n",
    "        context_vectors = context_vectors.to(encoder_state.device)\n",
    "\n",
    "        output_vectors = []\n",
    "        self._cached_p_attn = []\n",
    "        self._cached_ht = []\n",
    "        self._cached_decoder_state = encoder_state.cpu().detach().numpy()\n",
    "\n",
    "        for i in range(output_sequence_size):\n",
    "            y_t_index = target_sequence[i]\n",
    "\n",
    "            # Step 1: Embed word and concat with previous context\n",
    "            y_input_vector = self.target_embedding(y_t_index)\n",
    "            rnn_input = torch.cat([y_input_vector, context_vectors], dim=1)\n",
    "\n",
    "            # Step 2: Make a GRU step, getting a new hidden vector\n",
    "            h_t = self.gru_cell(rnn_input, h_t)\n",
    "            self._cached_ht.append(h_t.cpu().detach().numpy())\n",
    "\n",
    "            # Step 3: Use the current hidden to attend to the encoder state\n",
    "            context_vectors, p_attn, _ = verbose_attention(\n",
    "                encoder_state_vectors=encoder_state, query_vector=h_t\n",
    "            )\n",
    "\n",
    "            # auxillary: cache the attention probabilities for visualization\n",
    "            self._cached_p_attn.append(p_attn.cpu().detach().numpy())\n",
    "\n",
    "            # Step 4: Use the current hidden and context vectors to make a prediction to the next word\n",
    "            prediction_vector = torch.cat((context_vectors, h_t), dim=1)\n",
    "            score_for_y_t_index = self.classifier(F.dropout(prediction_vector, 0.3))\n",
    "\n",
    "            # auxillary: collect the prediction scores\n",
    "            output_vectors.append(score_for_y_t_index)\n",
    "\n",
    "        output_vectors = torch.stack(output_vectors).permute(1, 0, 2)\n",
    "\n",
    "        return output_vectors"
   ]
  },
  {
   "cell_type": "code",
   "execution_count": 10,
   "id": "d0ac9d86",
   "metadata": {},
   "outputs": [
    {
     "data": {
      "application/javascript": [
       "\n",
       "            setTimeout(function() {\n",
       "                var nbb_cell_id = 10;\n",
       "                var nbb_unformatted_code = \"class NMTModel(nn.Module):\\n    \\\"\\\"\\\"The Neural Machine Translation Model\\\"\\\"\\\"\\n\\n    def __init__(\\n        self,\\n        source_vocab_size,\\n        source_embedding_size,\\n        target_vocab_size,\\n        target_embedding_size,\\n        encoding_size,\\n        target_bos_index,\\n    ):\\n        \\\"\\\"\\\"\\n        Args:\\n            source_vocab_size (int): number of unique words in source language\\n            source_embedding_size (int): size of the source embedding vectors\\n            target_vocab_size (int): number of unique words in target language\\n            target_embedding_size (int): size of the target embedding vectors\\n            encoding_size (int): the size of the encoder RNN.\\n        \\\"\\\"\\\"\\n        super(NMTModel, self).__init__()\\n        self.encoder = NMTEncoder(\\n            num_embeddings=source_vocab_size,\\n            embedding_size=source_embedding_size,\\n            rnn_hidden_size=encoding_size,\\n        )\\n        decoding_size = encoding_size * 2\\n        self.decoder = NMTDecoder(\\n            num_embeddings=target_vocab_size,\\n            embedding_size=target_embedding_size,\\n            rnn_hidden_size=decoding_size,\\n            bos_index=target_bos_index,\\n        )\\n\\n    def forward(self, x_source, x_source_lengths, target_sequence):\\n        \\\"\\\"\\\"The forward pass of the model\\n\\n        Args:\\n            x_source (torch.Tensor): the source text data tensor.\\n                x_source.shape should be (batch, vectorizer.max_source_length)\\n            x_source_lengths torch.Tensor): the length of the sequences in x_source\\n            target_sequence (torch.Tensor): the target text data tensor\\n        Returns:\\n            decoded_states (torch.Tensor): prediction vectors at each output step\\n        \\\"\\\"\\\"\\n        encoder_state, final_hidden_states = self.encoder(x_source, x_source_lengths)\\n        decoded_states = self.decoder(\\n            encoder_state=encoder_state,\\n            initial_hidden_state=final_hidden_states,\\n            target_sequence=target_sequence,\\n        )\\n        return decoded_states\";\n",
       "                var nbb_formatted_code = \"class NMTModel(nn.Module):\\n    \\\"\\\"\\\"The Neural Machine Translation Model\\\"\\\"\\\"\\n\\n    def __init__(\\n        self,\\n        source_vocab_size,\\n        source_embedding_size,\\n        target_vocab_size,\\n        target_embedding_size,\\n        encoding_size,\\n        target_bos_index,\\n    ):\\n        \\\"\\\"\\\"\\n        Args:\\n            source_vocab_size (int): number of unique words in source language\\n            source_embedding_size (int): size of the source embedding vectors\\n            target_vocab_size (int): number of unique words in target language\\n            target_embedding_size (int): size of the target embedding vectors\\n            encoding_size (int): the size of the encoder RNN.\\n        \\\"\\\"\\\"\\n        super(NMTModel, self).__init__()\\n        self.encoder = NMTEncoder(\\n            num_embeddings=source_vocab_size,\\n            embedding_size=source_embedding_size,\\n            rnn_hidden_size=encoding_size,\\n        )\\n        decoding_size = encoding_size * 2\\n        self.decoder = NMTDecoder(\\n            num_embeddings=target_vocab_size,\\n            embedding_size=target_embedding_size,\\n            rnn_hidden_size=decoding_size,\\n            bos_index=target_bos_index,\\n        )\\n\\n    def forward(self, x_source, x_source_lengths, target_sequence):\\n        \\\"\\\"\\\"The forward pass of the model\\n\\n        Args:\\n            x_source (torch.Tensor): the source text data tensor.\\n                x_source.shape should be (batch, vectorizer.max_source_length)\\n            x_source_lengths torch.Tensor): the length of the sequences in x_source\\n            target_sequence (torch.Tensor): the target text data tensor\\n        Returns:\\n            decoded_states (torch.Tensor): prediction vectors at each output step\\n        \\\"\\\"\\\"\\n        encoder_state, final_hidden_states = self.encoder(x_source, x_source_lengths)\\n        decoded_states = self.decoder(\\n            encoder_state=encoder_state,\\n            initial_hidden_state=final_hidden_states,\\n            target_sequence=target_sequence,\\n        )\\n        return decoded_states\";\n",
       "                var nbb_cells = Jupyter.notebook.get_cells();\n",
       "                for (var i = 0; i < nbb_cells.length; ++i) {\n",
       "                    if (nbb_cells[i].input_prompt_number == nbb_cell_id) {\n",
       "                        if (nbb_cells[i].get_text() == nbb_unformatted_code) {\n",
       "                             nbb_cells[i].set_text(nbb_formatted_code);\n",
       "                        }\n",
       "                        break;\n",
       "                    }\n",
       "                }\n",
       "            }, 500);\n",
       "            "
      ],
      "text/plain": [
       "<IPython.core.display.Javascript object>"
      ]
     },
     "metadata": {},
     "output_type": "display_data"
    }
   ],
   "source": [
    "class NMTModel(nn.Module):\n",
    "    \"\"\"The Neural Machine Translation Model\"\"\"\n",
    "\n",
    "    def __init__(\n",
    "        self,\n",
    "        source_vocab_size,\n",
    "        source_embedding_size,\n",
    "        target_vocab_size,\n",
    "        target_embedding_size,\n",
    "        encoding_size,\n",
    "        target_bos_index,\n",
    "    ):\n",
    "        \"\"\"\n",
    "        Args:\n",
    "            source_vocab_size (int): number of unique words in source language\n",
    "            source_embedding_size (int): size of the source embedding vectors\n",
    "            target_vocab_size (int): number of unique words in target language\n",
    "            target_embedding_size (int): size of the target embedding vectors\n",
    "            encoding_size (int): the size of the encoder RNN.\n",
    "        \"\"\"\n",
    "        super(NMTModel, self).__init__()\n",
    "        self.encoder = NMTEncoder(\n",
    "            num_embeddings=source_vocab_size,\n",
    "            embedding_size=source_embedding_size,\n",
    "            rnn_hidden_size=encoding_size,\n",
    "        )\n",
    "        decoding_size = encoding_size * 2\n",
    "        self.decoder = NMTDecoder(\n",
    "            num_embeddings=target_vocab_size,\n",
    "            embedding_size=target_embedding_size,\n",
    "            rnn_hidden_size=decoding_size,\n",
    "            bos_index=target_bos_index,\n",
    "        )\n",
    "\n",
    "    def forward(self, x_source, x_source_lengths, target_sequence):\n",
    "        \"\"\"The forward pass of the model\n",
    "\n",
    "        Args:\n",
    "            x_source (torch.Tensor): the source text data tensor.\n",
    "                x_source.shape should be (batch, vectorizer.max_source_length)\n",
    "            x_source_lengths torch.Tensor): the length of the sequences in x_source\n",
    "            target_sequence (torch.Tensor): the target text data tensor\n",
    "        Returns:\n",
    "            decoded_states (torch.Tensor): prediction vectors at each output step\n",
    "        \"\"\"\n",
    "        encoder_state, final_hidden_states = self.encoder(x_source, x_source_lengths)\n",
    "        decoded_states = self.decoder(\n",
    "            encoder_state=encoder_state,\n",
    "            initial_hidden_state=final_hidden_states,\n",
    "            target_sequence=target_sequence,\n",
    "        )\n",
    "        return decoded_states"
   ]
  },
  {
   "cell_type": "code",
   "execution_count": 11,
   "id": "e5860052",
   "metadata": {},
   "outputs": [
    {
     "data": {
      "application/javascript": [
       "\n",
       "            setTimeout(function() {\n",
       "                var nbb_cell_id = 11;\n",
       "                var nbb_unformatted_code = \"def normalize_sizes(y_pred, y_true):\\n    if len(y_pred.size()) == 3:\\n        y_pred = y_pred.contiguous().view(-1, y_pred.size(2))\\n    if len(y_true.size()) == 2:\\n        y_true = y_true.contiguous().view(-1)\\n    return y_pred, y_true\\n\\n\\ndef compute_accuracy(y_pred, y_true, mask_index):\\n    y_pred, y_true = normalize_sizes(y_pred, y_true)\\n    _, y_pred_indices = y_pred.max(dim=1)\\n    correct_indices = torch.eq(y_pred_indices, y_true).float()\\n    valid_indices = torch.ne(y_true, mask_index).float()\\n    n_correct = (correct_indices * valid_indices).sum().item()\\n    n_valid = valid_indices.sum().item()\\n\\n    return n_correct / n_valid * 100\\n\\n\\ndef sequence_loss(y_pred, y_true, mask_index):\\n    y_pred, y_true = normalize_sizes(y_pred, y_true)\\n    return F.cross_entropy(y_pred, y_true, ignore_index=mask_index)\";\n",
       "                var nbb_formatted_code = \"def normalize_sizes(y_pred, y_true):\\n    if len(y_pred.size()) == 3:\\n        y_pred = y_pred.contiguous().view(-1, y_pred.size(2))\\n    if len(y_true.size()) == 2:\\n        y_true = y_true.contiguous().view(-1)\\n    return y_pred, y_true\\n\\n\\ndef compute_accuracy(y_pred, y_true, mask_index):\\n    y_pred, y_true = normalize_sizes(y_pred, y_true)\\n    _, y_pred_indices = y_pred.max(dim=1)\\n    correct_indices = torch.eq(y_pred_indices, y_true).float()\\n    valid_indices = torch.ne(y_true, mask_index).float()\\n    n_correct = (correct_indices * valid_indices).sum().item()\\n    n_valid = valid_indices.sum().item()\\n\\n    return n_correct / n_valid * 100\\n\\n\\ndef sequence_loss(y_pred, y_true, mask_index):\\n    y_pred, y_true = normalize_sizes(y_pred, y_true)\\n    return F.cross_entropy(y_pred, y_true, ignore_index=mask_index)\";\n",
       "                var nbb_cells = Jupyter.notebook.get_cells();\n",
       "                for (var i = 0; i < nbb_cells.length; ++i) {\n",
       "                    if (nbb_cells[i].input_prompt_number == nbb_cell_id) {\n",
       "                        if (nbb_cells[i].get_text() == nbb_unformatted_code) {\n",
       "                             nbb_cells[i].set_text(nbb_formatted_code);\n",
       "                        }\n",
       "                        break;\n",
       "                    }\n",
       "                }\n",
       "            }, 500);\n",
       "            "
      ],
      "text/plain": [
       "<IPython.core.display.Javascript object>"
      ]
     },
     "metadata": {},
     "output_type": "display_data"
    }
   ],
   "source": [
    "def normalize_sizes(y_pred, y_true):\n",
    "    if len(y_pred.size()) == 3:\n",
    "        y_pred = y_pred.contiguous().view(-1, y_pred.size(2))\n",
    "    if len(y_true.size()) == 2:\n",
    "        y_true = y_true.contiguous().view(-1)\n",
    "    return y_pred, y_true\n",
    "\n",
    "\n",
    "def compute_accuracy(y_pred, y_true, mask_index):\n",
    "    y_pred, y_true = normalize_sizes(y_pred, y_true)\n",
    "    _, y_pred_indices = y_pred.max(dim=1)\n",
    "    correct_indices = torch.eq(y_pred_indices, y_true).float()\n",
    "    valid_indices = torch.ne(y_true, mask_index).float()\n",
    "    n_correct = (correct_indices * valid_indices).sum().item()\n",
    "    n_valid = valid_indices.sum().item()\n",
    "\n",
    "    return n_correct / n_valid * 100\n",
    "\n",
    "\n",
    "def sequence_loss(y_pred, y_true, mask_index):\n",
    "    y_pred, y_true = normalize_sizes(y_pred, y_true)\n",
    "    return F.cross_entropy(y_pred, y_true, ignore_index=mask_index)"
   ]
  },
  {
   "cell_type": "code",
   "execution_count": 12,
   "id": "b64c1517",
   "metadata": {},
   "outputs": [
    {
     "name": "stdout",
     "output_type": "stream",
     "text": [
      "Using CUDA: False\n"
     ]
    },
    {
     "data": {
      "application/javascript": [
       "\n",
       "            setTimeout(function() {\n",
       "                var nbb_cell_id = 12;\n",
       "                var nbb_unformatted_code = \"args = Namespace(\\n    # Data and path information\\n    dataset_csv=\\\"../data/nmt/simplest_eng_fra.csv\\\",\\n    vectorizer_file=\\\"vectorizer.json\\\",\\n    model_state_file=\\\"model.pth\\\",\\n    save_dir=\\\"models/chapter08/nmt_luong_no_sampling\\\",\\n    # Model hyper parameter\\n    source_embedding_size=64,\\n    target_embedding_size=64,\\n    encoding_size=64,\\n    # Training hyper parameter\\n    num_epochs=100,\\n    learning_rate=5e-4,\\n    batch_size=64,\\n    seed=1337,\\n    early_stopping_criteria=5,\\n    # Runtime hyper parameter\\n    cuda=True,\\n    catch_keyboard_interrupt=True,\\n    reload_from_files=False,\\n    expand_filepaths_to_save_dir=True,\\n)\\n\\nif not torch.cuda.is_available():\\n    args.cuda = False\\n\\nargs.device = torch.device(\\\"cuda\\\" if args.cuda else \\\"cpu\\\")\\n\\nprint(\\\"Using CUDA: {}\\\".format(args.cuda))\\n\\n\\nif args.expand_filepaths_to_save_dir:\\n    args.vectorizer_file = os.path.join(args.save_dir, args.vectorizer_file)\\n\\n    args.model_state_file = os.path.join(args.save_dir, args.model_state_file)\\n\\n# Set seed for reproducibility\\nutils.set_seed_everywhere(args.seed, args.cuda)\\n\\n# handle dirs\\nutils.handle_dirs(args.save_dir)\";\n",
       "                var nbb_formatted_code = \"args = Namespace(\\n    # Data and path information\\n    dataset_csv=\\\"../data/nmt/simplest_eng_fra.csv\\\",\\n    vectorizer_file=\\\"vectorizer.json\\\",\\n    model_state_file=\\\"model.pth\\\",\\n    save_dir=\\\"models/chapter08/nmt_luong_no_sampling\\\",\\n    # Model hyper parameter\\n    source_embedding_size=64,\\n    target_embedding_size=64,\\n    encoding_size=64,\\n    # Training hyper parameter\\n    num_epochs=100,\\n    learning_rate=5e-4,\\n    batch_size=64,\\n    seed=1337,\\n    early_stopping_criteria=5,\\n    # Runtime hyper parameter\\n    cuda=True,\\n    catch_keyboard_interrupt=True,\\n    reload_from_files=False,\\n    expand_filepaths_to_save_dir=True,\\n)\\n\\nif not torch.cuda.is_available():\\n    args.cuda = False\\n\\nargs.device = torch.device(\\\"cuda\\\" if args.cuda else \\\"cpu\\\")\\n\\nprint(\\\"Using CUDA: {}\\\".format(args.cuda))\\n\\n\\nif args.expand_filepaths_to_save_dir:\\n    args.vectorizer_file = os.path.join(args.save_dir, args.vectorizer_file)\\n\\n    args.model_state_file = os.path.join(args.save_dir, args.model_state_file)\\n\\n# Set seed for reproducibility\\nutils.set_seed_everywhere(args.seed, args.cuda)\\n\\n# handle dirs\\nutils.handle_dirs(args.save_dir)\";\n",
       "                var nbb_cells = Jupyter.notebook.get_cells();\n",
       "                for (var i = 0; i < nbb_cells.length; ++i) {\n",
       "                    if (nbb_cells[i].input_prompt_number == nbb_cell_id) {\n",
       "                        if (nbb_cells[i].get_text() == nbb_unformatted_code) {\n",
       "                             nbb_cells[i].set_text(nbb_formatted_code);\n",
       "                        }\n",
       "                        break;\n",
       "                    }\n",
       "                }\n",
       "            }, 500);\n",
       "            "
      ],
      "text/plain": [
       "<IPython.core.display.Javascript object>"
      ]
     },
     "metadata": {},
     "output_type": "display_data"
    }
   ],
   "source": [
    "args = Namespace(\n",
    "    # Data and path information\n",
    "    dataset_csv=\"../data/nmt/simplest_eng_fra.csv\",\n",
    "    vectorizer_file=\"vectorizer.json\",\n",
    "    model_state_file=\"model.pth\",\n",
    "    save_dir=\"models/chapter08/nmt_luong_no_sampling\",\n",
    "    # Model hyper parameter\n",
    "    source_embedding_size=64,\n",
    "    target_embedding_size=64,\n",
    "    encoding_size=64,\n",
    "    # Training hyper parameter\n",
    "    num_epochs=100,\n",
    "    learning_rate=5e-4,\n",
    "    batch_size=64,\n",
    "    seed=1337,\n",
    "    early_stopping_criteria=5,\n",
    "    # Runtime hyper parameter\n",
    "    cuda=True,\n",
    "    catch_keyboard_interrupt=True,\n",
    "    reload_from_files=False,\n",
    "    expand_filepaths_to_save_dir=True,\n",
    ")\n",
    "\n",
    "if not torch.cuda.is_available():\n",
    "    args.cuda = False\n",
    "\n",
    "args.device = torch.device(\"cuda\" if args.cuda else \"cpu\")\n",
    "\n",
    "print(\"Using CUDA: {}\".format(args.cuda))\n",
    "\n",
    "\n",
    "if args.expand_filepaths_to_save_dir:\n",
    "    args.vectorizer_file = os.path.join(args.save_dir, args.vectorizer_file)\n",
    "\n",
    "    args.model_state_file = os.path.join(args.save_dir, args.model_state_file)\n",
    "\n",
    "# Set seed for reproducibility\n",
    "utils.set_seed_everywhere(args.seed, args.cuda)\n",
    "\n",
    "# handle dirs\n",
    "utils.handle_dirs(args.save_dir)"
   ]
  },
  {
   "cell_type": "code",
   "execution_count": 13,
   "id": "39199d47",
   "metadata": {},
   "outputs": [
    {
     "name": "stdout",
     "output_type": "stream",
     "text": [
      "NMTModel(\n",
      "  (encoder): NMTEncoder(\n",
      "    (source_embedding): Embedding(3025, 64, padding_idx=0)\n",
      "    (birnn): GRU(64, 64, batch_first=True, bidirectional=True)\n",
      "  )\n",
      "  (decoder): NMTDecoder(\n",
      "    (target_embedding): Embedding(4911, 64, padding_idx=0)\n",
      "    (gru_cell): GRUCell(192, 128)\n",
      "    (hidden_map): Linear(in_features=128, out_features=128, bias=True)\n",
      "    (classifier): Linear(in_features=256, out_features=4911, bias=True)\n",
      "  )\n",
      ")\n"
     ]
    },
    {
     "data": {
      "application/javascript": [
       "\n",
       "            setTimeout(function() {\n",
       "                var nbb_cell_id = 13;\n",
       "                var nbb_unformatted_code = \"dataset = NMTDataset.load_dataset_and_make_vectorizer(args.dataset_csv)\\ndataset.save_vectorizer(args.vectorizer_file)\\nvectorizer = dataset.get_vectorizer()\\nmodel = NMTModel(\\n    source_vocab_size=len(vectorizer.source_vocab),\\n    source_embedding_size=args.source_embedding_size,\\n    target_vocab_size=len(vectorizer.target_vocab),\\n    target_embedding_size=args.target_embedding_size,\\n    encoding_size=args.encoding_size,\\n    target_bos_index=vectorizer.target_vocab.begin_seq_index,\\n)\\nprint(model)\\nmodel = model.to(args.device)\\noptimizer = optim.Adam(model.parameters(), lr=args.learning_rate)\\nscheduler = optim.lr_scheduler.ReduceLROnPlateau(\\n    optimizer=optimizer, mode=\\\"min\\\", factor=0.5, patience=1\\n)\";\n",
       "                var nbb_formatted_code = \"dataset = NMTDataset.load_dataset_and_make_vectorizer(args.dataset_csv)\\ndataset.save_vectorizer(args.vectorizer_file)\\nvectorizer = dataset.get_vectorizer()\\nmodel = NMTModel(\\n    source_vocab_size=len(vectorizer.source_vocab),\\n    source_embedding_size=args.source_embedding_size,\\n    target_vocab_size=len(vectorizer.target_vocab),\\n    target_embedding_size=args.target_embedding_size,\\n    encoding_size=args.encoding_size,\\n    target_bos_index=vectorizer.target_vocab.begin_seq_index,\\n)\\nprint(model)\\nmodel = model.to(args.device)\\noptimizer = optim.Adam(model.parameters(), lr=args.learning_rate)\\nscheduler = optim.lr_scheduler.ReduceLROnPlateau(\\n    optimizer=optimizer, mode=\\\"min\\\", factor=0.5, patience=1\\n)\";\n",
       "                var nbb_cells = Jupyter.notebook.get_cells();\n",
       "                for (var i = 0; i < nbb_cells.length; ++i) {\n",
       "                    if (nbb_cells[i].input_prompt_number == nbb_cell_id) {\n",
       "                        if (nbb_cells[i].get_text() == nbb_unformatted_code) {\n",
       "                             nbb_cells[i].set_text(nbb_formatted_code);\n",
       "                        }\n",
       "                        break;\n",
       "                    }\n",
       "                }\n",
       "            }, 500);\n",
       "            "
      ],
      "text/plain": [
       "<IPython.core.display.Javascript object>"
      ]
     },
     "metadata": {},
     "output_type": "display_data"
    }
   ],
   "source": [
    "dataset = NMTDataset.load_dataset_and_make_vectorizer(args.dataset_csv)\n",
    "dataset.save_vectorizer(args.vectorizer_file)\n",
    "vectorizer = dataset.get_vectorizer()\n",
    "model = NMTModel(\n",
    "    source_vocab_size=len(vectorizer.source_vocab),\n",
    "    source_embedding_size=args.source_embedding_size,\n",
    "    target_vocab_size=len(vectorizer.target_vocab),\n",
    "    target_embedding_size=args.target_embedding_size,\n",
    "    encoding_size=args.encoding_size,\n",
    "    target_bos_index=vectorizer.target_vocab.begin_seq_index,\n",
    ")\n",
    "print(model)\n",
    "model = model.to(args.device)\n",
    "optimizer = optim.Adam(model.parameters(), lr=args.learning_rate)\n",
    "scheduler = optim.lr_scheduler.ReduceLROnPlateau(\n",
    "    optimizer=optimizer, mode=\"min\", factor=0.5, patience=1\n",
    ")"
   ]
  },
  {
   "cell_type": "code",
   "execution_count": 14,
   "id": "7bedf8ec",
   "metadata": {
    "scrolled": true
   },
   "outputs": [
    {
     "data": {
      "application/vnd.jupyter.widget-view+json": {
       "model_id": "a0adf4212c8a4fb1b060e9adf05b925c",
       "version_major": 2,
       "version_minor": 0
      },
      "text/plain": [
       "Training Routine:   0%|          | 0/100 [00:00<?, ?it/s]"
      ]
     },
     "metadata": {},
     "output_type": "display_data"
    },
    {
     "data": {
      "application/vnd.jupyter.widget-view+json": {
       "model_id": "56cc33c27f92414dae714b7d2283c6a5",
       "version_major": 2,
       "version_minor": 0
      },
      "text/plain": [
       "split=train:   0%|          | 0/142 [00:00<?, ?it/s]"
      ]
     },
     "metadata": {},
     "output_type": "display_data"
    },
    {
     "data": {
      "application/vnd.jupyter.widget-view+json": {
       "model_id": "d587340ff25343ad978037b037749b38",
       "version_major": 2,
       "version_minor": 0
      },
      "text/plain": [
       "split=val:   0%|          | 0/30 [00:00<?, ?it/s]"
      ]
     },
     "metadata": {},
     "output_type": "display_data"
    },
    {
     "name": "stdout",
     "output_type": "stream",
     "text": [
      "============ Split=train, Size=9138 ============\n",
      "============ Split=val, Size=1955 ============\n",
      "--------------- 0th Epoch Stats---------------\n",
      "Training Loss=5.142246467966428, Training Accuracy=31.828060422727447\n",
      "Validation Loss=4.053562482198078, Validation Accuracy=41.74359698957813.\n",
      "------------------------------------------------------------\n",
      "--------------- 10th Epoch Stats---------------\n",
      "Training Loss=2.1405728921084344, Training Accuracy=57.85677331040806\n",
      "Validation Loss=2.705363154411316, Validation Accuracy=56.411841792220386.\n",
      "------------------------------------------------------------\n",
      "--------------- 20th Epoch Stats---------------\n",
      "Training Loss=1.4635745110646103, Training Accuracy=66.35018309044487\n",
      "Validation Loss=2.5676170110702516, Validation Accuracy=59.34158479695269.\n",
      "------------------------------------------------------------\n",
      "--------------- 30th Epoch Stats---------------\n",
      "Training Loss=1.2246064627674258, Training Accuracy=70.64503503800213\n",
      "Validation Loss=2.5546172698338827, Validation Accuracy=60.43889661554259.\n",
      "------------------------------------------------------------\n",
      "--------------- 40th Epoch Stats---------------\n",
      "Training Loss=1.2140049367723336, Training Accuracy=70.78180249930992\n",
      "Validation Loss=2.561919768651326, Validation Accuracy=60.40036278628064.\n",
      "------------------------------------------------------------\n",
      "--------------- 50th Epoch Stats---------------\n",
      "Training Loss=1.2140450452415033, Training Accuracy=70.891229066963\n",
      "Validation Loss=2.560079582532247, Validation Accuracy=60.66377671724369.\n",
      "------------------------------------------------------------\n",
      "--------------- 60th Epoch Stats---------------\n",
      "Training Loss=1.2107043908515442, Training Accuracy=70.98509725269265\n",
      "Validation Loss=2.5599972883860267, Validation Accuracy=60.392941158333855.\n",
      "------------------------------------------------------------\n",
      "--------------- 70th Epoch Stats---------------\n",
      "Training Loss=1.2108737364621234, Training Accuracy=70.94400860300867\n",
      "Validation Loss=2.554336714744568, Validation Accuracy=60.67028146195439.\n",
      "------------------------------------------------------------\n",
      "--------------- 80th Epoch Stats---------------\n",
      "Training Loss=1.2120698564489123, Training Accuracy=70.98715652273914\n",
      "Validation Loss=2.5592311700185135, Validation Accuracy=60.30654114363086.\n",
      "------------------------------------------------------------\n",
      "--------------- 90th Epoch Stats---------------\n",
      "Training Loss=1.2151754834282567, Training Accuracy=70.83529382257224\n",
      "Validation Loss=2.5625034491221106, Validation Accuracy=60.60847759046372.\n",
      "------------------------------------------------------------\n"
     ]
    },
    {
     "data": {
      "application/javascript": [
       "\n",
       "            setTimeout(function() {\n",
       "                var nbb_cell_id = 14;\n",
       "                var nbb_unformatted_code = \"model = model.to(args.device)\\nmask_index = vectorizer.target_vocab.mask_index\\ntrain_state = utils.make_train_state(args)\\nepoch_bar = notebook.tqdm(desc=\\\"Training Routine\\\", total=args.num_epochs, position=0)\\ndataset.set_split(\\\"train\\\")\\ntrain_bar = notebook.tqdm(\\n    desc=\\\"split=train\\\",\\n    total=dataset.get_num_batches(args.batch_size),\\n    position=1,\\n    leave=True,\\n)\\ndataset.set_split(\\\"val\\\")\\nval_bar = notebook.tqdm(\\n    desc=\\\"split=val\\\",\\n    total=dataset.get_num_batches(args.batch_size),\\n    position=1,\\n    leave=True,\\n)\\n\\nfor epoch_index in range(args.num_epochs):\\n    train_state[\\\"epoch_index\\\"] = epoch_index\\n    # Iterate Over Training Dataset\\n    # Setup: Batch Generator, set loss & acc to 0, set train mode on\\n    dataset.set_split(\\\"train\\\")\\n    if epoch_index == 0:\\n        print(\\n            f\\\"============ Split={dataset._train_split}, Size={len(dataset)} ============\\\"\\n        )\\n    batch_generator = generate_nmt_batches(\\n        dataset, batch_size=args.batch_size, device=args.device\\n    )\\n    training_running_loss, training_running_acc = 0.0, 0.0\\n    model.train()\\n\\n    for batch_index, batch_dict in enumerate(batch_generator):\\n        # 5 Step Training Routine\\n\\n        # Step 1. Zero the Gradients\\n        optimizer.zero_grad()\\n\\n        # Step 2. Compute the gradients\\n        y_pred = model(\\n            batch_dict[\\\"x_source\\\"],\\n            batch_dict[\\\"x_source_length\\\"],\\n            batch_dict[\\\"x_target\\\"],\\n        )\\n\\n        # Step 3. Compute the Output\\n        loss = sequence_loss(y_pred, batch_dict[\\\"y_target\\\"], mask_index=mask_index)\\n\\n        # Step 4. Use loss to produce gradients\\n        loss.backward()\\n\\n        # Step 5. Use Optimizer to take gradient step\\n        optimizer.step()\\n\\n        # Compute the running loss and accuracy\\n        loss_batch = loss.item()\\n        training_running_loss += (loss_batch - training_running_loss) / (\\n            batch_index + 1\\n        )\\n        acc_batch = compute_accuracy(y_pred, batch_dict[\\\"y_target\\\"], mask_index)\\n        training_running_acc += (acc_batch - training_running_acc) / (batch_index + 1)\\n\\n        # Update the bar\\n        train_bar.set_postfix(\\n            loss=training_running_loss, acc=training_running_acc, epoch=epoch_index\\n        )\\n        train_bar.update()\\n    train_state[\\\"train_loss\\\"].append(training_running_loss)\\n    train_state[\\\"train_acc\\\"].append(training_running_acc)\\n\\n    # Iterate Over Val Dataset\\n    # Setup: Batch Generator, set loss and acc to 0, set eval mode on\\n    dataset.set_split(\\\"val\\\")\\n    val_running_loss, val_running_acc = 0.0, 0.0\\n    if len(dataset) > 0:\\n        if epoch_index == 0:\\n            print(\\n                f\\\"============ Split={dataset._train_split}, Size={len(dataset)} ============\\\"\\n            )\\n        batch_generator = utils.generate_batches(\\n            dataset, batch_size=args.batch_size, device=args.device\\n        )\\n        model.eval()\\n\\n        for batch_index, batch_dict in enumerate(batch_generator):\\n            # Step 1. Compute the Output\\n            y_pred = model(\\n                batch_dict[\\\"x_source\\\"],\\n                batch_dict[\\\"x_source_length\\\"],\\n                batch_dict[\\\"x_target\\\"],\\n            )\\n\\n            # Step 2. Compute the loss\\n            loss = sequence_loss(y_pred, batch_dict[\\\"y_target\\\"], mask_index)\\n            loss_batch = loss.item()\\n            val_running_loss += (loss_batch - val_running_loss) / (batch_index + 1)\\n\\n            # Step 3. Compute the accuracy\\n            acc_batch = compute_accuracy(y_pred, batch_dict[\\\"y_target\\\"], mask_index)\\n            val_running_acc += (acc_batch - val_running_acc) / (batch_index + 1)\\n            val_bar.set_postfix(\\n                loss=val_running_loss, acc=val_running_acc, epoch=epoch_index\\n            )\\n            val_bar.update()\\n        train_state[\\\"val_loss\\\"].append(val_running_loss)\\n        train_state[\\\"val_acc\\\"].append(val_running_acc)\\n        scheduler.step(train_state[\\\"val_loss\\\"][-1])\\n    else:\\n        if epoch_index == 0:\\n            print(f\\\"============ Skipping Validation Pass ============\\\")\\n        train_state[\\\"val_loss\\\"].append(val_running_loss)\\n        train_state[\\\"val_acc\\\"].append(val_running_acc)\\n        scheduler.step(train_state[\\\"train_loss\\\"][-1])\\n    train_state = utils.update_train_state(\\n        args=args, model=model, train_state=train_state\\n    )\\n\\n    train_bar.n, val_bar.n = 0, 0\\n    epoch_bar.update()\\n\\n    if train_state[\\\"stop_early\\\"]:\\n        print(\\\"Stopping early....\\\")\\n        break\\n\\n    if epoch_index % 10 == 0:\\n        print(\\n            f\\\"--------------- {epoch_index}th Epoch Stats---------------\\\\n\\\"\\n            f\\\"Training Loss={training_running_loss}, \\\"\\n            f\\\"Training Accuracy={training_running_acc}\\\\n\\\"\\n            f\\\"Validation Loss={val_running_loss}, \\\"\\n            f\\\"Validation Accuracy={val_running_acc}.\\\\n\\\"\\n            \\\"------------------------------------------------------------\\\"\\n        )\";\n",
       "                var nbb_formatted_code = \"model = model.to(args.device)\\nmask_index = vectorizer.target_vocab.mask_index\\ntrain_state = utils.make_train_state(args)\\nepoch_bar = notebook.tqdm(desc=\\\"Training Routine\\\", total=args.num_epochs, position=0)\\ndataset.set_split(\\\"train\\\")\\ntrain_bar = notebook.tqdm(\\n    desc=\\\"split=train\\\",\\n    total=dataset.get_num_batches(args.batch_size),\\n    position=1,\\n    leave=True,\\n)\\ndataset.set_split(\\\"val\\\")\\nval_bar = notebook.tqdm(\\n    desc=\\\"split=val\\\",\\n    total=dataset.get_num_batches(args.batch_size),\\n    position=1,\\n    leave=True,\\n)\\n\\nfor epoch_index in range(args.num_epochs):\\n    train_state[\\\"epoch_index\\\"] = epoch_index\\n    # Iterate Over Training Dataset\\n    # Setup: Batch Generator, set loss & acc to 0, set train mode on\\n    dataset.set_split(\\\"train\\\")\\n    if epoch_index == 0:\\n        print(\\n            f\\\"============ Split={dataset._train_split}, Size={len(dataset)} ============\\\"\\n        )\\n    batch_generator = generate_nmt_batches(\\n        dataset, batch_size=args.batch_size, device=args.device\\n    )\\n    training_running_loss, training_running_acc = 0.0, 0.0\\n    model.train()\\n\\n    for batch_index, batch_dict in enumerate(batch_generator):\\n        # 5 Step Training Routine\\n\\n        # Step 1. Zero the Gradients\\n        optimizer.zero_grad()\\n\\n        # Step 2. Compute the gradients\\n        y_pred = model(\\n            batch_dict[\\\"x_source\\\"],\\n            batch_dict[\\\"x_source_length\\\"],\\n            batch_dict[\\\"x_target\\\"],\\n        )\\n\\n        # Step 3. Compute the Output\\n        loss = sequence_loss(y_pred, batch_dict[\\\"y_target\\\"], mask_index=mask_index)\\n\\n        # Step 4. Use loss to produce gradients\\n        loss.backward()\\n\\n        # Step 5. Use Optimizer to take gradient step\\n        optimizer.step()\\n\\n        # Compute the running loss and accuracy\\n        loss_batch = loss.item()\\n        training_running_loss += (loss_batch - training_running_loss) / (\\n            batch_index + 1\\n        )\\n        acc_batch = compute_accuracy(y_pred, batch_dict[\\\"y_target\\\"], mask_index)\\n        training_running_acc += (acc_batch - training_running_acc) / (batch_index + 1)\\n\\n        # Update the bar\\n        train_bar.set_postfix(\\n            loss=training_running_loss, acc=training_running_acc, epoch=epoch_index\\n        )\\n        train_bar.update()\\n    train_state[\\\"train_loss\\\"].append(training_running_loss)\\n    train_state[\\\"train_acc\\\"].append(training_running_acc)\\n\\n    # Iterate Over Val Dataset\\n    # Setup: Batch Generator, set loss and acc to 0, set eval mode on\\n    dataset.set_split(\\\"val\\\")\\n    val_running_loss, val_running_acc = 0.0, 0.0\\n    if len(dataset) > 0:\\n        if epoch_index == 0:\\n            print(\\n                f\\\"============ Split={dataset._train_split}, Size={len(dataset)} ============\\\"\\n            )\\n        batch_generator = utils.generate_batches(\\n            dataset, batch_size=args.batch_size, device=args.device\\n        )\\n        model.eval()\\n\\n        for batch_index, batch_dict in enumerate(batch_generator):\\n            # Step 1. Compute the Output\\n            y_pred = model(\\n                batch_dict[\\\"x_source\\\"],\\n                batch_dict[\\\"x_source_length\\\"],\\n                batch_dict[\\\"x_target\\\"],\\n            )\\n\\n            # Step 2. Compute the loss\\n            loss = sequence_loss(y_pred, batch_dict[\\\"y_target\\\"], mask_index)\\n            loss_batch = loss.item()\\n            val_running_loss += (loss_batch - val_running_loss) / (batch_index + 1)\\n\\n            # Step 3. Compute the accuracy\\n            acc_batch = compute_accuracy(y_pred, batch_dict[\\\"y_target\\\"], mask_index)\\n            val_running_acc += (acc_batch - val_running_acc) / (batch_index + 1)\\n            val_bar.set_postfix(\\n                loss=val_running_loss, acc=val_running_acc, epoch=epoch_index\\n            )\\n            val_bar.update()\\n        train_state[\\\"val_loss\\\"].append(val_running_loss)\\n        train_state[\\\"val_acc\\\"].append(val_running_acc)\\n        scheduler.step(train_state[\\\"val_loss\\\"][-1])\\n    else:\\n        if epoch_index == 0:\\n            print(f\\\"============ Skipping Validation Pass ============\\\")\\n        train_state[\\\"val_loss\\\"].append(val_running_loss)\\n        train_state[\\\"val_acc\\\"].append(val_running_acc)\\n        scheduler.step(train_state[\\\"train_loss\\\"][-1])\\n    train_state = utils.update_train_state(\\n        args=args, model=model, train_state=train_state\\n    )\\n\\n    train_bar.n, val_bar.n = 0, 0\\n    epoch_bar.update()\\n\\n    if train_state[\\\"stop_early\\\"]:\\n        print(\\\"Stopping early....\\\")\\n        break\\n\\n    if epoch_index % 10 == 0:\\n        print(\\n            f\\\"--------------- {epoch_index}th Epoch Stats---------------\\\\n\\\"\\n            f\\\"Training Loss={training_running_loss}, \\\"\\n            f\\\"Training Accuracy={training_running_acc}\\\\n\\\"\\n            f\\\"Validation Loss={val_running_loss}, \\\"\\n            f\\\"Validation Accuracy={val_running_acc}.\\\\n\\\"\\n            \\\"------------------------------------------------------------\\\"\\n        )\";\n",
       "                var nbb_cells = Jupyter.notebook.get_cells();\n",
       "                for (var i = 0; i < nbb_cells.length; ++i) {\n",
       "                    if (nbb_cells[i].input_prompt_number == nbb_cell_id) {\n",
       "                        if (nbb_cells[i].get_text() == nbb_unformatted_code) {\n",
       "                             nbb_cells[i].set_text(nbb_formatted_code);\n",
       "                        }\n",
       "                        break;\n",
       "                    }\n",
       "                }\n",
       "            }, 500);\n",
       "            "
      ],
      "text/plain": [
       "<IPython.core.display.Javascript object>"
      ]
     },
     "metadata": {},
     "output_type": "display_data"
    }
   ],
   "source": [
    "model = model.to(args.device)\n",
    "mask_index = vectorizer.target_vocab.mask_index\n",
    "train_state = utils.make_train_state(args)\n",
    "epoch_bar = notebook.tqdm(desc=\"Training Routine\", total=args.num_epochs, position=0)\n",
    "dataset.set_split(\"train\")\n",
    "train_bar = notebook.tqdm(\n",
    "    desc=\"split=train\",\n",
    "    total=dataset.get_num_batches(args.batch_size),\n",
    "    position=1,\n",
    "    leave=True,\n",
    ")\n",
    "dataset.set_split(\"val\")\n",
    "val_bar = notebook.tqdm(\n",
    "    desc=\"split=val\",\n",
    "    total=dataset.get_num_batches(args.batch_size),\n",
    "    position=1,\n",
    "    leave=True,\n",
    ")\n",
    "\n",
    "for epoch_index in range(args.num_epochs):\n",
    "    train_state[\"epoch_index\"] = epoch_index\n",
    "    # Iterate Over Training Dataset\n",
    "    # Setup: Batch Generator, set loss & acc to 0, set train mode on\n",
    "    dataset.set_split(\"train\")\n",
    "    if epoch_index == 0:\n",
    "        print(\n",
    "            f\"============ Split={dataset._train_split}, Size={len(dataset)} ============\"\n",
    "        )\n",
    "    batch_generator = generate_nmt_batches(\n",
    "        dataset, batch_size=args.batch_size, device=args.device\n",
    "    )\n",
    "    training_running_loss, training_running_acc = 0.0, 0.0\n",
    "    model.train()\n",
    "\n",
    "    for batch_index, batch_dict in enumerate(batch_generator):\n",
    "        # 5 Step Training Routine\n",
    "\n",
    "        # Step 1. Zero the Gradients\n",
    "        optimizer.zero_grad()\n",
    "\n",
    "        # Step 2. Compute the gradients\n",
    "        y_pred = model(\n",
    "            batch_dict[\"x_source\"],\n",
    "            batch_dict[\"x_source_length\"],\n",
    "            batch_dict[\"x_target\"],\n",
    "        )\n",
    "\n",
    "        # Step 3. Compute the Output\n",
    "        loss = sequence_loss(y_pred, batch_dict[\"y_target\"], mask_index=mask_index)\n",
    "\n",
    "        # Step 4. Use loss to produce gradients\n",
    "        loss.backward()\n",
    "\n",
    "        # Step 5. Use Optimizer to take gradient step\n",
    "        optimizer.step()\n",
    "\n",
    "        # Compute the running loss and accuracy\n",
    "        loss_batch = loss.item()\n",
    "        training_running_loss += (loss_batch - training_running_loss) / (\n",
    "            batch_index + 1\n",
    "        )\n",
    "        acc_batch = compute_accuracy(y_pred, batch_dict[\"y_target\"], mask_index)\n",
    "        training_running_acc += (acc_batch - training_running_acc) / (batch_index + 1)\n",
    "\n",
    "        # Update the bar\n",
    "        train_bar.set_postfix(\n",
    "            loss=training_running_loss, acc=training_running_acc, epoch=epoch_index\n",
    "        )\n",
    "        train_bar.update()\n",
    "    train_state[\"train_loss\"].append(training_running_loss)\n",
    "    train_state[\"train_acc\"].append(training_running_acc)\n",
    "\n",
    "    # Iterate Over Val Dataset\n",
    "    # Setup: Batch Generator, set loss and acc to 0, set eval mode on\n",
    "    dataset.set_split(\"val\")\n",
    "    val_running_loss, val_running_acc = 0.0, 0.0\n",
    "    if len(dataset) > 0:\n",
    "        if epoch_index == 0:\n",
    "            print(\n",
    "                f\"============ Split={dataset._train_split}, Size={len(dataset)} ============\"\n",
    "            )\n",
    "        batch_generator = utils.generate_batches(\n",
    "            dataset, batch_size=args.batch_size, device=args.device\n",
    "        )\n",
    "        model.eval()\n",
    "\n",
    "        for batch_index, batch_dict in enumerate(batch_generator):\n",
    "            # Step 1. Compute the Output\n",
    "            y_pred = model(\n",
    "                batch_dict[\"x_source\"],\n",
    "                batch_dict[\"x_source_length\"],\n",
    "                batch_dict[\"x_target\"],\n",
    "            )\n",
    "\n",
    "            # Step 2. Compute the loss\n",
    "            loss = sequence_loss(y_pred, batch_dict[\"y_target\"], mask_index)\n",
    "            loss_batch = loss.item()\n",
    "            val_running_loss += (loss_batch - val_running_loss) / (batch_index + 1)\n",
    "\n",
    "            # Step 3. Compute the accuracy\n",
    "            acc_batch = compute_accuracy(y_pred, batch_dict[\"y_target\"], mask_index)\n",
    "            val_running_acc += (acc_batch - val_running_acc) / (batch_index + 1)\n",
    "            val_bar.set_postfix(\n",
    "                loss=val_running_loss, acc=val_running_acc, epoch=epoch_index\n",
    "            )\n",
    "            val_bar.update()\n",
    "        train_state[\"val_loss\"].append(val_running_loss)\n",
    "        train_state[\"val_acc\"].append(val_running_acc)\n",
    "        scheduler.step(train_state[\"val_loss\"][-1])\n",
    "    else:\n",
    "        if epoch_index == 0:\n",
    "            print(f\"============ Skipping Validation Pass ============\")\n",
    "        train_state[\"val_loss\"].append(val_running_loss)\n",
    "        train_state[\"val_acc\"].append(val_running_acc)\n",
    "        scheduler.step(train_state[\"train_loss\"][-1])\n",
    "    train_state = utils.update_train_state(\n",
    "        args=args, model=model, train_state=train_state\n",
    "    )\n",
    "\n",
    "    train_bar.n, val_bar.n = 0, 0\n",
    "    epoch_bar.update()\n",
    "\n",
    "    if train_state[\"stop_early\"]:\n",
    "        print(\"Stopping early....\")\n",
    "        break\n",
    "\n",
    "    if epoch_index % 10 == 0:\n",
    "        print(\n",
    "            f\"--------------- {epoch_index}th Epoch Stats---------------\\n\"\n",
    "            f\"Training Loss={training_running_loss}, \"\n",
    "            f\"Training Accuracy={training_running_acc}\\n\"\n",
    "            f\"Validation Loss={val_running_loss}, \"\n",
    "            f\"Validation Accuracy={val_running_acc}.\\n\"\n",
    "            \"------------------------------------------------------------\"\n",
    "        )"
   ]
  },
  {
   "cell_type": "markdown",
   "id": "814897b3",
   "metadata": {},
   "source": [
    "### Evaluation"
   ]
  },
  {
   "cell_type": "code",
   "execution_count": 20,
   "id": "e74ad486",
   "metadata": {},
   "outputs": [
    {
     "data": {
      "application/javascript": [
       "\n",
       "            setTimeout(function() {\n",
       "                var nbb_cell_id = 20;\n",
       "                var nbb_unformatted_code = \"from nltk.translate import bleu_score\\nimport seaborn as sns\\nimport matplotlib.pyplot as plt\\n\\nchencherry = bleu_score.SmoothingFunction()\";\n",
       "                var nbb_formatted_code = \"from nltk.translate import bleu_score\\nimport seaborn as sns\\nimport matplotlib.pyplot as plt\\n\\nchencherry = bleu_score.SmoothingFunction()\";\n",
       "                var nbb_cells = Jupyter.notebook.get_cells();\n",
       "                for (var i = 0; i < nbb_cells.length; ++i) {\n",
       "                    if (nbb_cells[i].input_prompt_number == nbb_cell_id) {\n",
       "                        if (nbb_cells[i].get_text() == nbb_unformatted_code) {\n",
       "                             nbb_cells[i].set_text(nbb_formatted_code);\n",
       "                        }\n",
       "                        break;\n",
       "                    }\n",
       "                }\n",
       "            }, 500);\n",
       "            "
      ],
      "text/plain": [
       "<IPython.core.display.Javascript object>"
      ]
     },
     "metadata": {},
     "output_type": "display_data"
    }
   ],
   "source": [
    "from nltk.translate import bleu_score\n",
    "import seaborn as sns\n",
    "import matplotlib.pyplot as plt\n",
    "\n",
    "chencherry = bleu_score.SmoothingFunction()"
   ]
  },
  {
   "cell_type": "code",
   "execution_count": 21,
   "id": "0db76244",
   "metadata": {},
   "outputs": [
    {
     "data": {
      "application/javascript": [
       "\n",
       "            setTimeout(function() {\n",
       "                var nbb_cell_id = 21;\n",
       "                var nbb_unformatted_code = \"def sentences_from_indices(indices, vocab, strict=True, return_string=True):\\n    ignore_indices = set([vocab.mask_index, vocab.begin_seq_index, vocab_end_seq_index])\\n    out = []\\n    for index in indices:\\n        if index == vocab.begin_seq_index and strict:\\n            continue\\n        elif index == vocab.end_seq_index and strict:\\n            break\\n        else:\\n            out.append(vocab.lookup_index(index))\\n    if return_string:\\n        return \\\" \\\".join(out)\\n    else:\\n        return out\\n\\n\\ndef get_source_sentence(vectorizer, batch_dict, index):\\n    indices = batch_dict[\\\"x_source\\\"][index].cpu().data.numpy()\\n    vocab = vectorizer.source_vocab\\n    return sentence_from_indices(indices, vocab)\\n\\n\\ndef get_true_sentence(vectorizer, batch_dict, index):\\n    return sentence_from_indices(\\n        batch_dict[\\\"y_target\\\"].cpu().data.numpy()[index], vectorizer.target_vocab\\n    )\\n\\n\\ndef get_sampled_sentence(vectorizer, batch_dict, index):\\n    y_pred = model(\\n        x_source=batch_dict[\\\"x_source\\\"],\\n        x_source_lengths=batch_dict[\\\"x_source_length\\\"],\\n        target_sequence=batch_dict[\\\"x_target\\\"],\\n    )\\n    return sentence_from_indices(\\n        torch.max(y_pred, dim=2)[1].cpu().data.numpy()[index], vectorizer.target_vocab\\n    )\\n\\n\\ndef get_all_sentences(vectorizer, batch_dict, index):\\n    return {\\n        \\\"source\\\": get_source_sentence(vectorizer, batch_dict, index),\\n        \\\"truth\\\": get_true_sentence(vectorizer, batch_dict, index),\\n        \\\"sampled\\\": get_sampled_sentence(vectorizer, batch_dict, index),\\n    }\\n\\n\\ndef sentence_from_indices(indices, vocab, strict=True, return_string=True):\\n    ignore_indices = set([vocab.mask_index, vocab.begin_seq_index, vocab.end_seq_index])\\n    out = []\\n    for index in indices:\\n        if index == vocab.begin_seq_index and strict:\\n            continue\\n        elif index == vocab.end_seq_index and strict:\\n            return \\\" \\\".join(out)\\n        else:\\n            out.append(vocab.lookup_index(index))\\n    return \\\" \\\".join(out)\";\n",
       "                var nbb_formatted_code = \"def sentences_from_indices(indices, vocab, strict=True, return_string=True):\\n    ignore_indices = set([vocab.mask_index, vocab.begin_seq_index, vocab_end_seq_index])\\n    out = []\\n    for index in indices:\\n        if index == vocab.begin_seq_index and strict:\\n            continue\\n        elif index == vocab.end_seq_index and strict:\\n            break\\n        else:\\n            out.append(vocab.lookup_index(index))\\n    if return_string:\\n        return \\\" \\\".join(out)\\n    else:\\n        return out\\n\\n\\ndef get_source_sentence(vectorizer, batch_dict, index):\\n    indices = batch_dict[\\\"x_source\\\"][index].cpu().data.numpy()\\n    vocab = vectorizer.source_vocab\\n    return sentence_from_indices(indices, vocab)\\n\\n\\ndef get_true_sentence(vectorizer, batch_dict, index):\\n    return sentence_from_indices(\\n        batch_dict[\\\"y_target\\\"].cpu().data.numpy()[index], vectorizer.target_vocab\\n    )\\n\\n\\ndef get_sampled_sentence(vectorizer, batch_dict, index):\\n    y_pred = model(\\n        x_source=batch_dict[\\\"x_source\\\"],\\n        x_source_lengths=batch_dict[\\\"x_source_length\\\"],\\n        target_sequence=batch_dict[\\\"x_target\\\"],\\n    )\\n    return sentence_from_indices(\\n        torch.max(y_pred, dim=2)[1].cpu().data.numpy()[index], vectorizer.target_vocab\\n    )\\n\\n\\ndef get_all_sentences(vectorizer, batch_dict, index):\\n    return {\\n        \\\"source\\\": get_source_sentence(vectorizer, batch_dict, index),\\n        \\\"truth\\\": get_true_sentence(vectorizer, batch_dict, index),\\n        \\\"sampled\\\": get_sampled_sentence(vectorizer, batch_dict, index),\\n    }\\n\\n\\ndef sentence_from_indices(indices, vocab, strict=True, return_string=True):\\n    ignore_indices = set([vocab.mask_index, vocab.begin_seq_index, vocab.end_seq_index])\\n    out = []\\n    for index in indices:\\n        if index == vocab.begin_seq_index and strict:\\n            continue\\n        elif index == vocab.end_seq_index and strict:\\n            return \\\" \\\".join(out)\\n        else:\\n            out.append(vocab.lookup_index(index))\\n    return \\\" \\\".join(out)\";\n",
       "                var nbb_cells = Jupyter.notebook.get_cells();\n",
       "                for (var i = 0; i < nbb_cells.length; ++i) {\n",
       "                    if (nbb_cells[i].input_prompt_number == nbb_cell_id) {\n",
       "                        if (nbb_cells[i].get_text() == nbb_unformatted_code) {\n",
       "                             nbb_cells[i].set_text(nbb_formatted_code);\n",
       "                        }\n",
       "                        break;\n",
       "                    }\n",
       "                }\n",
       "            }, 500);\n",
       "            "
      ],
      "text/plain": [
       "<IPython.core.display.Javascript object>"
      ]
     },
     "metadata": {},
     "output_type": "display_data"
    }
   ],
   "source": [
    "def sentences_from_indices(indices, vocab, strict=True, return_string=True):\n",
    "    ignore_indices = set([vocab.mask_index, vocab.begin_seq_index, vocab_end_seq_index])\n",
    "    out = []\n",
    "    for index in indices:\n",
    "        if index == vocab.begin_seq_index and strict:\n",
    "            continue\n",
    "        elif index == vocab.end_seq_index and strict:\n",
    "            break\n",
    "        else:\n",
    "            out.append(vocab.lookup_index(index))\n",
    "    if return_string:\n",
    "        return \" \".join(out)\n",
    "    else:\n",
    "        return out\n",
    "\n",
    "\n",
    "def get_source_sentence(vectorizer, batch_dict, index):\n",
    "    indices = batch_dict[\"x_source\"][index].cpu().data.numpy()\n",
    "    vocab = vectorizer.source_vocab\n",
    "    return sentence_from_indices(indices, vocab)\n",
    "\n",
    "\n",
    "def get_true_sentence(vectorizer, batch_dict, index):\n",
    "    return sentence_from_indices(\n",
    "        batch_dict[\"y_target\"].cpu().data.numpy()[index], vectorizer.target_vocab\n",
    "    )\n",
    "\n",
    "\n",
    "def get_sampled_sentence(vectorizer, batch_dict, index):\n",
    "    y_pred = model(\n",
    "        x_source=batch_dict[\"x_source\"],\n",
    "        x_source_lengths=batch_dict[\"x_source_length\"],\n",
    "        target_sequence=batch_dict[\"x_target\"],\n",
    "    )\n",
    "    return sentence_from_indices(\n",
    "        torch.max(y_pred, dim=2)[1].cpu().data.numpy()[index], vectorizer.target_vocab\n",
    "    )\n",
    "\n",
    "\n",
    "def get_all_sentences(vectorizer, batch_dict, index):\n",
    "    return {\n",
    "        \"source\": get_source_sentence(vectorizer, batch_dict, index),\n",
    "        \"truth\": get_true_sentence(vectorizer, batch_dict, index),\n",
    "        \"sampled\": get_sampled_sentence(vectorizer, batch_dict, index),\n",
    "    }\n",
    "\n",
    "\n",
    "def sentence_from_indices(indices, vocab, strict=True, return_string=True):\n",
    "    ignore_indices = set([vocab.mask_index, vocab.begin_seq_index, vocab.end_seq_index])\n",
    "    out = []\n",
    "    for index in indices:\n",
    "        if index == vocab.begin_seq_index and strict:\n",
    "            continue\n",
    "        elif index == vocab.end_seq_index and strict:\n",
    "            return \" \".join(out)\n",
    "        else:\n",
    "            out.append(vocab.lookup_index(index))\n",
    "    return \" \".join(out)"
   ]
  },
  {
   "cell_type": "code",
   "execution_count": 24,
   "id": "8cee8326",
   "metadata": {},
   "outputs": [
    {
     "data": {
      "application/javascript": [
       "\n",
       "            setTimeout(function() {\n",
       "                var nbb_cell_id = 24;\n",
       "                var nbb_unformatted_code = \"class NMTSampler:\\n    def __init__(self, vectorizer, model):\\n        self.vectorizer = vectorizer\\n        self.model = model\\n\\n    def apply_to_batch(self, batch_dict):\\n        self._last_batch = batch_dict\\n        y_pred = self.model(\\n            x_source=batch_dict[\\\"x_source\\\"],\\n            x_source_lengths=batch_dict[\\\"x_source_length\\\"],\\n            target_sequence=batch_dict[\\\"x_target\\\"],\\n        )\\n        self._last_batch[\\\"y_pred\\\"] = y_pred\\n        attention_batched = np.stack(self.model.decoder._cached_p_attn).transpose(\\n            1, 0, 2\\n        )\\n        self._last_batch[\\\"attention\\\"] = attention_batched\\n\\n    def _get_source_sentence(self, index, return_string=True):\\n        indices = self._last_batch[\\\"x_source\\\"][index].cpu().detach().numpy()\\n        vocab = self.vectorizer.source_vocab\\n        return sentence_from_indices(indices, vocab, return_string=return_string)\\n\\n    def _get_reference_sentence(self, index, return_string=True):\\n        indices = self._last_batch[\\\"y_target\\\"][index].cpu().detach().numpy()\\n        vocab = self.vectorizer.target_vocab\\n        return sentence_from_indices(indices, vocab, return_string=return_string)\\n\\n    def _get_sampled_sentence(self, index, return_string=True):\\n        _, all_indices = torch.max(self._last_batch[\\\"y_pred\\\"], dim=2)\\n        sentence_indices = all_indices[index].cpu().detach().numpy()\\n        vocab = self.vectorizer.target_vocab\\n        return sentence_from_indices(\\n            sentence_indices, vocab, return_string=return_string\\n        )\\n\\n    def get_ith_item(self, index, return_string=True):\\n        output = {\\n            \\\"source\\\": self._get_source_sentence(index, return_string=return_string),\\n            \\\"reference\\\": self._get_reference_sentence(\\n                index, return_string=return_string\\n            ),\\n            \\\"sampled\\\": self._get_sampled_sentence(index, return_string=return_string),\\n            \\\"attention\\\": self._last_batch[\\\"attention\\\"][index],\\n        }\\n        reference = output[\\\"reference\\\"]\\n        hypothesis = output[\\\"sampled\\\"]\\n        if not return_string:\\n            reference = \\\" \\\".join(reference)\\n            hypothesis = \\\" \\\".join(hypothesis)\\n        output[\\\"bleu-4\\\"] = bleu_score.sentence_bleu(\\n            references=[reference],\\n            hypothesis=hypothesis,\\n            smoothing_function=chencherry.method1,\\n        )\\n        return output\";\n",
       "                var nbb_formatted_code = \"class NMTSampler:\\n    def __init__(self, vectorizer, model):\\n        self.vectorizer = vectorizer\\n        self.model = model\\n\\n    def apply_to_batch(self, batch_dict):\\n        self._last_batch = batch_dict\\n        y_pred = self.model(\\n            x_source=batch_dict[\\\"x_source\\\"],\\n            x_source_lengths=batch_dict[\\\"x_source_length\\\"],\\n            target_sequence=batch_dict[\\\"x_target\\\"],\\n        )\\n        self._last_batch[\\\"y_pred\\\"] = y_pred\\n        attention_batched = np.stack(self.model.decoder._cached_p_attn).transpose(\\n            1, 0, 2\\n        )\\n        self._last_batch[\\\"attention\\\"] = attention_batched\\n\\n    def _get_source_sentence(self, index, return_string=True):\\n        indices = self._last_batch[\\\"x_source\\\"][index].cpu().detach().numpy()\\n        vocab = self.vectorizer.source_vocab\\n        return sentence_from_indices(indices, vocab, return_string=return_string)\\n\\n    def _get_reference_sentence(self, index, return_string=True):\\n        indices = self._last_batch[\\\"y_target\\\"][index].cpu().detach().numpy()\\n        vocab = self.vectorizer.target_vocab\\n        return sentence_from_indices(indices, vocab, return_string=return_string)\\n\\n    def _get_sampled_sentence(self, index, return_string=True):\\n        _, all_indices = torch.max(self._last_batch[\\\"y_pred\\\"], dim=2)\\n        sentence_indices = all_indices[index].cpu().detach().numpy()\\n        vocab = self.vectorizer.target_vocab\\n        return sentence_from_indices(\\n            sentence_indices, vocab, return_string=return_string\\n        )\\n\\n    def get_ith_item(self, index, return_string=True):\\n        output = {\\n            \\\"source\\\": self._get_source_sentence(index, return_string=return_string),\\n            \\\"reference\\\": self._get_reference_sentence(\\n                index, return_string=return_string\\n            ),\\n            \\\"sampled\\\": self._get_sampled_sentence(index, return_string=return_string),\\n            \\\"attention\\\": self._last_batch[\\\"attention\\\"][index],\\n        }\\n        reference = output[\\\"reference\\\"]\\n        hypothesis = output[\\\"sampled\\\"]\\n        if not return_string:\\n            reference = \\\" \\\".join(reference)\\n            hypothesis = \\\" \\\".join(hypothesis)\\n        output[\\\"bleu-4\\\"] = bleu_score.sentence_bleu(\\n            references=[reference],\\n            hypothesis=hypothesis,\\n            smoothing_function=chencherry.method1,\\n        )\\n        return output\";\n",
       "                var nbb_cells = Jupyter.notebook.get_cells();\n",
       "                for (var i = 0; i < nbb_cells.length; ++i) {\n",
       "                    if (nbb_cells[i].input_prompt_number == nbb_cell_id) {\n",
       "                        if (nbb_cells[i].get_text() == nbb_unformatted_code) {\n",
       "                             nbb_cells[i].set_text(nbb_formatted_code);\n",
       "                        }\n",
       "                        break;\n",
       "                    }\n",
       "                }\n",
       "            }, 500);\n",
       "            "
      ],
      "text/plain": [
       "<IPython.core.display.Javascript object>"
      ]
     },
     "metadata": {},
     "output_type": "display_data"
    }
   ],
   "source": [
    "class NMTSampler:\n",
    "    def __init__(self, vectorizer, model):\n",
    "        self.vectorizer = vectorizer\n",
    "        self.model = model\n",
    "\n",
    "    def apply_to_batch(self, batch_dict):\n",
    "        self._last_batch = batch_dict\n",
    "        y_pred = self.model(\n",
    "            x_source=batch_dict[\"x_source\"],\n",
    "            x_source_lengths=batch_dict[\"x_source_length\"],\n",
    "            target_sequence=batch_dict[\"x_target\"],\n",
    "        )\n",
    "        self._last_batch[\"y_pred\"] = y_pred\n",
    "        attention_batched = np.stack(self.model.decoder._cached_p_attn).transpose(\n",
    "            1, 0, 2\n",
    "        )\n",
    "        self._last_batch[\"attention\"] = attention_batched\n",
    "\n",
    "    def _get_source_sentence(self, index, return_string=True):\n",
    "        indices = self._last_batch[\"x_source\"][index].cpu().detach().numpy()\n",
    "        vocab = self.vectorizer.source_vocab\n",
    "        return sentence_from_indices(indices, vocab, return_string=return_string)\n",
    "\n",
    "    def _get_reference_sentence(self, index, return_string=True):\n",
    "        indices = self._last_batch[\"y_target\"][index].cpu().detach().numpy()\n",
    "        vocab = self.vectorizer.target_vocab\n",
    "        return sentence_from_indices(indices, vocab, return_string=return_string)\n",
    "\n",
    "    def _get_sampled_sentence(self, index, return_string=True):\n",
    "        _, all_indices = torch.max(self._last_batch[\"y_pred\"], dim=2)\n",
    "        sentence_indices = all_indices[index].cpu().detach().numpy()\n",
    "        vocab = self.vectorizer.target_vocab\n",
    "        return sentence_from_indices(\n",
    "            sentence_indices, vocab, return_string=return_string\n",
    "        )\n",
    "\n",
    "    def get_ith_item(self, index, return_string=True):\n",
    "        output = {\n",
    "            \"source\": self._get_source_sentence(index, return_string=return_string),\n",
    "            \"reference\": self._get_reference_sentence(\n",
    "                index, return_string=return_string\n",
    "            ),\n",
    "            \"sampled\": self._get_sampled_sentence(index, return_string=return_string),\n",
    "            \"attention\": self._last_batch[\"attention\"][index],\n",
    "        }\n",
    "        reference = output[\"reference\"]\n",
    "        hypothesis = output[\"sampled\"]\n",
    "        if not return_string:\n",
    "            reference = \" \".join(reference)\n",
    "            hypothesis = \" \".join(hypothesis)\n",
    "        output[\"bleu-4\"] = bleu_score.sentence_bleu(\n",
    "            references=[reference],\n",
    "            hypothesis=hypothesis,\n",
    "            smoothing_function=chencherry.method1,\n",
    "        )\n",
    "        return output"
   ]
  },
  {
   "cell_type": "code",
   "execution_count": 25,
   "id": "b43cbff1",
   "metadata": {},
   "outputs": [
    {
     "data": {
      "application/javascript": [
       "\n",
       "            setTimeout(function() {\n",
       "                var nbb_cell_id = 25;\n",
       "                var nbb_unformatted_code = \"model = model.eval().to(args.device)\\nsampler = NMTSampler(vectorizer, model)\\n\\ndataset.set_split(\\\"test\\\")\\nbatch_generator = generate_nmt_batches(\\n    dataset, batch_size=args.batch_size, device=args.device\\n)\\ntest_results = []\\nfor batch_dict in batch_generator:\\n    sampler.apply_to_batch(batch_dict)\\n    for i in range(args.batch_size):\\n        test_results.append(sampler.get_ith_item(i, False))\";\n",
       "                var nbb_formatted_code = \"model = model.eval().to(args.device)\\nsampler = NMTSampler(vectorizer, model)\\n\\ndataset.set_split(\\\"test\\\")\\nbatch_generator = generate_nmt_batches(\\n    dataset, batch_size=args.batch_size, device=args.device\\n)\\ntest_results = []\\nfor batch_dict in batch_generator:\\n    sampler.apply_to_batch(batch_dict)\\n    for i in range(args.batch_size):\\n        test_results.append(sampler.get_ith_item(i, False))\";\n",
       "                var nbb_cells = Jupyter.notebook.get_cells();\n",
       "                for (var i = 0; i < nbb_cells.length; ++i) {\n",
       "                    if (nbb_cells[i].input_prompt_number == nbb_cell_id) {\n",
       "                        if (nbb_cells[i].get_text() == nbb_unformatted_code) {\n",
       "                             nbb_cells[i].set_text(nbb_formatted_code);\n",
       "                        }\n",
       "                        break;\n",
       "                    }\n",
       "                }\n",
       "            }, 500);\n",
       "            "
      ],
      "text/plain": [
       "<IPython.core.display.Javascript object>"
      ]
     },
     "metadata": {},
     "output_type": "display_data"
    }
   ],
   "source": [
    "model = model.eval().to(args.device)\n",
    "sampler = NMTSampler(vectorizer, model)\n",
    "\n",
    "dataset.set_split(\"test\")\n",
    "batch_generator = generate_nmt_batches(\n",
    "    dataset, batch_size=args.batch_size, device=args.device\n",
    ")\n",
    "test_results = []\n",
    "for batch_dict in batch_generator:\n",
    "    sampler.apply_to_batch(batch_dict)\n",
    "    for i in range(args.batch_size):\n",
    "        test_results.append(sampler.get_ith_item(i, False))"
   ]
  },
  {
   "cell_type": "code",
   "execution_count": 26,
   "id": "2c53b12f",
   "metadata": {},
   "outputs": [
    {
     "data": {
      "text/plain": [
       "(0.6097948772678232, 0.6142899197697873)"
      ]
     },
     "execution_count": 26,
     "metadata": {},
     "output_type": "execute_result"
    },
    {
     "data": {
      "image/png": "[encoded data removed]",
      "text/plain": [
       "<Figure size 432x288 with 1 Axes>"
      ]
     },
     "metadata": {
      "needs_background": "light"
     },
     "output_type": "display_data"
    },
    {
     "data": {
      "application/javascript": [
       "\n",
       "            setTimeout(function() {\n",
       "                var nbb_cell_id = 26;\n",
       "                var nbb_unformatted_code = \"plt.hist(\\n    [\\n        r['bleu-4']\\n        for r in test_results\\n    ],\\n    bins=100\\n);\\nnp.mean(\\n    [\\n        r['bleu-4']\\n        for r in test_results\\n    ],\\n), np.median(\\n    [\\n        r['bleu-4']\\n        for r in test_results\\n    ],\\n)\";\n",
       "                var nbb_formatted_code = \"plt.hist([r[\\\"bleu-4\\\"] for r in test_results], bins=100)\\nnp.mean([r[\\\"bleu-4\\\"] for r in test_results],), np.median(\\n    [r[\\\"bleu-4\\\"] for r in test_results],\\n)\";\n",
       "                var nbb_cells = Jupyter.notebook.get_cells();\n",
       "                for (var i = 0; i < nbb_cells.length; ++i) {\n",
       "                    if (nbb_cells[i].input_prompt_number == nbb_cell_id) {\n",
       "                        if (nbb_cells[i].get_text() == nbb_unformatted_code) {\n",
       "                             nbb_cells[i].set_text(nbb_formatted_code);\n",
       "                        }\n",
       "                        break;\n",
       "                    }\n",
       "                }\n",
       "            }, 500);\n",
       "            "
      ],
      "text/plain": [
       "<IPython.core.display.Javascript object>"
      ]
     },
     "metadata": {},
     "output_type": "display_data"
    }
   ],
   "source": [
    "plt.hist([r[\"bleu-4\"] for r in test_results], bins=100)\n",
    "np.mean([r[\"bleu-4\"] for r in test_results],), np.median(\n",
    "    [r[\"bleu-4\"] for r in test_results],\n",
    ")"
   ]
  },
  {
   "cell_type": "code",
   "execution_count": 27,
   "id": "f3afd725",
   "metadata": {},
   "outputs": [
    {
     "data": {
      "application/javascript": [
       "\n",
       "            setTimeout(function() {\n",
       "                var nbb_cell_id = 27;\n",
       "                var nbb_unformatted_code = \"dataset.set_split('val')\\nbatch_generator = generate_nmt_batches(\\n    dataset,\\n    batch_size=args.batch_size,\\n    device=args.device\\n)\\nbatch_dict = next(batch_generator)\\n\\nmodel = model.eval().to(args.device)\\nsampler = NMTSampler(vectorizer, model)\\nsampler.apply_to_batch(batch_dict)\";\n",
       "                var nbb_formatted_code = \"dataset.set_split(\\\"val\\\")\\nbatch_generator = generate_nmt_batches(\\n    dataset, batch_size=args.batch_size, device=args.device\\n)\\nbatch_dict = next(batch_generator)\\n\\nmodel = model.eval().to(args.device)\\nsampler = NMTSampler(vectorizer, model)\\nsampler.apply_to_batch(batch_dict)\";\n",
       "                var nbb_cells = Jupyter.notebook.get_cells();\n",
       "                for (var i = 0; i < nbb_cells.length; ++i) {\n",
       "                    if (nbb_cells[i].input_prompt_number == nbb_cell_id) {\n",
       "                        if (nbb_cells[i].get_text() == nbb_unformatted_code) {\n",
       "                             nbb_cells[i].set_text(nbb_formatted_code);\n",
       "                        }\n",
       "                        break;\n",
       "                    }\n",
       "                }\n",
       "            }, 500);\n",
       "            "
      ],
      "text/plain": [
       "<IPython.core.display.Javascript object>"
      ]
     },
     "metadata": {},
     "output_type": "display_data"
    }
   ],
   "source": [
    "dataset.set_split(\"val\")\n",
    "batch_generator = generate_nmt_batches(\n",
    "    dataset, batch_size=args.batch_size, device=args.device\n",
    ")\n",
    "batch_dict = next(batch_generator)\n",
    "\n",
    "model = model.eval().to(args.device)\n",
    "sampler = NMTSampler(vectorizer, model)\n",
    "sampler.apply_to_batch(batch_dict)"
   ]
  },
  {
   "cell_type": "code",
   "execution_count": 29,
   "id": "f23c10c7",
   "metadata": {},
   "outputs": [
    {
     "name": "stdout",
     "output_type": "stream",
     "text": [
      "64\n"
     ]
    },
    {
     "data": {
      "application/javascript": [
       "\n",
       "            setTimeout(function() {\n",
       "                var nbb_cell_id = 29;\n",
       "                var nbb_unformatted_code = \"all_results = []\\nfor i in range(args.batch_size):\\n    all_results.append(sampler.get_ith_item(i, False))\\n\\ntop_results = [x for x in all_results if x[\\\"bleu-4\\\"] > 0.1]\\nprint(len(top_results))\";\n",
       "                var nbb_formatted_code = \"all_results = []\\nfor i in range(args.batch_size):\\n    all_results.append(sampler.get_ith_item(i, False))\\n\\ntop_results = [x for x in all_results if x[\\\"bleu-4\\\"] > 0.1]\\nprint(len(top_results))\";\n",
       "                var nbb_cells = Jupyter.notebook.get_cells();\n",
       "                for (var i = 0; i < nbb_cells.length; ++i) {\n",
       "                    if (nbb_cells[i].input_prompt_number == nbb_cell_id) {\n",
       "                        if (nbb_cells[i].get_text() == nbb_unformatted_code) {\n",
       "                             nbb_cells[i].set_text(nbb_formatted_code);\n",
       "                        }\n",
       "                        break;\n",
       "                    }\n",
       "                }\n",
       "            }, 500);\n",
       "            "
      ],
      "text/plain": [
       "<IPython.core.display.Javascript object>"
      ]
     },
     "metadata": {},
     "output_type": "display_data"
    }
   ],
   "source": [
    "all_results = []\n",
    "for i in range(args.batch_size):\n",
    "    all_results.append(sampler.get_ith_item(i, False))\n",
    "\n",
    "top_results = [x for x in all_results if x[\"bleu-4\"] > 0.1]\n",
    "print(len(top_results))"
   ]
  },
  {
   "cell_type": "code",
   "execution_count": 34,
   "id": "737983a5",
   "metadata": {},
   "outputs": [
    {
     "data": {
      "text/plain": [
       "{'source': \"i 'm not flexible enough to sit in the <UNK> position .\",\n",
       " 'truth': \"je ne suis pas assez <UNK> pour m'asseoir dans la position du <UNK> .\",\n",
       " 'sampled': 'je ne suis pas sûr bonne de le des la maison . . .'}"
      ]
     },
     "execution_count": 34,
     "metadata": {},
     "output_type": "execute_result"
    },
    {
     "data": {
      "application/javascript": [
       "\n",
       "            setTimeout(function() {\n",
       "                var nbb_cell_id = 34;\n",
       "                var nbb_unformatted_code = \"results = get_all_sentences(vectorizer, batch_dict, 1)\\nresults\";\n",
       "                var nbb_formatted_code = \"results = get_all_sentences(vectorizer, batch_dict, 1)\\nresults\";\n",
       "                var nbb_cells = Jupyter.notebook.get_cells();\n",
       "                for (var i = 0; i < nbb_cells.length; ++i) {\n",
       "                    if (nbb_cells[i].input_prompt_number == nbb_cell_id) {\n",
       "                        if (nbb_cells[i].get_text() == nbb_unformatted_code) {\n",
       "                             nbb_cells[i].set_text(nbb_formatted_code);\n",
       "                        }\n",
       "                        break;\n",
       "                    }\n",
       "                }\n",
       "            }, 500);\n",
       "            "
      ],
      "text/plain": [
       "<IPython.core.display.Javascript object>"
      ]
     },
     "metadata": {},
     "output_type": "display_data"
    }
   ],
   "source": [
    "results = get_all_sentences(vectorizer, batch_dict, 1)\n",
    "results"
   ]
  },
  {
   "cell_type": "code",
   "execution_count": 52,
   "id": "e34be2be",
   "metadata": {},
   "outputs": [
    {
     "name": "stdout",
     "output_type": "stream",
     "text": [
      "je suis en route pour le visite à la bonne à me écoulé la . 15\n"
     ]
    },
    {
     "ename": "ValueError",
     "evalue": "The number of FixedLocator locations (25), usually from a call to set_ticks, does not match the number of ticklabels (15).",
     "output_type": "error",
     "traceback": [
      "\u001b[0;31m---------------------------------------------------------------------------\u001b[0m",
      "\u001b[0;31mValueError\u001b[0m                                Traceback (most recent call last)",
      "\u001b[0;32m<ipython-input-52-c81273889a68>\u001b[0m in \u001b[0;36m<module>\u001b[0;34m\u001b[0m\n\u001b[1;32m     12\u001b[0m     \u001b[0max\u001b[0m\u001b[0;34m.\u001b[0m\u001b[0mset_yticklabels\u001b[0m\u001b[0;34m(\u001b[0m\u001b[0mylabs\u001b[0m\u001b[0;34m.\u001b[0m\u001b[0msplit\u001b[0m\u001b[0;34m(\u001b[0m\u001b[0;34m\" \"\u001b[0m\u001b[0;34m)\u001b[0m\u001b[0;34m,\u001b[0m \u001b[0mrotation\u001b[0m\u001b[0;34m=\u001b[0m\u001b[0;36m0\u001b[0m\u001b[0;34m)\u001b[0m\u001b[0;34m\u001b[0m\u001b[0;34m\u001b[0m\u001b[0m\n\u001b[1;32m     13\u001b[0m     \u001b[0mprint\u001b[0m\u001b[0;34m(\u001b[0m\u001b[0msample\u001b[0m\u001b[0;34m[\u001b[0m\u001b[0;34m\"sampled\"\u001b[0m\u001b[0;34m]\u001b[0m\u001b[0;34m,\u001b[0m \u001b[0mlen\u001b[0m\u001b[0;34m(\u001b[0m\u001b[0msample\u001b[0m\u001b[0;34m[\u001b[0m\u001b[0;34m\"sampled\"\u001b[0m\u001b[0;34m]\u001b[0m\u001b[0;34m.\u001b[0m\u001b[0msplit\u001b[0m\u001b[0;34m(\u001b[0m\u001b[0;34m\" \"\u001b[0m\u001b[0;34m)\u001b[0m\u001b[0;34m)\u001b[0m\u001b[0;34m)\u001b[0m\u001b[0;34m\u001b[0m\u001b[0;34m\u001b[0m\u001b[0m\n\u001b[0;32m---> 14\u001b[0;31m     \u001b[0max\u001b[0m\u001b[0;34m.\u001b[0m\u001b[0mset_xticklabels\u001b[0m\u001b[0;34m(\u001b[0m\u001b[0msample\u001b[0m\u001b[0;34m[\u001b[0m\u001b[0;34m\"sampled\"\u001b[0m\u001b[0;34m]\u001b[0m\u001b[0;34m.\u001b[0m\u001b[0msplit\u001b[0m\u001b[0;34m(\u001b[0m\u001b[0;34m\" \"\u001b[0m\u001b[0;34m)\u001b[0m\u001b[0;34m,\u001b[0m \u001b[0mrotation\u001b[0m\u001b[0;34m=\u001b[0m\u001b[0;36m90\u001b[0m\u001b[0;34m)\u001b[0m\u001b[0;34m\u001b[0m\u001b[0;34m\u001b[0m\u001b[0m\n\u001b[0m\u001b[1;32m     15\u001b[0m     \u001b[0max\u001b[0m\u001b[0;34m.\u001b[0m\u001b[0mset_xlabel\u001b[0m\u001b[0;34m(\u001b[0m\u001b[0;34m\"Target Sentence\"\u001b[0m\u001b[0;34m)\u001b[0m\u001b[0;34m\u001b[0m\u001b[0;34m\u001b[0m\u001b[0m\n\u001b[1;32m     16\u001b[0m     \u001b[0max\u001b[0m\u001b[0;34m.\u001b[0m\u001b[0mset_ylabel\u001b[0m\u001b[0;34m(\u001b[0m\u001b[0;34m\"Source Sentence\\n\\n\"\u001b[0m\u001b[0;34m)\u001b[0m\u001b[0;34m\u001b[0m\u001b[0;34m\u001b[0m\u001b[0m\n",
      "\u001b[0;32m~/anaconda3/envs/nlp-with-pytorch/lib/python3.8/site-packages/matplotlib/axes/_base.py\u001b[0m in \u001b[0;36mwrapper\u001b[0;34m(self, *args, **kwargs)\u001b[0m\n\u001b[1;32m     71\u001b[0m \u001b[0;34m\u001b[0m\u001b[0m\n\u001b[1;32m     72\u001b[0m         \u001b[0;32mdef\u001b[0m \u001b[0mwrapper\u001b[0m\u001b[0;34m(\u001b[0m\u001b[0mself\u001b[0m\u001b[0;34m,\u001b[0m \u001b[0;34m*\u001b[0m\u001b[0margs\u001b[0m\u001b[0;34m,\u001b[0m \u001b[0;34m**\u001b[0m\u001b[0mkwargs\u001b[0m\u001b[0;34m)\u001b[0m\u001b[0;34m:\u001b[0m\u001b[0;34m\u001b[0m\u001b[0;34m\u001b[0m\u001b[0m\n\u001b[0;32m---> 73\u001b[0;31m             \u001b[0;32mreturn\u001b[0m \u001b[0mget_method\u001b[0m\u001b[0;34m(\u001b[0m\u001b[0mself\u001b[0m\u001b[0;34m)\u001b[0m\u001b[0;34m(\u001b[0m\u001b[0;34m*\u001b[0m\u001b[0margs\u001b[0m\u001b[0;34m,\u001b[0m \u001b[0;34m**\u001b[0m\u001b[0mkwargs\u001b[0m\u001b[0;34m)\u001b[0m\u001b[0;34m\u001b[0m\u001b[0;34m\u001b[0m\u001b[0m\n\u001b[0m\u001b[1;32m     74\u001b[0m \u001b[0;34m\u001b[0m\u001b[0m\n\u001b[1;32m     75\u001b[0m         \u001b[0mwrapper\u001b[0m\u001b[0;34m.\u001b[0m\u001b[0m__module__\u001b[0m \u001b[0;34m=\u001b[0m \u001b[0mowner\u001b[0m\u001b[0;34m.\u001b[0m\u001b[0m__module__\u001b[0m\u001b[0;34m\u001b[0m\u001b[0;34m\u001b[0m\u001b[0m\n",
      "\u001b[0;32m~/anaconda3/envs/nlp-with-pytorch/lib/python3.8/site-packages/matplotlib/_api/deprecation.py\u001b[0m in \u001b[0;36mwrapper\u001b[0;34m(*args, **kwargs)\u001b[0m\n\u001b[1;32m    469\u001b[0m                 \u001b[0;34m\"parameter will become keyword-only %(removal)s.\"\u001b[0m\u001b[0;34m,\u001b[0m\u001b[0;34m\u001b[0m\u001b[0;34m\u001b[0m\u001b[0m\n\u001b[1;32m    470\u001b[0m                 name=name, obj_type=f\"parameter of {func.__name__}()\")\n\u001b[0;32m--> 471\u001b[0;31m         \u001b[0;32mreturn\u001b[0m \u001b[0mfunc\u001b[0m\u001b[0;34m(\u001b[0m\u001b[0;34m*\u001b[0m\u001b[0margs\u001b[0m\u001b[0;34m,\u001b[0m \u001b[0;34m**\u001b[0m\u001b[0mkwargs\u001b[0m\u001b[0;34m)\u001b[0m\u001b[0;34m\u001b[0m\u001b[0;34m\u001b[0m\u001b[0m\n\u001b[0m\u001b[1;32m    472\u001b[0m \u001b[0;34m\u001b[0m\u001b[0m\n\u001b[1;32m    473\u001b[0m     \u001b[0;32mreturn\u001b[0m \u001b[0mwrapper\u001b[0m\u001b[0;34m\u001b[0m\u001b[0;34m\u001b[0m\u001b[0m\n",
      "\u001b[0;32m~/anaconda3/envs/nlp-with-pytorch/lib/python3.8/site-packages/matplotlib/axis.py\u001b[0m in \u001b[0;36m_set_ticklabels\u001b[0;34m(self, labels, fontdict, minor, **kwargs)\u001b[0m\n\u001b[1;32m   1788\u001b[0m         \u001b[0;32mif\u001b[0m \u001b[0mfontdict\u001b[0m \u001b[0;32mis\u001b[0m \u001b[0;32mnot\u001b[0m \u001b[0;32mNone\u001b[0m\u001b[0;34m:\u001b[0m\u001b[0;34m\u001b[0m\u001b[0;34m\u001b[0m\u001b[0m\n\u001b[1;32m   1789\u001b[0m             \u001b[0mkwargs\u001b[0m\u001b[0;34m.\u001b[0m\u001b[0mupdate\u001b[0m\u001b[0;34m(\u001b[0m\u001b[0mfontdict\u001b[0m\u001b[0;34m)\u001b[0m\u001b[0;34m\u001b[0m\u001b[0;34m\u001b[0m\u001b[0m\n\u001b[0;32m-> 1790\u001b[0;31m         \u001b[0;32mreturn\u001b[0m \u001b[0mself\u001b[0m\u001b[0;34m.\u001b[0m\u001b[0mset_ticklabels\u001b[0m\u001b[0;34m(\u001b[0m\u001b[0mlabels\u001b[0m\u001b[0;34m,\u001b[0m \u001b[0mminor\u001b[0m\u001b[0;34m=\u001b[0m\u001b[0mminor\u001b[0m\u001b[0;34m,\u001b[0m \u001b[0;34m**\u001b[0m\u001b[0mkwargs\u001b[0m\u001b[0;34m)\u001b[0m\u001b[0;34m\u001b[0m\u001b[0;34m\u001b[0m\u001b[0m\n\u001b[0m\u001b[1;32m   1791\u001b[0m \u001b[0;34m\u001b[0m\u001b[0m\n\u001b[1;32m   1792\u001b[0m     \u001b[0;32mdef\u001b[0m \u001b[0mset_ticks\u001b[0m\u001b[0;34m(\u001b[0m\u001b[0mself\u001b[0m\u001b[0;34m,\u001b[0m \u001b[0mticks\u001b[0m\u001b[0;34m,\u001b[0m \u001b[0;34m*\u001b[0m\u001b[0;34m,\u001b[0m \u001b[0mminor\u001b[0m\u001b[0;34m=\u001b[0m\u001b[0;32mFalse\u001b[0m\u001b[0;34m)\u001b[0m\u001b[0;34m:\u001b[0m\u001b[0;34m\u001b[0m\u001b[0;34m\u001b[0m\u001b[0m\n",
      "\u001b[0;32m~/anaconda3/envs/nlp-with-pytorch/lib/python3.8/site-packages/matplotlib/axis.py\u001b[0m in \u001b[0;36mset_ticklabels\u001b[0;34m(self, ticklabels, minor, **kwargs)\u001b[0m\n\u001b[1;32m   1709\u001b[0m             \u001b[0;31m# remove all tick labels, so only error for > 0 ticklabels\u001b[0m\u001b[0;34m\u001b[0m\u001b[0;34m\u001b[0m\u001b[0;34m\u001b[0m\u001b[0m\n\u001b[1;32m   1710\u001b[0m             \u001b[0;32mif\u001b[0m \u001b[0mlen\u001b[0m\u001b[0;34m(\u001b[0m\u001b[0mlocator\u001b[0m\u001b[0;34m.\u001b[0m\u001b[0mlocs\u001b[0m\u001b[0;34m)\u001b[0m \u001b[0;34m!=\u001b[0m \u001b[0mlen\u001b[0m\u001b[0;34m(\u001b[0m\u001b[0mticklabels\u001b[0m\u001b[0;34m)\u001b[0m \u001b[0;32mand\u001b[0m \u001b[0mlen\u001b[0m\u001b[0;34m(\u001b[0m\u001b[0mticklabels\u001b[0m\u001b[0;34m)\u001b[0m \u001b[0;34m!=\u001b[0m \u001b[0;36m0\u001b[0m\u001b[0;34m:\u001b[0m\u001b[0;34m\u001b[0m\u001b[0;34m\u001b[0m\u001b[0m\n\u001b[0;32m-> 1711\u001b[0;31m                 raise ValueError(\n\u001b[0m\u001b[1;32m   1712\u001b[0m                     \u001b[0;34m\"The number of FixedLocator locations\"\u001b[0m\u001b[0;34m\u001b[0m\u001b[0;34m\u001b[0m\u001b[0m\n\u001b[1;32m   1713\u001b[0m                     \u001b[0;34mf\" ({len(locator.locs)}), usually from a call to\"\u001b[0m\u001b[0;34m\u001b[0m\u001b[0;34m\u001b[0m\u001b[0m\n",
      "\u001b[0;31mValueError\u001b[0m: The number of FixedLocator locations (25), usually from a call to set_ticks, does not match the number of ticklabels (15)."
     ]
    },
    {
     "data": {
      "image/png": "[encoded data removed]",
      "text/plain": [
       "<Figure size 432x288 with 2 Axes>"
      ]
     },
     "metadata": {
      "needs_background": "light"
     },
     "output_type": "display_data"
    },
    {
     "data": {
      "application/javascript": [
       "\n",
       "            setTimeout(function() {\n",
       "                var nbb_cell_id = 52;\n",
       "                var nbb_unformatted_code = \"for sample in top_results:\\n    plt.figure()\\n    target_len = len(sample[\\\"sampled\\\"])\\n    source_len = len(sample[\\\"source\\\"])\\n\\n    attention_matrix = sample[\\\"attention\\\"][\\n        :target_len, : source_len + 2\\n    ].transpose()  # [::-1]\\n    ax = sns.heatmap(attention_matrix, center=0.0)\\n    # print(sample[\\\"source\\\"])\\n    ylabs = \\\"<BOS> \\\" + sample[\\\"source\\\"] + \\\" <EOS>\\\"\\n    ax.set_yticklabels(ylabs.split(\\\" \\\"), rotation=0)\\n    print(sample[\\\"sampled\\\"], len(sample[\\\"sampled\\\"].split(\\\" \\\")))\\n    ax.set_xticklabels(sample[\\\"sampled\\\"].split(\\\" \\\"), rotation=90)\\n    ax.set_xlabel(\\\"Target Sentence\\\")\\n    ax.set_ylabel(\\\"Source Sentence\\\\n\\\\n\\\")\";\n",
       "                var nbb_formatted_code = \"for sample in top_results:\\n    plt.figure()\\n    target_len = len(sample[\\\"sampled\\\"])\\n    source_len = len(sample[\\\"source\\\"])\\n\\n    attention_matrix = sample[\\\"attention\\\"][\\n        :target_len, : source_len + 2\\n    ].transpose()  # [::-1]\\n    ax = sns.heatmap(attention_matrix, center=0.0)\\n    # print(sample[\\\"source\\\"])\\n    ylabs = \\\"<BOS> \\\" + sample[\\\"source\\\"] + \\\" <EOS>\\\"\\n    ax.set_yticklabels(ylabs.split(\\\" \\\"), rotation=0)\\n    print(sample[\\\"sampled\\\"], len(sample[\\\"sampled\\\"].split(\\\" \\\")))\\n    ax.set_xticklabels(sample[\\\"sampled\\\"].split(\\\" \\\"), rotation=90)\\n    ax.set_xlabel(\\\"Target Sentence\\\")\\n    ax.set_ylabel(\\\"Source Sentence\\\\n\\\\n\\\")\";\n",
       "                var nbb_cells = Jupyter.notebook.get_cells();\n",
       "                for (var i = 0; i < nbb_cells.length; ++i) {\n",
       "                    if (nbb_cells[i].input_prompt_number == nbb_cell_id) {\n",
       "                        if (nbb_cells[i].get_text() == nbb_unformatted_code) {\n",
       "                             nbb_cells[i].set_text(nbb_formatted_code);\n",
       "                        }\n",
       "                        break;\n",
       "                    }\n",
       "                }\n",
       "            }, 500);\n",
       "            "
      ],
      "text/plain": [
       "<IPython.core.display.Javascript object>"
      ]
     },
     "metadata": {},
     "output_type": "display_data"
    }
   ],
   "source": [
    "for sample in top_results:\n",
    "    plt.figure()\n",
    "    target_len = len(sample[\"sampled\"])\n",
    "    source_len = len(sample[\"source\"])\n",
    "\n",
    "    attention_matrix = sample[\"attention\"][\n",
    "        :target_len, : source_len + 2\n",
    "    ].transpose()  # [::-1]\n",
    "    ax = sns.heatmap(attention_matrix, center=0.0)\n",
    "    # print(sample[\"source\"])\n",
    "    ylabs = \"<BOS> \" + sample[\"source\"] + \" <EOS>\"\n",
    "    ax.set_yticks()\n",
    "    ax.set_yticklabels(ylabs.split(\" \"), rotation=0)\n",
    "    print(sample[\"sampled\"], len(sample[\"sampled\"].split(\" \")))\n",
    "    ax.set_xticklabels(sample[\"sampled\"].split(\" \"), rotation=90)\n",
    "    ax.set_xlabel(\"Target Sentence\")\n",
    "    ax.set_ylabel(\"Source Sentence\\n\\n\")"
   ]
  },
  {
   "cell_type": "code",
   "execution_count": 33,
   "id": "e6ba3221",
   "metadata": {},
   "outputs": [
    {
     "data": {
      "text/plain": [
       "{'source': \"i 'm not flexible enough to sit in the <UNK> position .\",\n",
       " 'truth': \"je ne suis pas assez <UNK> pour m'asseoir dans la position du <UNK> .\",\n",
       " 'sampled': 'je ne suis pas sûr du de le du la maison . . .'}"
      ]
     },
     "execution_count": 33,
     "metadata": {},
     "output_type": "execute_result"
    },
    {
     "data": {
      "application/javascript": [
       "\n",
       "            setTimeout(function() {\n",
       "                var nbb_cell_id = 33;\n",
       "                var nbb_unformatted_code = \"results = get_all_sentences(vectorizer, batch_dict, 1)\\nresults\";\n",
       "                var nbb_formatted_code = \"results = get_all_sentences(vectorizer, batch_dict, 1)\\nresults\";\n",
       "                var nbb_cells = Jupyter.notebook.get_cells();\n",
       "                for (var i = 0; i < nbb_cells.length; ++i) {\n",
       "                    if (nbb_cells[i].input_prompt_number == nbb_cell_id) {\n",
       "                        if (nbb_cells[i].get_text() == nbb_unformatted_code) {\n",
       "                             nbb_cells[i].set_text(nbb_formatted_code);\n",
       "                        }\n",
       "                        break;\n",
       "                    }\n",
       "                }\n",
       "            }, 500);\n",
       "            "
      ],
      "text/plain": [
       "<IPython.core.display.Javascript object>"
      ]
     },
     "metadata": {},
     "output_type": "display_data"
    }
   ],
   "source": []
  },
  {
   "cell_type": "code",
   "execution_count": null,
   "id": "aefbdd97",
   "metadata": {},
   "outputs": [],
   "source": []
  },
  {
   "cell_type": "code",
   "execution_count": null,
   "id": "d84d0159",
   "metadata": {},
   "outputs": [],
   "source": []
  },
  {
   "cell_type": "code",
   "execution_count": null,
   "id": "d6d83541",
   "metadata": {},
   "outputs": [],
   "source": []
  },
  {
   "cell_type": "code",
   "execution_count": null,
   "id": "d9b67893",
   "metadata": {},
   "outputs": [],
   "source": []
  }
 ],
 "metadata": {
  "kernelspec": {
   "display_name": "Python 3",
   "language": "python",
   "name": "python3"
  },
  "language_info": {
   "codemirror_mode": {
    "name": "ipython",
    "version": 3
   },
   "file_extension": ".py",
   "mimetype": "text/x-python",
   "name": "python",
   "nbconvert_exporter": "python",
   "pygments_lexer": "ipython3",
   "version": "3.8.10"
  },
  "toc": {
   "base_numbering": 1,
   "nav_menu": {},
   "number_sections": true,
   "sideBar": true,
   "skip_h1_title": false,
   "title_cell": "Advanced Sequence Modeling for Natural Language Processing",
   "title_sidebar": "Contents",
   "toc_cell": true,
   "toc_position": {},
   "toc_section_display": true,
   "toc_window_display": false
  }
 },
 "nbformat": 4,
 "nbformat_minor": 5
}
