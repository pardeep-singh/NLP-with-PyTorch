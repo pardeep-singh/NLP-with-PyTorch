{
 "cells": [
  {
   "cell_type": "markdown",
   "id": "75c3b411",
   "metadata": {
    "toc": true
   },
   "source": [
    "<h1>Foundational Components of Neural Networks<span class=\"tocSkip\"></span></h1>\n",
    "<div class=\"toc\"><ul class=\"toc-item\"><li><span><a href=\"#The-Perceptron:-The-Simplest-Neural-Network\" data-toc-modified-id=\"The-Perceptron:-The-Simplest-Neural-Network-1\"><span class=\"toc-item-num\">1&nbsp;&nbsp;</span>The Perceptron: The Simplest Neural Network</a></span></li><li><span><a href=\"#Activation-Functions\" data-toc-modified-id=\"Activation-Functions-2\"><span class=\"toc-item-num\">2&nbsp;&nbsp;</span>Activation Functions</a></span><ul class=\"toc-item\"><li><span><a href=\"#Sigmoid\" data-toc-modified-id=\"Sigmoid-2.1\"><span class=\"toc-item-num\">2.1&nbsp;&nbsp;</span>Sigmoid</a></span></li><li><span><a href=\"#Tanh\" data-toc-modified-id=\"Tanh-2.2\"><span class=\"toc-item-num\">2.2&nbsp;&nbsp;</span>Tanh</a></span></li><li><span><a href=\"#ReLU-(Rectified-Linear-Unit)\" data-toc-modified-id=\"ReLU-(Rectified-Linear-Unit)-2.3\"><span class=\"toc-item-num\">2.3&nbsp;&nbsp;</span>ReLU (Rectified Linear Unit)</a></span></li><li><span><a href=\"#Softmax\" data-toc-modified-id=\"Softmax-2.4\"><span class=\"toc-item-num\">2.4&nbsp;&nbsp;</span>Softmax</a></span></li></ul></li><li><span><a href=\"#Loss-Functions\" data-toc-modified-id=\"Loss-Functions-3\"><span class=\"toc-item-num\">3&nbsp;&nbsp;</span>Loss Functions</a></span><ul class=\"toc-item\"><li><span><a href=\"#Mean-Squared-Error-Loss\" data-toc-modified-id=\"Mean-Squared-Error-Loss-3.1\"><span class=\"toc-item-num\">3.1&nbsp;&nbsp;</span>Mean Squared Error Loss</a></span></li><li><span><a href=\"#Categorical-Cross-Entropy-Loss\" data-toc-modified-id=\"Categorical-Cross-Entropy-Loss-3.2\"><span class=\"toc-item-num\">3.2&nbsp;&nbsp;</span>Categorical Cross-Entropy Loss</a></span></li><li><span><a href=\"#Binary-Cross-Entropy-Loss\" data-toc-modified-id=\"Binary-Cross-Entropy-Loss-3.3\"><span class=\"toc-item-num\">3.3&nbsp;&nbsp;</span>Binary Cross-Entropy Loss</a></span></li></ul></li><li><span><a href=\"#Diving-Deep-into-Supervised-Training\" data-toc-modified-id=\"Diving-Deep-into-Supervised-Training-4\"><span class=\"toc-item-num\">4&nbsp;&nbsp;</span>Diving Deep into Supervised Training</a></span><ul class=\"toc-item\"><li><span><a href=\"#Constructing-Toy-Data\" data-toc-modified-id=\"Constructing-Toy-Data-4.1\"><span class=\"toc-item-num\">4.1&nbsp;&nbsp;</span>Constructing Toy Data</a></span><ul class=\"toc-item\"><li><span><a href=\"#Problem-Solving-Steps\" data-toc-modified-id=\"Problem-Solving-Steps-4.1.1\"><span class=\"toc-item-num\">4.1.1&nbsp;&nbsp;</span>Problem Solving Steps</a></span></li></ul></li><li><span><a href=\"#Putting-it-Together:-Gradient-Bases-Supervised-Learning\" data-toc-modified-id=\"Putting-it-Together:-Gradient-Bases-Supervised-Learning-4.2\"><span class=\"toc-item-num\">4.2&nbsp;&nbsp;</span>Putting it Together: Gradient Bases Supervised Learning</a></span></li></ul></li><li><span><a href=\"#Auxiliary-Training-Concepts\" data-toc-modified-id=\"Auxiliary-Training-Concepts-5\"><span class=\"toc-item-num\">5&nbsp;&nbsp;</span>Auxiliary Training Concepts</a></span></li></ul></div>"
   ]
  },
  {
   "cell_type": "markdown",
   "id": "1d6321db",
   "metadata": {
    "heading_collapsed": true
   },
   "source": [
    "## The Perceptron: The Simplest Neural Network"
   ]
  },
  {
   "cell_type": "markdown",
   "id": "9c12ee0d",
   "metadata": {
    "hidden": true
   },
   "source": [
    "_Perceptron_ is the simplest neural network unit. It was loosely modeled after the biological neuron. It has input and output and data flow from inputs to the outputs similar to biological neuron.\n",
    "\n",
    "<img src=\"../images/figure_3_1.png\" />\n",
    "\n",
    "**Each Perceptron unit has following components:**\n",
    "\n",
    "- _Input_ ($ x $)\n",
    "- _Output_ ($ y $)\n",
    "- _Weights_ ($ w $)\n",
    "- _Bias_ ($ b $)\n",
    "- _Activation Function_ ($ f $)\n",
    "\n",
    "Weights & bias are learned from the data & activation function is handpicked depending on network and target outputs.\n",
    "\n",
    "Mathematically this can expressed as following:\n",
    "\n",
    "$$ y = f(wx + b) $$\n",
    "\n",
    "Activation function is typically a non linear function and $ wx + b $ is a linear function hence a Perceptron is a _composition of a linear and nonlinear function_. The linear expression $ wx + b $ is also known as an _affine transform_."
   ]
  },
  {
   "cell_type": "code",
   "execution_count": 2,
   "id": "b1931a28",
   "metadata": {
    "hidden": true
   },
   "outputs": [],
   "source": [
    "# Implementing a perceptron using PyTorch\n",
    "\n",
    "import torch\n",
    "import torch.nn as nn\n",
    "\n",
    "\n",
    "class Perceptron(nn.Module):\n",
    "    \"\"\"\n",
    "    A Perceptron is one Linear Layer.\n",
    "    \"\"\"\n",
    "    def __init__(self, input_dim):\n",
    "        \"\"\"\n",
    "        Args:\n",
    "            input_dim(int): Size of the input features\n",
    "        \"\"\"\n",
    "        super(Perceptron, self).__init__()\n",
    "        self.fc1 = nn.Linear(input_dim, 1)\n",
    "    \n",
    "    def forward(self, x_in):\n",
    "        \"\"\"\n",
    "        The forward pass of the Perceptron.\n",
    "        \n",
    "        Args:\n",
    "            x_in(torch.Tensor): an input data tensor x_in.shape\n",
    "            should be (batch, num_features).\n",
    "        \"\"\"\n",
    "        return torch.sigmoid(self.fc1(x_in)).squeeze()"
   ]
  },
  {
   "cell_type": "markdown",
   "id": "5e3c3302",
   "metadata": {
    "heading_collapsed": true
   },
   "source": [
    "## Activation Functions"
   ]
  },
  {
   "cell_type": "markdown",
   "id": "c6b2c220",
   "metadata": {
    "hidden": true
   },
   "source": [
    "Activation functions are nonlinearities introduced in a neural network to capture complex relationships in data."
   ]
  },
  {
   "cell_type": "markdown",
   "id": "37af6c32",
   "metadata": {
    "heading_collapsed": true,
    "hidden": true
   },
   "source": [
    "### Sigmoid"
   ]
  },
  {
   "cell_type": "markdown",
   "id": "6150ae43",
   "metadata": {
    "hidden": true
   },
   "source": [
    "Sigmoid takes any real value and squashes it into the range $ [0, 1] $. \n",
    "\n",
    "Mathematically sigmoid function is expressed as follows:\n",
    "\n",
    "$$ f(x) = \\frac {1}{1 + e^{-x}} $$\n",
    "\n",
    "Sigmoid function saturates very quickly and for a majority of the inputs. This can lead to _vanishing gradient problem(gradient becoming 0)_ and _exploring gradient problem(overflowing floating point value)_. \n",
    "\n",
    "Due to this sigmoid is rarely used in network units rather it is used at output where output are required to be interpreted as probabilities.\n"
   ]
  },
  {
   "cell_type": "code",
   "execution_count": 5,
   "id": "8281636f",
   "metadata": {
    "hidden": true
   },
   "outputs": [
    {
     "data": {
      "image/png": "[encoded data removed]",
      "text/plain": [
       "<Figure size 432x288 with 1 Axes>"
      ]
     },
     "metadata": {
      "needs_background": "light"
     },
     "output_type": "display_data"
    }
   ],
   "source": [
    "# Sigmoid activation example\n",
    "\n",
    "import torch\n",
    "import matplotlib.pyplot as plt\n",
    "\n",
    "x = torch.arange(-5., 5., 0.1)\n",
    "y = torch.sigmoid(x)\n",
    "plt.plot(x.numpy(), y.numpy())\n",
    "plt.show()"
   ]
  },
  {
   "cell_type": "markdown",
   "id": "b7fc6b54",
   "metadata": {
    "heading_collapsed": true,
    "hidden": true
   },
   "source": [
    "### Tanh"
   ]
  },
  {
   "cell_type": "markdown",
   "id": "df98c3c1",
   "metadata": {
    "hidden": true
   },
   "source": [
    "The tanh activation function is a cosmetically different variant of the sigmoid and it is simply a linear transform of the sigmoid function. \n",
    "\n",
    "Tanh is also a squashing function as it maps real values form $ [-\\infty, +\\infty] $ to the range $ [-1, +1] $.\n",
    "\n",
    "Mathematically, tanh can be expressed as following:\n",
    "\n",
    "$$ f(x) = \\tanh x = \\frac {e^x - e^{-x}}{e^x + e^{-x}}$$"
   ]
  },
  {
   "cell_type": "code",
   "execution_count": 8,
   "id": "41839196",
   "metadata": {
    "hidden": true
   },
   "outputs": [
    {
     "data": {
      "image/png": "[encoded data removed]",
      "text/plain": [
       "<Figure size 432x288 with 1 Axes>"
      ]
     },
     "metadata": {
      "needs_background": "light"
     },
     "output_type": "display_data"
    }
   ],
   "source": [
    "# Tanh activation example\n",
    "\n",
    "import torch\n",
    "import matplotlib.pyplot as plt\n",
    "\n",
    "x = torch.arange(-5., 5., 0.1)\n",
    "y = torch.tanh(x)\n",
    "plt.plot(x.numpy(), y.numpy())\n",
    "plt.show()"
   ]
  },
  {
   "cell_type": "markdown",
   "id": "d1c45034",
   "metadata": {
    "heading_collapsed": true,
    "hidden": true
   },
   "source": [
    "### ReLU (Rectified Linear Unit)"
   ]
  },
  {
   "cell_type": "markdown",
   "id": "18654509",
   "metadata": {
    "hidden": true
   },
   "source": [
    "ReLU unit clips the negative values to zero and it can be expressed as following:\n",
    "\n",
    "$$ f(x) = max(0, x) $$\n",
    "\n",
    "ReLU can be impacted by _dying ReLU problem_ as some certrain outputs in the network can simply become zero and never revive again.\n",
    "\n",
    "To mitigate this effect, variants such as _Leaky ReLU and Parameteric ReLU(PReLU)_ activation functions have been proposed where the lead coefficient $ a $ is a learned paremeter. It can expressed as:\n",
    "\n",
    "$$ f(x) = max(x, ax) $$"
   ]
  },
  {
   "cell_type": "code",
   "execution_count": 11,
   "id": "2811e49d",
   "metadata": {
    "hidden": true
   },
   "outputs": [
    {
     "data": {
      "image/png": "[encoded data removed]",
      "text/plain": [
       "<Figure size 432x288 with 1 Axes>"
      ]
     },
     "metadata": {
      "needs_background": "light"
     },
     "output_type": "display_data"
    }
   ],
   "source": [
    "# ReLU activation example\n",
    "\n",
    "import torch\n",
    "import matplotlib.pyplot as plt\n",
    "\n",
    "relu = torch.nn.ReLU()\n",
    "x = torch.arange(-5., 5., 0.1)\n",
    "y = relu(x)\n",
    "plt.plot(x.numpy(), y.numpy())\n",
    "plt.show()"
   ]
  },
  {
   "cell_type": "code",
   "execution_count": 18,
   "id": "9ca46691",
   "metadata": {
    "hidden": true
   },
   "outputs": [
    {
     "data": {
      "image/png": "[encoded data removed]",
      "text/plain": [
       "<Figure size 432x288 with 1 Axes>"
      ]
     },
     "metadata": {
      "needs_background": "light"
     },
     "output_type": "display_data"
    }
   ],
   "source": [
    "# PReLU activation example\n",
    "\n",
    "import torch\n",
    "import matplotlib.pyplot as plt\n",
    "\n",
    "prelu = torch.nn.PReLU(num_parameters=1)\n",
    "x = torch.arange(-5., 5., 0.1)\n",
    "y = prelu(x)\n",
    "plt.plot(x.numpy(), y.detach().numpy())\n",
    "plt.show()"
   ]
  },
  {
   "cell_type": "markdown",
   "id": "e33f28ea",
   "metadata": {
    "heading_collapsed": true,
    "hidden": true
   },
   "source": [
    "### Softmax"
   ]
  },
  {
   "cell_type": "markdown",
   "id": "71957014",
   "metadata": {
    "hidden": true
   },
   "source": [
    "Softmax function also squashes the output betweem $ [0, 1] $ range. It also divides each output by the sum of all the outputs, whcih gives us a discrete probability distribution over k possible classes.\n",
    "\n",
    "This can be expressed as:\n",
    "\n",
    "$$ softmax(x_i) = \\frac {e^{x_i}} { \\sum_{j=1}^h e^{x_j}} $$"
   ]
  },
  {
   "cell_type": "code",
   "execution_count": 21,
   "id": "6600cc19",
   "metadata": {
    "hidden": true
   },
   "outputs": [
    {
     "name": "stdout",
     "output_type": "stream",
     "text": [
      "tensor([[-0.3034,  0.5813, -0.0656]])\n",
      "tensor([[0.2132, 0.5164, 0.2704]])\n",
      "tensor([1.])\n"
     ]
    }
   ],
   "source": [
    "# Softmax activation Example\n",
    "\n",
    "import torch\n",
    "\n",
    "softmax = torch.nn.Softmax(dim=1)\n",
    "x = torch.randn(1, 3)\n",
    "y = softmax(x)\n",
    "print(x)\n",
    "print(y)\n",
    "print(torch.sum(y, dim=1))"
   ]
  },
  {
   "cell_type": "markdown",
   "id": "4440db13",
   "metadata": {
    "heading_collapsed": true
   },
   "source": [
    "## Loss Functions"
   ]
  },
  {
   "cell_type": "markdown",
   "id": "7841649d",
   "metadata": {
    "hidden": true
   },
   "source": [
    "Loss functions help guide the training algorithm to pick the right parameters by using the data. Loss function takes a truth($ y $) and a prediction( $ \\hat y $) as an input and produced a real values score. The lower the score, better the model prediction is."
   ]
  },
  {
   "cell_type": "markdown",
   "id": "3767ab7a",
   "metadata": {
    "heading_collapsed": true,
    "hidden": true
   },
   "source": [
    "### Mean Squared Error Loss"
   ]
  },
  {
   "cell_type": "markdown",
   "id": "12b45954",
   "metadata": {
    "hidden": true
   },
   "source": [
    "The MSE is simply the average of the squares of the difference between the predicted & target values.\n",
    "\n",
    "It can expressed as followings:\n",
    "\n",
    "$$ L_{mse} (y, \\hat y) = \\frac {1}{n} \\sum_{i=1}^n (y - \\hat y)^2$$"
   ]
  },
  {
   "cell_type": "code",
   "execution_count": 22,
   "id": "3d6a1ad2",
   "metadata": {
    "hidden": true
   },
   "outputs": [
    {
     "name": "stdout",
     "output_type": "stream",
     "text": [
      "tensor(1.3157, grad_fn=<MseLossBackward>)\n"
     ]
    }
   ],
   "source": [
    "# MSE Loss\n",
    "\n",
    "import torch\n",
    "import torch.nn as nn\n",
    "\n",
    "mse_loss = nn.MSELoss()\n",
    "outputs = torch.randn(3, 5, requires_grad=True)\n",
    "targets = torch.randn(3, 5)\n",
    "loss = mse_loss(outputs, targets)\n",
    "print(loss)"
   ]
  },
  {
   "cell_type": "markdown",
   "id": "5f242826",
   "metadata": {
    "heading_collapsed": true,
    "hidden": true
   },
   "source": [
    "### Categorical Cross-Entropy Loss"
   ]
  },
  {
   "cell_type": "markdown",
   "id": "7ca0f9e5",
   "metadata": {
    "hidden": true
   },
   "source": [
    "The catehorical cross-entropy is used in a multiclass classification setting in which the outputs are interpreted as predictions of class membership probabilities.\n",
    "\n",
    "This can be expressed as followings:\n",
    "\n",
    "$$ L_{cross\\_entropy}(y, \\hat y) = - \\sum_i y_i \\log(\\hat y_i) $$\n",
    "\n",
    "To correctly use this function, it important to udnerstand following points WRT relationship between network outputs and how loss function is computed:\n",
    "\n",
    "- There is a limit to how small or how large a number can be.\n",
    "- If input to the exponential function used in the softmax formula is a negative number, the result is an exponentially small number and it its a positive number, the resultant is an exponentially large number.\n",
    "- Network output is assumed to be vector prior to applying the softmax function.\n",
    "- The _log_ function is the inverse of the exponential function and $ log(exp(x)) $ is just equal to $ x $."
   ]
  },
  {
   "cell_type": "code",
   "execution_count": 24,
   "id": "01551720",
   "metadata": {
    "hidden": true
   },
   "outputs": [
    {
     "name": "stdout",
     "output_type": "stream",
     "text": [
      "tensor(2.0911, grad_fn=<NllLossBackward>)\n"
     ]
    }
   ],
   "source": [
    "# Crosss-entropy loss example\n",
    "\n",
    "ce_loss = nn.CrossEntropyLoss()\n",
    "outputs = torch.randn(3, 5, requires_grad=True)\n",
    "targets = torch.tensor([1, 0, 3], dtype=torch.int64)\n",
    "loss = ce_loss(outputs, targets)\n",
    "print(loss)"
   ]
  },
  {
   "cell_type": "markdown",
   "id": "9566938a",
   "metadata": {
    "heading_collapsed": true,
    "hidden": true
   },
   "source": [
    "### Binary Cross-Entropy Loss"
   ]
  },
  {
   "cell_type": "markdown",
   "id": "821715cd",
   "metadata": {
    "hidden": true
   },
   "source": [
    "When we need to discriminate between two classes, it is known as _binary classification_. For such problems, it is efficient to use the Binary Cross-Entropy(BCE) loss."
   ]
  },
  {
   "cell_type": "code",
   "execution_count": 26,
   "id": "be14ae19",
   "metadata": {
    "hidden": true
   },
   "outputs": [
    {
     "name": "stdout",
     "output_type": "stream",
     "text": [
      "tensor([[0.8030],\n",
      "        [0.8565],\n",
      "        [0.4507],\n",
      "        [0.7576]], grad_fn=<SigmoidBackward>)\n",
      "tensor(1.0937, grad_fn=<BinaryCrossEntropyBackward>)\n"
     ]
    }
   ],
   "source": [
    "# Binary Cross-Entropy Loss\n",
    "\n",
    "bce_loss = nn.BCELoss()\n",
    "sigmoid = nn.Sigmoid()\n",
    "probabilities = sigmoid(torch.randn(4, 1, requires_grad=True))\n",
    "targets = torch.tensor([1, 0, 1, 0], dtype=torch.float32).view(4, 1)\n",
    "loss = bce_loss(probabilities, targets)\n",
    "print(probabilities)\n",
    "print(loss)"
   ]
  },
  {
   "cell_type": "markdown",
   "id": "30fa51cc",
   "metadata": {
    "heading_collapsed": true
   },
   "source": [
    "## Diving Deep into Supervised Training"
   ]
  },
  {
   "cell_type": "markdown",
   "id": "5e0b20a6",
   "metadata": {
    "hidden": true
   },
   "source": [
    "_Supervised Learning_ is the problem of learning how to map _observations_ to specified _targets_ given labeled examples.\n",
    "\n",
    "Supervised Learning requires the followings:\n",
    "\n",
    "- _A Model_ -> Computes predictions from the observations\n",
    "- _A Loss Function_ -> Measures the error of predictions as compared to the targets\n",
    "- _Training Data_ -> Pair of Observations & Targets\n",
    "- _An Optimisation Algorithm_ -> Used to adjust the model parameters to keep losses as low as possible"
   ]
  },
  {
   "cell_type": "markdown",
   "id": "5870a130",
   "metadata": {
    "heading_collapsed": true,
    "hidden": true
   },
   "source": [
    "### Constructing Toy Data"
   ]
  },
  {
   "cell_type": "code",
   "execution_count": 30,
   "id": "2b595461",
   "metadata": {
    "hidden": true
   },
   "outputs": [],
   "source": [
    "import numpy as np\n",
    "\n",
    "LEFT_CENTER = (3, 3)\n",
    "RIGHT_CENTER = (3, -2)\n",
    "\n",
    "def get_toy_data(batch_size, left_center=LEFT_CENTER, right_center=RIGHT_CENTER):\n",
    "    x_data = []\n",
    "    y_targets = np.zeros(batch_size)\n",
    "    for batch_i in range(batch_size):\n",
    "        if np.random.random() > 0.5:\n",
    "            x_data.append(np.random.normal(loc=left_center))\n",
    "        else:\n",
    "            x_data.append(np.random.normal(loc=right_center))\n",
    "            y_targets[batch_i] = 1\n",
    "    return torch.tensor(x_data, dtype=torch.float32), torch.tensor(y_targets, dtype=torch.float32)"
   ]
  },
  {
   "cell_type": "code",
   "execution_count": 31,
   "id": "25350714",
   "metadata": {
    "hidden": true
   },
   "outputs": [],
   "source": [
    "def visualize_results(perceptron, x_data, y_truth, n_samples=1000, ax=None, epoch=None, \n",
    "                      title='', levels=[0.3, 0.4, 0.5], linestyles=['--', '-', '--']):\n",
    "    y_pred = perceptron(x_data)\n",
    "    y_pred = (y_pred > 0.5).long().data.numpy().astype(np.int32)\n",
    "\n",
    "    x_data = x_data.data.numpy()\n",
    "    y_truth = y_truth.data.numpy().astype(np.int32)\n",
    "\n",
    "    n_classes = 2\n",
    "\n",
    "    all_x = [[] for _ in range(n_classes)]\n",
    "    all_colors = [[] for _ in range(n_classes)]\n",
    "    \n",
    "    colors = ['black', 'white']\n",
    "    markers = ['o', '*']\n",
    "    \n",
    "    for x_i, y_pred_i, y_true_i in zip(x_data, y_pred, y_truth):\n",
    "        all_x[y_true_i].append(x_i)\n",
    "        if y_pred_i == y_true_i:\n",
    "            all_colors[y_true_i].append(\"white\")\n",
    "        else:\n",
    "            all_colors[y_true_i].append(\"black\")\n",
    "        #all_colors[y_true_i].append(colors[y_pred_i])\n",
    "\n",
    "    all_x = [np.stack(x_list) for x_list in all_x]\n",
    "\n",
    "    if ax is None:\n",
    "        _, ax = plt.subplots(1, 1, figsize=(10,10))\n",
    "        \n",
    "    for x_list, color_list, marker in zip(all_x, all_colors, markers):\n",
    "        ax.scatter(x_list[:, 0], x_list[:, 1], edgecolor=\"black\", marker=marker, facecolor=color_list, s=300)\n",
    "    \n",
    "        \n",
    "    xlim = (min([x_list[:,0].min() for x_list in all_x]), \n",
    "            max([x_list[:,0].max() for x_list in all_x]))\n",
    "            \n",
    "    ylim = (min([x_list[:,1].min() for x_list in all_x]), \n",
    "            max([x_list[:,1].max() for x_list in all_x]))\n",
    "            \n",
    "    # hyperplane\n",
    "    \n",
    "    xx = np.linspace(xlim[0], xlim[1], 30)\n",
    "    yy = np.linspace(ylim[0], ylim[1], 30)\n",
    "    YY, XX = np.meshgrid(yy, xx)\n",
    "    xy = np.vstack([XX.ravel(), YY.ravel()]).T\n",
    "    \n",
    "    Z = perceptron(torch.tensor(xy, dtype=torch.float32)).detach().numpy().reshape(XX.shape)\n",
    "    ax.contour(XX, YY, Z, colors='k', levels=levels, linestyles=linestyles)    \n",
    "    \n",
    "    plt.suptitle(title)\n",
    "    \n",
    "    if epoch is not None:\n",
    "        plt.text(xlim[0], ylim[1], \"Epoch = {}\".format(str(epoch)))"
   ]
  },
  {
   "cell_type": "code",
   "execution_count": 32,
   "id": "16a88e90",
   "metadata": {
    "hidden": true
   },
   "outputs": [
    {
     "data": {
      "image/png": "[encoded data removed]",
      "text/plain": [
       "<Figure size 720x288 with 1 Axes>"
      ]
     },
     "metadata": {
      "needs_background": "light"
     },
     "output_type": "display_data"
    }
   ],
   "source": [
    "# Initial Data Plot\n",
    "\n",
    "seed = 1337\n",
    "\n",
    "torch.manual_seed(seed)\n",
    "torch.cuda.manual_seed_all(seed)\n",
    "np.random.seed(seed)\n",
    "\n",
    "x_data, y_truth = get_toy_data(batch_size=1000)\n",
    "\n",
    "x_data = x_data.data.numpy()\n",
    "y_truth = y_truth.data.numpy()\n",
    "\n",
    "left_x = []\n",
    "right_x = []\n",
    "left_colors = []\n",
    "right_colors =  []\n",
    "\n",
    "for x_i, y_true_i in zip(x_data, y_truth):\n",
    "    color = 'black'\n",
    "\n",
    "    if y_true_i == 0:\n",
    "        left_x.append(x_i)\n",
    "        left_colors.append(color)\n",
    "\n",
    "    else:\n",
    "        right_x.append(x_i)\n",
    "        right_colors.append(color)\n",
    "\n",
    "left_x = np.stack(left_x)\n",
    "right_x = np.stack(right_x)\n",
    "\n",
    "_, ax = plt.subplots(1, 1, figsize=(10,4))\n",
    "\n",
    "ax.scatter(left_x[:, 0], left_x[:, 1], color=left_colors, marker='*', s=100)\n",
    "ax.scatter(right_x[:, 0], right_x[:, 1], facecolor='white', edgecolor=right_colors, marker='o', s=100)\n",
    "\n",
    "plt.axis('off');"
   ]
  },
  {
   "cell_type": "markdown",
   "id": "ce9dffb6",
   "metadata": {
    "heading_collapsed": true,
    "hidden": true
   },
   "source": [
    "#### Problem Solving Steps"
   ]
  },
  {
   "cell_type": "markdown",
   "id": "66b822ce",
   "metadata": {
    "hidden": true
   },
   "source": [
    "- Choosing a Model\n",
    "- Converting the probabilities to discrete classes\n",
    "- Chossing a loss function\n",
    "- Choosing an Optimizer"
   ]
  },
  {
   "cell_type": "code",
   "execution_count": 33,
   "id": "795bb47f",
   "metadata": {
    "hidden": true
   },
   "outputs": [],
   "source": [
    "# Instantiating the Adam optimizer\n",
    "\n",
    "import torch.optim as optim\n",
    "\n",
    "input_dim = 2\n",
    "lr = 0.001\n",
    "\n",
    "perceptron = Perceptron(input_dim=input_dim)\n",
    "bce_loss = nn.BCELoss()\n",
    "optimizer = optim.Adam(params=perceptron.parameters(), lr=lr)"
   ]
  },
  {
   "cell_type": "markdown",
   "id": "aaf01f83",
   "metadata": {
    "heading_collapsed": true,
    "hidden": true
   },
   "source": [
    "### Putting it Together: Gradient Bases Supervised Learning"
   ]
  },
  {
   "cell_type": "markdown",
   "id": "ee1c52f5",
   "metadata": {
    "hidden": true
   },
   "source": [
    "_Gradient-Stepping_ Algorithm steps:\n",
    "\n",
    "- First bookkeeping information such as gradients, stored inside the model object are cleared with a function named `zero_grad()`.\n",
    "- Then model computes outputs(`y_pred`) given the input data(`x_data`).\n",
    "- Loss is computed by comparing model outputs(`y_pred`) to intended targets(`y_target`).\n",
    "- PyTorch loss object(`criterion`) uses `backward()` function to propagate the loss backward through the computational graph and notifies each parameter of its gradient.\n",
    "- Finally, optimizer(`opt`) instructs the parameters how to update their values knowing the gradient with function named `step()`."
   ]
  },
  {
   "cell_type": "code",
   "execution_count": 34,
   "id": "bac18e21",
   "metadata": {
    "hidden": true
   },
   "outputs": [],
   "source": [
    "# A Supervised training loop for a perceptron and binary classification\n",
    "\n",
    "\n",
    "def train_model(model, n_epochs, n_batches, data_fn, loss_fn, optimizer):\n",
    "    # Each epoch is a complete pass over the training data\n",
    "    for epoch_i in range(n_epochs):\n",
    "        # The inner loop is over the batches in the dataset\n",
    "        for batch_i in range(n_batches):\n",
    "            # Step 0: Get the data\n",
    "            x_data, y_target = data_fn(batch_size)\n",
    "            \n",
    "            # Step 1: Clear the gradients\n",
    "            model.zero_grad()\n",
    "            \n",
    "            # Step 2: Compute the forward pass of the model\n",
    "            y_prad = model(x_data, apply_sigmoid=True)\n",
    "            \n",
    "            # Step 3: Compute the loss value that we wish to optimizer\n",
    "            loss = loss_fn(y_pred, y_target)\n",
    "            \n",
    "            # Step 4: Prepagate the loss signal backward\n",
    "            loss.backward()\n",
    "            \n",
    "            # Step 5: Trigger the optimizer to perform one update\n",
    "            optimizer.step()"
   ]
  },
  {
   "cell_type": "markdown",
   "id": "78c5cec4",
   "metadata": {
    "heading_collapsed": true
   },
   "source": [
    "## Auxiliary Training Concepts"
   ]
  },
  {
   "cell_type": "markdown",
   "id": "05f5d8e8",
   "metadata": {
    "hidden": true
   },
   "source": [
    "**Correctly Measuring Model Performance: Evaluation Metrics**\n",
    "\n",
    "- Models are evaludated using one or more _evaluation metrics_.\n",
    "- Accuracy is simply the fraction of the predictions that were correct on a dataset unseen during trainig.\n",
    "\n",
    "**Correcrly Measuing Model Performace: Splitting the Dataset**\n",
    "\n",
    "- Final goal of modeling is to generalize well to true distribution of data.\n",
    "- Model is said to have generalized better than another model if it reduces error on sample seen in the training data and also samples from the unseen data.\n",
    "- To accomplish this goal, it is a good practice to aggregate the dataset by class label and then randomly split each set separated by class label into training, validation & test datasets. A common split percentage is to reserve 70% for training, 15% for validation & 15% for testing.\n",
    "\n",
    "**Knowing When to stop train**\n",
    "\n",
    "- Most common methods is to use heuristic called _early stopping_.\n",
    "- It keep track of the performance on the validation dataset for each epoch and terminates of performance no longer improves.\n",
    "- Number of epochs to wait before terminating the training referred to as the _patience_. The point at which model stops improving is said to be when the model has _converged_.\n",
    "\n",
    "**Finding the right Hyperparameters**\n",
    "\n",
    "- A _hyperparameter_ is any model setting that affetcs the number of parameters in the model and values by the parameters.\n",
    "- Some examples are loss function, optimzer, learning rate of optimizer, layer sizes, patience for early stopping and regularization decisions.\n",
    "\n",
    "**Regularization**\n",
    "\n",
    "- _L2 regularization_ is called smoothness constraint whereas _L1 regularization_ is used to encourage sparser solutions where most of the model parameters values are close to zero."
   ]
  },
  {
   "cell_type": "code",
   "execution_count": null,
   "id": "6553d632",
   "metadata": {
    "hidden": true
   },
   "outputs": [],
   "source": []
  }
 ],
 "metadata": {
  "kernelspec": {
   "display_name": "Python 3",
   "language": "python",
   "name": "python3"
  },
  "language_info": {
   "codemirror_mode": {
    "name": "ipython",
    "version": 3
   },
   "file_extension": ".py",
   "mimetype": "text/x-python",
   "name": "python",
   "nbconvert_exporter": "python",
   "pygments_lexer": "ipython3",
   "version": "3.8.10"
  },
  "toc": {
   "base_numbering": 1,
   "nav_menu": {},
   "number_sections": true,
   "sideBar": true,
   "skip_h1_title": false,
   "title_cell": "Foundational Components of Neural Networks",
   "title_sidebar": "Contents",
   "toc_cell": true,
   "toc_position": {},
   "toc_section_display": true,
   "toc_window_display": false
  }
 },
 "nbformat": 4,
 "nbformat_minor": 5
}
