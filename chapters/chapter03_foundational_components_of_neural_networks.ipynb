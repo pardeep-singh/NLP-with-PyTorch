{
 "cells": [
  {
   "cell_type": "markdown",
   "id": "e740ec70",
   "metadata": {
    "toc": true
   },
   "source": [
    "<h1>Foundational components of Neural Networks<span class=\"tocSkip\"></span></h1>\n",
    "<div class=\"toc\"><ul class=\"toc-item\"><li><span><a href=\"#The-Perceptron:-The-Simplest-Neural-Network\" data-toc-modified-id=\"The-Perceptron:-The-Simplest-Neural-Network-1\"><span class=\"toc-item-num\">1&nbsp;&nbsp;</span>The Perceptron: The Simplest Neural Network</a></span></li><li><span><a href=\"#Activation-Functions\" data-toc-modified-id=\"Activation-Functions-2\"><span class=\"toc-item-num\">2&nbsp;&nbsp;</span>Activation Functions</a></span><ul class=\"toc-item\"><li><span><a href=\"#Sigmoid\" data-toc-modified-id=\"Sigmoid-2.1\"><span class=\"toc-item-num\">2.1&nbsp;&nbsp;</span>Sigmoid</a></span></li><li><span><a href=\"#Tanh\" data-toc-modified-id=\"Tanh-2.2\"><span class=\"toc-item-num\">2.2&nbsp;&nbsp;</span>Tanh</a></span></li><li><span><a href=\"#ReLU-(Rectified-Linear-Unit)\" data-toc-modified-id=\"ReLU-(Rectified-Linear-Unit)-2.3\"><span class=\"toc-item-num\">2.3&nbsp;&nbsp;</span>ReLU (Rectified Linear Unit)</a></span></li><li><span><a href=\"#Softmax\" data-toc-modified-id=\"Softmax-2.4\"><span class=\"toc-item-num\">2.4&nbsp;&nbsp;</span>Softmax</a></span></li></ul></li><li><span><a href=\"#Loss-Functions\" data-toc-modified-id=\"Loss-Functions-3\"><span class=\"toc-item-num\">3&nbsp;&nbsp;</span>Loss Functions</a></span><ul class=\"toc-item\"><li><span><a href=\"#Mean-Squared-Error-Loss\" data-toc-modified-id=\"Mean-Squared-Error-Loss-3.1\"><span class=\"toc-item-num\">3.1&nbsp;&nbsp;</span>Mean Squared Error Loss</a></span></li><li><span><a href=\"#Categorical-Cross-Entropy-Loss\" data-toc-modified-id=\"Categorical-Cross-Entropy-Loss-3.2\"><span class=\"toc-item-num\">3.2&nbsp;&nbsp;</span>Categorical Cross-Entropy Loss</a></span></li><li><span><a href=\"#Binary-Cross-Entropy-Loss\" data-toc-modified-id=\"Binary-Cross-Entropy-Loss-3.3\"><span class=\"toc-item-num\">3.3&nbsp;&nbsp;</span>Binary Cross-Entropy Loss</a></span></li></ul></li></ul></div>"
   ]
  },
  {
   "cell_type": "markdown",
   "id": "cc53c365",
   "metadata": {
    "heading_collapsed": true
   },
   "source": [
    "## The Perceptron: The Simplest Neural Network"
   ]
  },
  {
   "cell_type": "markdown",
   "id": "59223dd9",
   "metadata": {
    "hidden": true
   },
   "source": [
    "_Perceptron_ is the simplest neural network unit. It was loosely modeled after the biological neuron. It has input and output and data flow from inputs to the outputs similar to biological neuron.\n",
    "\n",
    "<img src=\"../images/figure_3_1.png\" />\n",
    "\n",
    "**Each Perceptron unit has following components:**\n",
    "\n",
    "- _Input_ ($ x $)\n",
    "- _Output_ ($ y $)\n",
    "- _Weights_ ($ w $)\n",
    "- _Bias_ ($ b $)\n",
    "- _Activation Function_ ($ f $)\n",
    "\n",
    "Weights & bias are learned from the data & activation function is handpicked depending on network and target outputs.\n",
    "\n",
    "Mathematically this can expressed as following:\n",
    "\n",
    "$$ y = f(wx + b) $$\n",
    "\n",
    "Activation function is typically a non linear function and $ wx + b $ is a linear function hence a Perceptron is a _composition of a linear and nonlinear function_. The linear expression $ wx + b $ is also known as an _affine transform_."
   ]
  },
  {
   "cell_type": "code",
   "execution_count": 2,
   "id": "2abc7278",
   "metadata": {
    "hidden": true
   },
   "outputs": [],
   "source": [
    "# Implementing a perceptron using PyTorch\n",
    "\n",
    "import torch\n",
    "import torch.nn as nn\n",
    "\n",
    "\n",
    "class Perceptron(nn.Module):\n",
    "    \"\"\"\n",
    "    A Perceptron is one Linear Layer.\n",
    "    \"\"\"\n",
    "    def __init__(self, input_dim):\n",
    "        \"\"\"\n",
    "        Args:\n",
    "            input_dim(int): Size of the input features\n",
    "        \"\"\"\n",
    "        super(Perceptron, self).__init__()\n",
    "        self.fc1 = nn.Linear(input_dim, 1)\n",
    "    \n",
    "    def forward(self, x_in):\n",
    "        \"\"\"\n",
    "        The forward pass of the Perceptron.\n",
    "        \n",
    "        Args:\n",
    "            x_in(torch.Tensor): an input data tensor x_in.shape\n",
    "            should be (batch, num_features).\n",
    "        \"\"\"\n",
    "        return torch.sigmoid(self.fc1(x_in)).squeeze()"
   ]
  },
  {
   "cell_type": "markdown",
   "id": "f8a15756",
   "metadata": {
    "heading_collapsed": true
   },
   "source": [
    "## Activation Functions"
   ]
  },
  {
   "cell_type": "markdown",
   "id": "a07d908a",
   "metadata": {
    "hidden": true
   },
   "source": [
    "Activation functions are nonlinearities introduced in a neural network to capture complex relationships in data."
   ]
  },
  {
   "cell_type": "markdown",
   "id": "45aacb96",
   "metadata": {
    "heading_collapsed": true,
    "hidden": true
   },
   "source": [
    "### Sigmoid"
   ]
  },
  {
   "cell_type": "markdown",
   "id": "27d1cba0",
   "metadata": {
    "hidden": true
   },
   "source": [
    "Sigmoid takes any real value and squashes it into the range $ [0, 1] $. \n",
    "\n",
    "Mathematically sigmoid function is expressed as follows:\n",
    "\n",
    "$$ f(x) = \\frac {1}{1 + e^{-x}} $$\n",
    "\n",
    "Sigmoid function saturates very quickly and for a majority of the inputs. This can lead to _vanishing gradient problem(gradient becoming 0)_ and _exploring gradient problem(overflowing floating point value)_. \n",
    "\n",
    "Due to this sigmoid is rarely used in network units rather it is used at output where output are required to be interpreted as probabilities.\n"
   ]
  },
  {
   "cell_type": "code",
   "execution_count": 5,
   "id": "75f8bcd1",
   "metadata": {
    "hidden": true
   },
   "outputs": [
    {
     "data": {
      "image/png": "[encoded data removed]",
      "text/plain": [
       "<Figure size 432x288 with 1 Axes>"
      ]
     },
     "metadata": {
      "needs_background": "light"
     },
     "output_type": "display_data"
    }
   ],
   "source": [
    "# Sigmoid activation example\n",
    "\n",
    "import torch\n",
    "import matplotlib.pyplot as plt\n",
    "\n",
    "x = torch.arange(-5., 5., 0.1)\n",
    "y = torch.sigmoid(x)\n",
    "plt.plot(x.numpy(), y.numpy())\n",
    "plt.show()"
   ]
  },
  {
   "cell_type": "markdown",
   "id": "8e5290c1",
   "metadata": {
    "heading_collapsed": true,
    "hidden": true
   },
   "source": [
    "### Tanh"
   ]
  },
  {
   "cell_type": "markdown",
   "id": "cac4c196",
   "metadata": {
    "hidden": true
   },
   "source": [
    "The tanh activation function is a cosmetically different variant of the sigmoid and it is simply a linear transform of the sigmoid function. \n",
    "\n",
    "Tanh is also a squashing function as it maps real values form $ [-\\infty, +\\infty] $ to the range $ [-1, +1] $.\n",
    "\n",
    "Mathematically, tanh can be expressed as following:\n",
    "\n",
    "$$ f(x) = \\tanh x = \\frac {e^x - e^{-x}}{e^x + e^{-x}}$$"
   ]
  },
  {
   "cell_type": "code",
   "execution_count": 8,
   "id": "0b2d31c6",
   "metadata": {
    "hidden": true
   },
   "outputs": [
    {
     "data": {
      "image/png": "[encoded data removed]",
      "text/plain": [
       "<Figure size 432x288 with 1 Axes>"
      ]
     },
     "metadata": {
      "needs_background": "light"
     },
     "output_type": "display_data"
    }
   ],
   "source": [
    "# Tanh activation example\n",
    "\n",
    "import torch\n",
    "import matplotlib.pyplot as plt\n",
    "\n",
    "x = torch.arange(-5., 5., 0.1)\n",
    "y = torch.tanh(x)\n",
    "plt.plot(x.numpy(), y.numpy())\n",
    "plt.show()"
   ]
  },
  {
   "cell_type": "markdown",
   "id": "5bc99fdf",
   "metadata": {
    "heading_collapsed": true,
    "hidden": true
   },
   "source": [
    "### ReLU (Rectified Linear Unit)"
   ]
  },
  {
   "cell_type": "markdown",
   "id": "69a96315",
   "metadata": {
    "hidden": true
   },
   "source": [
    "ReLU unit clips the negative values to zero and it can be expressed as following:\n",
    "\n",
    "$$ f(x) = max(0, x) $$\n",
    "\n",
    "ReLU can be impacted by _dying ReLU problem_ as some certrain outputs in the network can simply become zero and never revive again.\n",
    "\n",
    "To mitigate this effect, variants such as _Leaky ReLU and Parameteric ReLU(PReLU)_ activation functions have been proposed where the lead coefficient $ a $ is a learned paremeter. It can expressed as:\n",
    "\n",
    "$$ f(x) = max(x, ax) $$"
   ]
  },
  {
   "cell_type": "code",
   "execution_count": 11,
   "id": "5ddb4979",
   "metadata": {
    "hidden": true
   },
   "outputs": [
    {
     "data": {
      "image/png": "[encoded data removed]",
      "text/plain": [
       "<Figure size 432x288 with 1 Axes>"
      ]
     },
     "metadata": {
      "needs_background": "light"
     },
     "output_type": "display_data"
    }
   ],
   "source": [
    "# ReLU activation example\n",
    "\n",
    "import torch\n",
    "import matplotlib.pyplot as plt\n",
    "\n",
    "relu = torch.nn.ReLU()\n",
    "x = torch.arange(-5., 5., 0.1)\n",
    "y = relu(x)\n",
    "plt.plot(x.numpy(), y.numpy())\n",
    "plt.show()"
   ]
  },
  {
   "cell_type": "code",
   "execution_count": 18,
   "id": "83a6003a",
   "metadata": {
    "hidden": true
   },
   "outputs": [
    {
     "data": {
      "image/png": "[encoded data removed]",
      "text/plain": [
       "<Figure size 432x288 with 1 Axes>"
      ]
     },
     "metadata": {
      "needs_background": "light"
     },
     "output_type": "display_data"
    }
   ],
   "source": [
    "# PReLU activation example\n",
    "\n",
    "import torch\n",
    "import matplotlib.pyplot as plt\n",
    "\n",
    "prelu = torch.nn.PReLU(num_parameters=1)\n",
    "x = torch.arange(-5., 5., 0.1)\n",
    "y = prelu(x)\n",
    "plt.plot(x.numpy(), y.detach().numpy())\n",
    "plt.show()"
   ]
  },
  {
   "cell_type": "markdown",
   "id": "ca3875d1",
   "metadata": {
    "heading_collapsed": true,
    "hidden": true
   },
   "source": [
    "### Softmax"
   ]
  },
  {
   "cell_type": "markdown",
   "id": "e530b80f",
   "metadata": {
    "hidden": true
   },
   "source": [
    "Softmax function also squashes the output betweem $ [0, 1] $ range. It also divides each output by the sum of all the outputs, whcih gives us a discrete probability distribution over k possible classes.\n",
    "\n",
    "This can be expressed as:\n",
    "\n",
    "$$ softmax(x_i) = \\frac {e^{x_i}} { \\sum_{j=1}^h e^{x_j}} $$"
   ]
  },
  {
   "cell_type": "code",
   "execution_count": 21,
   "id": "714d6839",
   "metadata": {
    "hidden": true
   },
   "outputs": [
    {
     "name": "stdout",
     "output_type": "stream",
     "text": [
      "tensor([[-0.3034,  0.5813, -0.0656]])\n",
      "tensor([[0.2132, 0.5164, 0.2704]])\n",
      "tensor([1.])\n"
     ]
    }
   ],
   "source": [
    "# Softmax activation Example\n",
    "\n",
    "import torch\n",
    "\n",
    "softmax = torch.nn.Softmax(dim=1)\n",
    "x = torch.randn(1, 3)\n",
    "y = softmax(x)\n",
    "print(x)\n",
    "print(y)\n",
    "print(torch.sum(y, dim=1))"
   ]
  },
  {
   "cell_type": "markdown",
   "id": "577a0e54",
   "metadata": {
    "heading_collapsed": true
   },
   "source": [
    "## Loss Functions"
   ]
  },
  {
   "cell_type": "markdown",
   "id": "f36dee97",
   "metadata": {
    "hidden": true
   },
   "source": [
    "Loss functions help guide the training algorithm to pick the right parameters by using the data. Loss function takes a truth($ y $) and a prediction( $ \\hat y $) as an input and produced a real values score. The lower the score, better the model prediction is."
   ]
  },
  {
   "cell_type": "markdown",
   "id": "636c8a6e",
   "metadata": {
    "heading_collapsed": true,
    "hidden": true
   },
   "source": [
    "### Mean Squared Error Loss"
   ]
  },
  {
   "cell_type": "markdown",
   "id": "918caa2c",
   "metadata": {
    "hidden": true
   },
   "source": [
    "The MSE is simply the average of the squares of the difference between the predicted & target values.\n",
    "\n",
    "It can expressed as followings:\n",
    "\n",
    "$$ L_{mse} (y, \\hat y) = \\frac {1}{n} \\sum_{i=1}^n (y - \\hat y)^2$$"
   ]
  },
  {
   "cell_type": "code",
   "execution_count": 22,
   "id": "9ba889ff",
   "metadata": {
    "hidden": true
   },
   "outputs": [
    {
     "name": "stdout",
     "output_type": "stream",
     "text": [
      "tensor(1.3157, grad_fn=<MseLossBackward>)\n"
     ]
    }
   ],
   "source": [
    "# MSE Loss\n",
    "\n",
    "import torch\n",
    "import torch.nn as nn\n",
    "\n",
    "mse_loss = nn.MSELoss()\n",
    "outputs = torch.randn(3, 5, requires_grad=True)\n",
    "targets = torch.randn(3, 5)\n",
    "loss = mse_loss(outputs, targets)\n",
    "print(loss)"
   ]
  },
  {
   "cell_type": "markdown",
   "id": "f8323759",
   "metadata": {
    "heading_collapsed": true,
    "hidden": true
   },
   "source": [
    "### Categorical Cross-Entropy Loss"
   ]
  },
  {
   "cell_type": "markdown",
   "id": "9690aca4",
   "metadata": {
    "hidden": true
   },
   "source": [
    "The catehorical cross-entropy is used in a multiclass classification setting in which the outputs are interpreted as predictions of class membership probabilities.\n",
    "\n",
    "This can be expressed as followings:\n",
    "\n",
    "$$ L_{cross\\_entropy}(y, \\hat y) = - \\sum_i y_i \\log(\\hat y_i) $$\n",
    "\n",
    "To correctly use this function, it important to udnerstand following points WRT relationship between network outputs and how loss function is computed:\n",
    "\n",
    "- There is a limit to how small or how large a number can be.\n",
    "- If input to the exponential function used in the softmax formula is a negative number, the result is an exponentially small number and it its a positive number, the resultant is an exponentially large number.\n",
    "- Network output is assumed to be vector prior to applying the softmax function.\n",
    "- The _log_ function is the inverse of the exponential function and $ log(exp(x)) $ is just equal to $ x $."
   ]
  },
  {
   "cell_type": "code",
   "execution_count": 24,
   "id": "8b1631b5",
   "metadata": {
    "hidden": true
   },
   "outputs": [
    {
     "name": "stdout",
     "output_type": "stream",
     "text": [
      "tensor(2.0911, grad_fn=<NllLossBackward>)\n"
     ]
    }
   ],
   "source": [
    "# Crosss-entropy loss example\n",
    "\n",
    "ce_loss = nn.CrossEntropyLoss()\n",
    "outputs = torch.randn(3, 5, requires_grad=True)\n",
    "targets = torch.tensor([1, 0, 3], dtype=torch.int64)\n",
    "loss = ce_loss(outputs, targets)\n",
    "print(loss)"
   ]
  },
  {
   "cell_type": "markdown",
   "id": "c693b26b",
   "metadata": {
    "heading_collapsed": true,
    "hidden": true
   },
   "source": [
    "### Binary Cross-Entropy Loss"
   ]
  },
  {
   "cell_type": "markdown",
   "id": "3a453293",
   "metadata": {
    "hidden": true
   },
   "source": [
    "When we need to discriminate between two classes, it is known as _binary classification_. For such problems, it is efficient to use the Binary Cross-Entropy(BCE) loss."
   ]
  },
  {
   "cell_type": "code",
   "execution_count": 26,
   "id": "1c4de4c3",
   "metadata": {
    "hidden": true
   },
   "outputs": [
    {
     "name": "stdout",
     "output_type": "stream",
     "text": [
      "tensor([[0.8030],\n",
      "        [0.8565],\n",
      "        [0.4507],\n",
      "        [0.7576]], grad_fn=<SigmoidBackward>)\n",
      "tensor(1.0937, grad_fn=<BinaryCrossEntropyBackward>)\n"
     ]
    }
   ],
   "source": [
    "# Binary Cross-Entropy Loss\n",
    "\n",
    "bce_loss = nn.BCELoss()\n",
    "sigmoid = nn.Sigmoid()\n",
    "probabilities = sigmoid(torch.randn(4, 1, requires_grad=True))\n",
    "targets = torch.tensor([1, 0, 1, 0], dtype=torch.float32).view(4, 1)\n",
    "loss = bce_loss(probabilities, targets)\n",
    "print(probabilities)\n",
    "print(loss)"
   ]
  },
  {
   "cell_type": "code",
   "execution_count": null,
   "id": "ea749433",
   "metadata": {
    "hidden": true
   },
   "outputs": [],
   "source": []
  }
 ],
 "metadata": {
  "kernelspec": {
   "display_name": "Python 3",
   "language": "python",
   "name": "python3"
  },
  "language_info": {
   "codemirror_mode": {
    "name": "ipython",
    "version": 3
   },
   "file_extension": ".py",
   "mimetype": "text/x-python",
   "name": "python",
   "nbconvert_exporter": "python",
   "pygments_lexer": "ipython3",
   "version": "3.8.10"
  },
  "toc": {
   "base_numbering": 1,
   "nav_menu": {},
   "number_sections": true,
   "sideBar": true,
   "skip_h1_title": false,
   "title_cell": "Foundational components of Neural Networks",
   "title_sidebar": "Contents",
   "toc_cell": true,
   "toc_position": {},
   "toc_section_display": true,
   "toc_window_display": false
  }
 },
 "nbformat": 4,
 "nbformat_minor": 5
}
