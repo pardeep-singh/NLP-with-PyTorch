{
 "cells": [
  {
   "cell_type": "markdown",
   "id": "3e610437",
   "metadata": {
    "toc": true
   },
   "source": [
    "<h1>Table of Contents<span class=\"tocSkip\"></span></h1>\n",
    "<div class=\"toc\"><ul class=\"toc-item\"><li><span><a href=\"#Introduction\" data-toc-modified-id=\"Introduction-1\"><span class=\"toc-item-num\">1&nbsp;&nbsp;</span>Introduction</a></span></li><li><span><a href=\"#The-Supervised-Learning-Paradigm\" data-toc-modified-id=\"The-Supervised-Learning-Paradigm-2\"><span class=\"toc-item-num\">2&nbsp;&nbsp;</span>The Supervised Learning Paradigm</a></span></li><li><span><a href=\"#Observation-and-Target-Encoding\" data-toc-modified-id=\"Observation-and-Target-Encoding-3\"><span class=\"toc-item-num\">3&nbsp;&nbsp;</span>Observation and Target Encoding</a></span><ul class=\"toc-item\"><li><span><a href=\"#One-Hot-Representation\" data-toc-modified-id=\"One-Hot-Representation-3.1\"><span class=\"toc-item-num\">3.1&nbsp;&nbsp;</span>One Hot Representation</a></span></li><li><span><a href=\"#TF-Representation\" data-toc-modified-id=\"TF-Representation-3.2\"><span class=\"toc-item-num\">3.2&nbsp;&nbsp;</span>TF Representation</a></span></li><li><span><a href=\"#TF-IDF-Representation\" data-toc-modified-id=\"TF-IDF-Representation-3.3\"><span class=\"toc-item-num\">3.3&nbsp;&nbsp;</span>TF-IDF Representation</a></span></li></ul></li><li><span><a href=\"#Computational-Graphs\" data-toc-modified-id=\"Computational-Graphs-4\"><span class=\"toc-item-num\">4&nbsp;&nbsp;</span>Computational Graphs</a></span></li></ul></div>"
   ]
  },
  {
   "cell_type": "markdown",
   "id": "b529cb19",
   "metadata": {
    "heading_collapsed": true
   },
   "source": [
    "## Introduction"
   ]
  },
  {
   "cell_type": "markdown",
   "id": "d1d313d7",
   "metadata": {
    "hidden": true
   },
   "source": [
    "- **NLP** refers to a set of techniques involving application of statistical methods with or without insights from linguistics, to understand text for the sake of solving real world tasks.\n",
    "\n",
    "\n",
    "- The **understanding** of text is mainly derived by transforming texts of useable computational **representations**, which are discrete or continous combinational structures such as vectors or tensors, graphs and trees.\n",
    "\n",
    "\n",
    "- The learning of representation for a task from data(text) is the subject of **Machine Learning**.\n",
    "\n",
    "\n",
    "- **Deep Learning** enables one to efficiently learn representations from data using an abstraction called the **computational graph** and numerical optimisation techniques."
   ]
  },
  {
   "cell_type": "markdown",
   "id": "8deed8d8",
   "metadata": {
    "heading_collapsed": true
   },
   "source": [
    "## The Supervised Learning Paradigm"
   ]
  },
  {
   "cell_type": "markdown",
   "id": "17644863",
   "metadata": {
    "hidden": true
   },
   "source": [
    "![Figure 1.1](figures/figure1.1.png)"
   ]
  },
  {
   "cell_type": "markdown",
   "id": "2c9d296e",
   "metadata": {
    "hidden": true
   },
   "source": [
    "Supervision in machine Learning or **supervised learning**, refers to cases where the ground truth for the *targets* is available for the *observations*. For example, in document classification, the _target is a categorical label_ and the _observation is a document_.\n",
    "\n",
    "\n",
    "**Supervised Learning Paradigm concepts:**\n",
    "\n",
    "- *Observations*: Sometimes refers to as _inputs_ and denoted as $ x $. These are items about which we want to predict something.\n",
    "- *Targets*: Sometimes known as _ground truth_ and referred as $ y $. These are labels corresponding to an obvsevation and these are usually being predicted.\n",
    "- *Model*: A mathematical functions that takes an observation $ x $ and predicts the value of its target label $ y $.\n",
    "- *Parameters*: Also known as _weights_ parameterize the model. These are denoted by $ \\hat w $. \n",
    "- *Predictions*: These are the values of the targets gussed by the model given the observations and also known as _estimates_. These are denoted as $ \\hat y $.\n",
    "- *Loss Function*: Loss function is used to compare how far off a prediction is from its target for observations in the training data. Given a target and its prediction, the loss function assigns a scalar real value called the _loss_. Lower the value of loss, the better the model is at predicting the target. Loss is denoted by $ L $."
   ]
  },
  {
   "cell_type": "markdown",
   "id": "5e311023",
   "metadata": {
    "hidden": true
   },
   "source": [
    "Consider a dataset $ D = \\{X_i, y_i\\} ^ {n}_{i=1} $ with $ n $ examples. Given this dataset, we want to learn a function $ f $ parameterized by weights $ w $. We make an assumption about the structure of $ f $, and given that structure, the learned values of the weights $ w $ will fully characterize the model. For a given input $ X $, the model predicts $ \\hat y $ as the target:\n",
    "\n",
    "$$ \\hat y = f(X, w) $$\n",
    "\n",
    "In supervised learning, for training examples, we know the true target $ y $ for an observation. The loss for this instance will then be $ L(y, \\hat y) $. Supervised learning then becomes a process of finding the optimal parameters/weights $ w $ that will minimize the cumulative loss for all the $ n $ examples."
   ]
  },
  {
   "cell_type": "markdown",
   "id": "6ee08776",
   "metadata": {
    "heading_collapsed": true
   },
   "source": [
    "## Observation and Target Encoding"
   ]
  },
  {
   "cell_type": "markdown",
   "id": "780b1f58",
   "metadata": {
    "hidden": true
   },
   "source": [
    "In order to use Machine Learning Algorithms for Text observations, we need a method to represent these observations numerically. A simple way to represent text is a **numerical vector**."
   ]
  },
  {
   "cell_type": "markdown",
   "id": "102d4a25",
   "metadata": {
    "hidden": true
   },
   "source": [
    "![Figure 1.2](figures/figure1.2.png)"
   ]
  },
  {
   "cell_type": "markdown",
   "id": "7ac08c2b",
   "metadata": {
    "hidden": true
   },
   "source": [
    "### One Hot Representation"
   ]
  },
  {
   "cell_type": "markdown",
   "id": "d3239ad6",
   "metadata": {
    "hidden": true
   },
   "source": [
    "The _one-hot representation_, as the name suggestes, starts with a zero vector and sets as 1 the corresponding entry in the vector if the word is present in the sentence or document.\n",
    "\n",
    "Examples:\n",
    "- _Time flies like an arrow._\n",
    "- _Fruit flies like a banana._"
   ]
  },
  {
   "cell_type": "markdown",
   "id": "451c8428",
   "metadata": {
    "hidden": true
   },
   "source": [
    "![Figure 1.3](figures/figure1.3.png)"
   ]
  },
  {
   "cell_type": "markdown",
   "id": "17b2d031",
   "metadata": {
    "hidden": true
   },
   "source": [
    "### TF Representation"
   ]
  },
  {
   "cell_type": "markdown",
   "id": "4e57c448",
   "metadata": {
    "hidden": true
   },
   "source": [
    "The _TF representation_ of a phrase, sentence or document is simply the sum of the one-hot representations of its constituent wordas. TF of a word $ w $ is denoted by $ TF(w) $."
   ]
  },
  {
   "cell_type": "code",
   "execution_count": 11,
   "id": "4b2ca11f",
   "metadata": {
    "hidden": true
   },
   "outputs": [
    {
     "data": {
      "text/plain": [
       "<AxesSubplot:>"
      ]
     },
     "execution_count": 11,
     "metadata": {},
     "output_type": "execute_result"
    },
    {
     "data": {
      "image/png": "[encoded data removed]",
      "text/plain": [
       "<Figure size 432x288 with 1 Axes>"
      ]
     },
     "metadata": {
      "needs_background": "light"
     },
     "output_type": "display_data"
    }
   ],
   "source": [
    "from sklearn.feature_extraction.text import CountVectorizer\n",
    "import seaborn as sns\n",
    "\n",
    "corpus = [\n",
    "    \"Time flies flies like an arrow.\",\n",
    "    \"Fruit flies like a banana.\"\n",
    "]\n",
    "one_hot_vectorizer = CountVectorizer(binary=True)\n",
    "one_hot = one_hot_vectorizer.fit_transform(corpus).toarray()\n",
    "sns.heatmap(\n",
    "    one_hot, annot=True,\n",
    "    cbar=False, xticklabels=sorted(list(one_hot_vectorizer.vocabulary_.keys())),\n",
    "    yticklabels=['Sentence 1', 'Sentence 2']\n",
    ")"
   ]
  },
  {
   "cell_type": "markdown",
   "id": "0db059fd",
   "metadata": {
    "hidden": true
   },
   "source": [
    "### TF-IDF Representation"
   ]
  },
  {
   "cell_type": "markdown",
   "id": "abf89615",
   "metadata": {
    "hidden": true
   },
   "source": [
    "The _IDF(Inverse Document Frequency)_ penalizes common tokens and reward rare tokens in the vector represemtation. The _IDF(w)_ of a token w is defined with respect to a corpus as:\n",
    "\n",
    "$$ IDF(w) = \\log \\frac {N}{n_w} $$\n",
    "where $ n_w $ is the number of documents containing the word $ w $ and $ N $ is the total number of documents.\n",
    "\n",
    "The _TF-IDF_ score is simply the product $ TF(w) * IDF(w) $.\n",
    "\n",
    "Heuristic representations like TF-IDF are rarely used in Deep Learning as the goal is to learn such representation."
   ]
  },
  {
   "cell_type": "code",
   "execution_count": 12,
   "id": "4e122895",
   "metadata": {
    "hidden": true
   },
   "outputs": [
    {
     "data": {
      "text/plain": [
       "<AxesSubplot:>"
      ]
     },
     "execution_count": 12,
     "metadata": {},
     "output_type": "execute_result"
    },
    {
     "data": {
      "image/png": "[encoded data removed]",
      "text/plain": [
       "<Figure size 432x288 with 1 Axes>"
      ]
     },
     "metadata": {
      "needs_background": "light"
     },
     "output_type": "display_data"
    }
   ],
   "source": [
    "from sklearn.feature_extraction.text import TfidfVectorizer\n",
    "\n",
    "tfidf_vectorizer = TfidfVectorizer(binary=True)\n",
    "one_hot = tfidf_vectorizer.fit_transform(corpus).toarray()\n",
    "sns.heatmap(\n",
    "    one_hot, annot=True,\n",
    "    cbar=False, xticklabels=sorted(list(tfidf_vectorizer.vocabulary_.keys())),\n",
    "    yticklabels=['Sentence 1', 'Sentence 2']\n",
    ")"
   ]
  },
  {
   "cell_type": "markdown",
   "id": "9a5a1bde",
   "metadata": {
    "heading_collapsed": true
   },
   "source": [
    "## Computational Graphs"
   ]
  },
  {
   "cell_type": "markdown",
   "id": "7077693a",
   "metadata": {
    "hidden": true
   },
   "source": [
    "_Computational Graph_ is an abstraction that models mathematical expressions. Libraries like Theano, TensorFlow & PyTorch do additional book keeping to implement Automatic Differentiation needed to obtain gradients of parameters during training in the supervised learning paradigm.\n",
    "\n",
    "[Seppo Linnainmaa](https://en.wikipedia.org/wiki/Seppo_Linnainmaa) first introduced the idea of automatic differentiation on computationl graphs as part of his 1970 master thesis. Variants of that became the foundation for modern deep learning frameworks like Theano, TensorFlow & PyTorch.\n",
    "\n",
    "_Inference_ is simply expression evaluation. Consider following expressions\n",
    "\n",
    "$$ y = wx + b $$\n",
    "\n",
    "This can be writeen as two subexpressions, $ z = wx $ and $ y = z + b $. Then this can represented using a DAG(directed acyclic graph) in which nodes are the mathematical operations like multiplication & addition.\n",
    "\n",
    "![Figure 1.4](figures/figure1.4.png)"
   ]
  },
  {
   "cell_type": "code",
   "execution_count": null,
   "id": "5d0be824",
   "metadata": {
    "hidden": true
   },
   "outputs": [],
   "source": []
  }
 ],
 "metadata": {
  "kernelspec": {
   "display_name": "Python 3",
   "language": "python",
   "name": "python3"
  },
  "language_info": {
   "codemirror_mode": {
    "name": "ipython",
    "version": 3
   },
   "file_extension": ".py",
   "mimetype": "text/x-python",
   "name": "python",
   "nbconvert_exporter": "python",
   "pygments_lexer": "ipython3",
   "version": "3.8.10"
  },
  "toc": {
   "base_numbering": 1,
   "nav_menu": {},
   "number_sections": true,
   "sideBar": true,
   "skip_h1_title": false,
   "title_cell": "Table of Contents",
   "title_sidebar": "Contents",
   "toc_cell": true,
   "toc_position": {},
   "toc_section_display": true,
   "toc_window_display": false
  }
 },
 "nbformat": 4,
 "nbformat_minor": 5
}
