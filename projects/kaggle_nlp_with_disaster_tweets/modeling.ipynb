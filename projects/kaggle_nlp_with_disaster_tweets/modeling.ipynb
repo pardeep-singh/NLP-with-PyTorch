{
 "cells": [
  {
   "cell_type": "markdown",
   "id": "cb2ca0c8",
   "metadata": {},
   "source": [
    "## Classification using Perceptron"
   ]
  },
  {
   "cell_type": "code",
   "execution_count": 1,
   "id": "91b53899",
   "metadata": {},
   "outputs": [
    {
     "name": "stdout",
     "output_type": "stream",
     "text": [
      "Expanded filepaths: \n",
      "\tmodels/perceptron/vectorizer.json\n",
      "\tmodels/perceptron/model.pth\n",
      "Using Cuda: False\n"
     ]
    },
    {
     "name": "stderr",
     "output_type": "stream",
     "text": [
      "/Users/pardeep/anaconda3/envs/nlp-with-pytorch/lib/python3.8/site-packages/gensim/similarities/__init__.py:15: UserWarning: The gensim.similarities.levenshtein submodule is disabled, because the optional Levenshtein package <https://pypi.org/project/python-Levenshtein/> is unavailable. Install Levenhstein (e.g. `pip install python-Levenshtein`) to suppress this warning.\n",
      "  warnings.warn(msg)\n"
     ]
    },
    {
     "data": {
      "application/javascript": [
       "\n",
       "            setTimeout(function() {\n",
       "                var nbb_cell_id = 1;\n",
       "                var nbb_unformatted_code = \"%load_ext nb_black\\n\\nimport collections\\nimport numpy as np\\nimport pandas as pd\\nimport re\\nfrom argparse import Namespace\\nimport os\\n\\nimport torch.optim as optim\\nimport torch\\nimport torch.nn as nn\\nimport torch.nn.functional as F\\n\\nimport utils\\nfrom dataset import TweetDataset\\nfrom classifiers import TweetPerceptronClassifier\\n\\nargs = Namespace(\\n    frequency_cutoff=25,\\n    model_state_file=\\\"model.pth\\\",\\n    tweets_csv=\\\"data/train_with_splits.csv\\\",\\n    save_dir=\\\"models/perceptron\\\",\\n    vectorizer_file=\\\"vectorizer.json\\\",\\n    batch_size=128,\\n    early_stopping_criteria=5,\\n    learning_rate=0.001,\\n    num_epochs=100,\\n    seed=1337,\\n    catch_keyboard_interrupt=True,\\n    cuda=True,\\n    expand_filepaths_to_save_dir=True,\\n    reload_from_files=False,\\n)\\n\\nif args.expand_filepaths_to_save_dir:\\n    args.vectorizer_file = os.path.join(args.save_dir, args.vectorizer_file)\\n    args.model_state_file = os.path.join(args.save_dir, args.model_state_file)\\n    print(\\\"Expanded filepaths: \\\")\\n    print(f\\\"\\\\t{args.vectorizer_file}\\\")\\n    print(f\\\"\\\\t{args.model_state_file}\\\")\\n\\n\\nif not torch.cuda.is_available():\\n    args.cuda = False\\nargs.device = torch.device(\\\"cuda\\\" if args.cuda else \\\"cpu\\\")\\n\\nprint(f\\\"Using Cuda: {args.cuda}\\\")\\n\\nutils.set_seed_everywhere(args.seed, args.cuda)\\nutils.handle_dirs(args.save_dir)\";\n",
       "                var nbb_formatted_code = \"%load_ext nb_black\\n\\nimport collections\\nimport numpy as np\\nimport pandas as pd\\nimport re\\nfrom argparse import Namespace\\nimport os\\n\\nimport torch.optim as optim\\nimport torch\\nimport torch.nn as nn\\nimport torch.nn.functional as F\\n\\nimport utils\\nfrom dataset import TweetDataset\\nfrom classifiers import TweetPerceptronClassifier\\n\\nargs = Namespace(\\n    frequency_cutoff=25,\\n    model_state_file=\\\"model.pth\\\",\\n    tweets_csv=\\\"data/train_with_splits.csv\\\",\\n    save_dir=\\\"models/perceptron\\\",\\n    vectorizer_file=\\\"vectorizer.json\\\",\\n    batch_size=128,\\n    early_stopping_criteria=5,\\n    learning_rate=0.001,\\n    num_epochs=100,\\n    seed=1337,\\n    catch_keyboard_interrupt=True,\\n    cuda=True,\\n    expand_filepaths_to_save_dir=True,\\n    reload_from_files=False,\\n)\\n\\nif args.expand_filepaths_to_save_dir:\\n    args.vectorizer_file = os.path.join(args.save_dir, args.vectorizer_file)\\n    args.model_state_file = os.path.join(args.save_dir, args.model_state_file)\\n    print(\\\"Expanded filepaths: \\\")\\n    print(f\\\"\\\\t{args.vectorizer_file}\\\")\\n    print(f\\\"\\\\t{args.model_state_file}\\\")\\n\\n\\nif not torch.cuda.is_available():\\n    args.cuda = False\\nargs.device = torch.device(\\\"cuda\\\" if args.cuda else \\\"cpu\\\")\\n\\nprint(f\\\"Using Cuda: {args.cuda}\\\")\\n\\nutils.set_seed_everywhere(args.seed, args.cuda)\\nutils.handle_dirs(args.save_dir)\";\n",
       "                var nbb_cells = Jupyter.notebook.get_cells();\n",
       "                for (var i = 0; i < nbb_cells.length; ++i) {\n",
       "                    if (nbb_cells[i].input_prompt_number == nbb_cell_id) {\n",
       "                        if (nbb_cells[i].get_text() == nbb_unformatted_code) {\n",
       "                             nbb_cells[i].set_text(nbb_formatted_code);\n",
       "                        }\n",
       "                        break;\n",
       "                    }\n",
       "                }\n",
       "            }, 500);\n",
       "            "
      ],
      "text/plain": [
       "<IPython.core.display.Javascript object>"
      ]
     },
     "metadata": {},
     "output_type": "display_data"
    }
   ],
   "source": [
    "%load_ext nb_black\n",
    "\n",
    "import collections\n",
    "import numpy as np\n",
    "import pandas as pd\n",
    "import re\n",
    "from argparse import Namespace\n",
    "import os\n",
    "\n",
    "import torch.optim as optim\n",
    "import torch\n",
    "import torch.nn as nn\n",
    "import torch.nn.functional as F\n",
    "\n",
    "import utils\n",
    "from dataset import TweetDataset\n",
    "from classifiers import TweetPerceptronClassifier\n",
    "\n",
    "args = Namespace(\n",
    "    frequency_cutoff=25,\n",
    "    model_state_file=\"model.pth\",\n",
    "    tweets_csv=\"data/train_with_splits.csv\",\n",
    "    save_dir=\"models/perceptron\",\n",
    "    vectorizer_file=\"vectorizer.json\",\n",
    "    batch_size=128,\n",
    "    early_stopping_criteria=5,\n",
    "    learning_rate=0.001,\n",
    "    num_epochs=100,\n",
    "    seed=1337,\n",
    "    catch_keyboard_interrupt=True,\n",
    "    cuda=True,\n",
    "    expand_filepaths_to_save_dir=True,\n",
    "    reload_from_files=False,\n",
    ")\n",
    "\n",
    "if args.expand_filepaths_to_save_dir:\n",
    "    args.vectorizer_file = os.path.join(args.save_dir, args.vectorizer_file)\n",
    "    args.model_state_file = os.path.join(args.save_dir, args.model_state_file)\n",
    "    print(\"Expanded filepaths: \")\n",
    "    print(f\"\\t{args.vectorizer_file}\")\n",
    "    print(f\"\\t{args.model_state_file}\")\n",
    "\n",
    "\n",
    "if not torch.cuda.is_available():\n",
    "    args.cuda = False\n",
    "args.device = torch.device(\"cuda\" if args.cuda else \"cpu\")\n",
    "\n",
    "print(f\"Using Cuda: {args.cuda}\")\n",
    "\n",
    "utils.set_seed_everywhere(args.seed, args.cuda)\n",
    "utils.handle_dirs(args.save_dir)"
   ]
  },
  {
   "cell_type": "code",
   "execution_count": 2,
   "id": "aea52550",
   "metadata": {},
   "outputs": [
    {
     "name": "stdout",
     "output_type": "stream",
     "text": [
      "Loading dataset & Creating vectorizer\n",
      "TweetPerceptronClassifier(\n",
      "  (fc1): Linear(in_features=3108, out_features=1, bias=True)\n",
      ")\n"
     ]
    },
    {
     "data": {
      "application/javascript": [
       "\n",
       "            setTimeout(function() {\n",
       "                var nbb_cell_id = 2;\n",
       "                var nbb_unformatted_code = \"if args.reload_from_files:\\n    print(\\\"Loading Dataset & Vectorizer\\\")\\n    dataset = TweetDataset.load_dataset_and_load_vectorizer(\\n        args.tweets_csv, args.vectrozier_file\\n    )\\nelse:\\n    print(\\\"Loading dataset & Creating vectorizer\\\")\\n    dataset = TweetDataset.load_dataset_and_make_vectorizer(\\n        args.tweets_csv, args.vectorizer_file\\n    )\\n    dataset.save_vectorizer(args.vectorizer_file)\\n    vectorizer = dataset.get_vectorizer()\\n\\nclassifier = TweetPerceptronClassifier(num_features=len(vectorizer.tweet_vocab))\\nprint(classifier)\\nloss_func = nn.BCEWithLogitsLoss()\\noptimizer = optim.Adam(classifier.parameters(), lr=args.learning_rate)\\nscheduler = optim.lr_scheduler.ReduceLROnPlateau(\\n    optimizer=optimizer, mode=\\\"min\\\", factor=0.5, patience=1\\n)\";\n",
       "                var nbb_formatted_code = \"if args.reload_from_files:\\n    print(\\\"Loading Dataset & Vectorizer\\\")\\n    dataset = TweetDataset.load_dataset_and_load_vectorizer(\\n        args.tweets_csv, args.vectrozier_file\\n    )\\nelse:\\n    print(\\\"Loading dataset & Creating vectorizer\\\")\\n    dataset = TweetDataset.load_dataset_and_make_vectorizer(\\n        args.tweets_csv, args.vectorizer_file\\n    )\\n    dataset.save_vectorizer(args.vectorizer_file)\\n    vectorizer = dataset.get_vectorizer()\\n\\nclassifier = TweetPerceptronClassifier(num_features=len(vectorizer.tweet_vocab))\\nprint(classifier)\\nloss_func = nn.BCEWithLogitsLoss()\\noptimizer = optim.Adam(classifier.parameters(), lr=args.learning_rate)\\nscheduler = optim.lr_scheduler.ReduceLROnPlateau(\\n    optimizer=optimizer, mode=\\\"min\\\", factor=0.5, patience=1\\n)\";\n",
       "                var nbb_cells = Jupyter.notebook.get_cells();\n",
       "                for (var i = 0; i < nbb_cells.length; ++i) {\n",
       "                    if (nbb_cells[i].input_prompt_number == nbb_cell_id) {\n",
       "                        if (nbb_cells[i].get_text() == nbb_unformatted_code) {\n",
       "                             nbb_cells[i].set_text(nbb_formatted_code);\n",
       "                        }\n",
       "                        break;\n",
       "                    }\n",
       "                }\n",
       "            }, 500);\n",
       "            "
      ],
      "text/plain": [
       "<IPython.core.display.Javascript object>"
      ]
     },
     "metadata": {},
     "output_type": "display_data"
    }
   ],
   "source": [
    "if args.reload_from_files:\n",
    "    print(\"Loading Dataset & Vectorizer\")\n",
    "    dataset = TweetDataset.load_dataset_and_load_vectorizer(\n",
    "        args.tweets_csv, args.vectrozier_file\n",
    "    )\n",
    "else:\n",
    "    print(\"Loading dataset & Creating vectorizer\")\n",
    "    dataset = TweetDataset.load_dataset_and_make_vectorizer(\n",
    "        args.tweets_csv, args.vectorizer_file\n",
    "    )\n",
    "    dataset.save_vectorizer(args.vectorizer_file)\n",
    "    vectorizer = dataset.get_vectorizer()\n",
    "\n",
    "classifier = TweetPerceptronClassifier(num_features=len(vectorizer.tweet_vocab))\n",
    "print(classifier)\n",
    "loss_func = nn.BCEWithLogitsLoss()\n",
    "optimizer = optim.Adam(classifier.parameters(), lr=args.learning_rate)\n",
    "scheduler = optim.lr_scheduler.ReduceLROnPlateau(\n",
    "    optimizer=optimizer, mode=\"min\", factor=0.5, patience=1\n",
    ")"
   ]
  },
  {
   "cell_type": "code",
   "execution_count": 3,
   "id": "236835a8",
   "metadata": {},
   "outputs": [
    {
     "data": {
      "application/vnd.jupyter.widget-view+json": {
       "model_id": "363056bdafaf4c4d8699e606a7842c36",
       "version_major": 2,
       "version_minor": 0
      },
      "text/plain": [
       "Training Routine:   0%|          | 0/100 [00:00<?, ?it/s]"
      ]
     },
     "metadata": {},
     "output_type": "display_data"
    },
    {
     "data": {
      "application/vnd.jupyter.widget-view+json": {
       "model_id": "fc81b0c4825446a69cb7bc4765e69ed3",
       "version_major": 2,
       "version_minor": 0
      },
      "text/plain": [
       "split=train:   0%|          | 0/41 [00:00<?, ?it/s]"
      ]
     },
     "metadata": {},
     "output_type": "display_data"
    },
    {
     "data": {
      "application/vnd.jupyter.widget-view+json": {
       "model_id": "0629fb4f45ee44b58aa0ac76aaa1afad",
       "version_major": 2,
       "version_minor": 0
      },
      "text/plain": [
       "split=val:   0%|          | 0/8 [00:00<?, ?it/s]"
      ]
     },
     "metadata": {},
     "output_type": "display_data"
    },
    {
     "name": "stdout",
     "output_type": "stream",
     "text": [
      "--------------- 0th Epoch Stats---------------\n",
      "Training Loss=0.681884057638122, Training Accuracy=66.88262195121949\n",
      "Validation Loss=0.6708768680691719, Validation Accuracy=71.19140625.\n",
      "------------------------------------------------------------\n",
      "--------------- 10th Epoch Stats---------------\n",
      "Training Loss=0.520560126479079, Training Accuracy=81.85975609756099\n",
      "Validation Loss=0.5529165044426918, Validation Accuracy=78.515625.\n",
      "------------------------------------------------------------\n",
      "--------------- 20th Epoch Stats---------------\n",
      "Training Loss=0.447150328537313, Training Accuracy=84.71798780487804\n",
      "Validation Loss=0.5127294063568115, Validation Accuracy=79.58984374999999.\n",
      "------------------------------------------------------------\n",
      "--------------- 30th Epoch Stats---------------\n",
      "Training Loss=0.4019845971247045, Training Accuracy=85.78506097560975\n",
      "Validation Loss=0.48284977674484253, Validation Accuracy=80.17578125.\n",
      "------------------------------------------------------------\n",
      "--------------- 40th Epoch Stats---------------\n",
      "Training Loss=0.3730987455786729, Training Accuracy=86.85213414634147\n",
      "Validation Loss=0.4681103564798832, Validation Accuracy=81.25.\n",
      "------------------------------------------------------------\n",
      "--------------- 50th Epoch Stats---------------\n",
      "Training Loss=0.3690585196018219, Training Accuracy=86.96646341463413\n",
      "Validation Loss=0.4662978574633598, Validation Accuracy=81.15234375.\n",
      "------------------------------------------------------------\n",
      "--------------- 60th Epoch Stats---------------\n",
      "Training Loss=0.36998234870957164, Training Accuracy=86.94740853658537\n",
      "Validation Loss=0.47008950263261795, Validation Accuracy=80.76171875.\n",
      "------------------------------------------------------------\n",
      "--------------- 70th Epoch Stats---------------\n",
      "Training Loss=0.36953318991312156, Training Accuracy=86.9474085365854\n",
      "Validation Loss=0.4734106995165348, Validation Accuracy=80.17578125000001.\n",
      "------------------------------------------------------------\n",
      "--------------- 80th Epoch Stats---------------\n",
      "Training Loss=0.368781757063982, Training Accuracy=87.04268292682929\n",
      "Validation Loss=0.4650215320289135, Validation Accuracy=81.34765625.\n",
      "------------------------------------------------------------\n",
      "--------------- 90th Epoch Stats---------------\n",
      "Training Loss=0.369591574116451, Training Accuracy=86.96646341463416\n",
      "Validation Loss=0.47686124965548515, Validation Accuracy=80.56640625.\n",
      "------------------------------------------------------------\n",
      "-------- Test Accuracy=81.0546875, Test Loss=0.45349790900945663.--------\n"
     ]
    },
    {
     "data": {
      "application/javascript": [
       "\n",
       "            setTimeout(function() {\n",
       "                var nbb_cell_id = 3;\n",
       "                var nbb_unformatted_code = \"train_state = utils.train_model(\\n    classifier, loss_func, optimizer, scheduler, dataset, args\\n)\\ntrain_state = utils.evaluate_test_split(\\n    classifier, dataset, loss_func, train_state, args\\n)\";\n",
       "                var nbb_formatted_code = \"train_state = utils.train_model(\\n    classifier, loss_func, optimizer, scheduler, dataset, args\\n)\\ntrain_state = utils.evaluate_test_split(\\n    classifier, dataset, loss_func, train_state, args\\n)\";\n",
       "                var nbb_cells = Jupyter.notebook.get_cells();\n",
       "                for (var i = 0; i < nbb_cells.length; ++i) {\n",
       "                    if (nbb_cells[i].input_prompt_number == nbb_cell_id) {\n",
       "                        if (nbb_cells[i].get_text() == nbb_unformatted_code) {\n",
       "                             nbb_cells[i].set_text(nbb_formatted_code);\n",
       "                        }\n",
       "                        break;\n",
       "                    }\n",
       "                }\n",
       "            }, 500);\n",
       "            "
      ],
      "text/plain": [
       "<IPython.core.display.Javascript object>"
      ]
     },
     "metadata": {},
     "output_type": "display_data"
    }
   ],
   "source": [
    "train_state = utils.train_model(\n",
    "    classifier, loss_func, optimizer, scheduler, dataset, args\n",
    ")\n",
    "train_state = utils.evaluate_test_split(\n",
    "    classifier, dataset, loss_func, train_state, args\n",
    ")"
   ]
  },
  {
   "cell_type": "code",
   "execution_count": 4,
   "id": "0ff97517",
   "metadata": {},
   "outputs": [
    {
     "name": "stderr",
     "output_type": "stream",
     "text": [
      "/Users/pardeep/anaconda3/envs/nlp-with-pytorch/lib/python3.8/site-packages/torch/nn/functional.py:1709: UserWarning: nn.functional.sigmoid is deprecated. Use torch.sigmoid instead.\n",
      "  warnings.warn(\"nn.functional.sigmoid is deprecated. Use torch.sigmoid instead.\")\n"
     ]
    },
    {
     "data": {
      "text/plain": [
       "0"
      ]
     },
     "execution_count": 4,
     "metadata": {},
     "output_type": "execute_result"
    },
    {
     "data": {
      "application/javascript": [
       "\n",
       "            setTimeout(function() {\n",
       "                var nbb_cell_id = 4;\n",
       "                var nbb_unformatted_code = \"import utils\\n\\ntweet = \\\"The Campaign: Will Ferrell and Zach Galifianakis commit comic mayhem in this hilarious political farce. 4* http://t.co/tQ3j2qGtZQ'\\\"\\nutils.predict_class(classifier, dataset.get_vectorizer(), tweet)\";\n",
       "                var nbb_formatted_code = \"import utils\\n\\ntweet = \\\"The Campaign: Will Ferrell and Zach Galifianakis commit comic mayhem in this hilarious political farce. 4* http://t.co/tQ3j2qGtZQ'\\\"\\nutils.predict_class(classifier, dataset.get_vectorizer(), tweet)\";\n",
       "                var nbb_cells = Jupyter.notebook.get_cells();\n",
       "                for (var i = 0; i < nbb_cells.length; ++i) {\n",
       "                    if (nbb_cells[i].input_prompt_number == nbb_cell_id) {\n",
       "                        if (nbb_cells[i].get_text() == nbb_unformatted_code) {\n",
       "                             nbb_cells[i].set_text(nbb_formatted_code);\n",
       "                        }\n",
       "                        break;\n",
       "                    }\n",
       "                }\n",
       "            }, 500);\n",
       "            "
      ],
      "text/plain": [
       "<IPython.core.display.Javascript object>"
      ]
     },
     "metadata": {},
     "output_type": "display_data"
    }
   ],
   "source": [
    "import utils\n",
    "\n",
    "tweet = \"The Campaign: Will Ferrell and Zach Galifianakis commit comic mayhem in this hilarious political farce. 4* http://t.co/tQ3j2qGtZQ'\"\n",
    "utils.predict_class(classifier, dataset.get_vectorizer(), tweet)"
   ]
  },
  {
   "cell_type": "markdown",
   "id": "da186e91",
   "metadata": {},
   "source": [
    "### Prepare test dataset results\n",
    "\n",
    "- Got 0.78823 for perceptron_results.csv submission"
   ]
  },
  {
   "cell_type": "code",
   "execution_count": 5,
   "id": "9707599e",
   "metadata": {},
   "outputs": [
    {
     "data": {
      "application/javascript": [
       "\n",
       "            setTimeout(function() {\n",
       "                var nbb_cell_id = 5;\n",
       "                var nbb_unformatted_code = \"test_dataset = pd.read_csv(\\\"data/test.csv\\\")\";\n",
       "                var nbb_formatted_code = \"test_dataset = pd.read_csv(\\\"data/test.csv\\\")\";\n",
       "                var nbb_cells = Jupyter.notebook.get_cells();\n",
       "                for (var i = 0; i < nbb_cells.length; ++i) {\n",
       "                    if (nbb_cells[i].input_prompt_number == nbb_cell_id) {\n",
       "                        if (nbb_cells[i].get_text() == nbb_unformatted_code) {\n",
       "                             nbb_cells[i].set_text(nbb_formatted_code);\n",
       "                        }\n",
       "                        break;\n",
       "                    }\n",
       "                }\n",
       "            }, 500);\n",
       "            "
      ],
      "text/plain": [
       "<IPython.core.display.Javascript object>"
      ]
     },
     "metadata": {},
     "output_type": "display_data"
    }
   ],
   "source": [
    "test_dataset = pd.read_csv(\"data/test.csv\")"
   ]
  },
  {
   "cell_type": "code",
   "execution_count": 7,
   "id": "07636d2e",
   "metadata": {},
   "outputs": [
    {
     "name": "stdout",
     "output_type": "stream",
     "text": [
      "<class 'pandas.core.frame.DataFrame'>\n",
      "RangeIndex: 3263 entries, 0 to 3262\n",
      "Data columns (total 4 columns):\n",
      " #   Column    Non-Null Count  Dtype \n",
      "---  ------    --------------  ----- \n",
      " 0   id        3263 non-null   int64 \n",
      " 1   keyword   3237 non-null   object\n",
      " 2   location  2158 non-null   object\n",
      " 3   text      3263 non-null   object\n",
      "dtypes: int64(1), object(3)\n",
      "memory usage: 102.1+ KB\n"
     ]
    },
    {
     "data": {
      "application/javascript": [
       "\n",
       "            setTimeout(function() {\n",
       "                var nbb_cell_id = 7;\n",
       "                var nbb_unformatted_code = \"test_dataset.info()\";\n",
       "                var nbb_formatted_code = \"test_dataset.info()\";\n",
       "                var nbb_cells = Jupyter.notebook.get_cells();\n",
       "                for (var i = 0; i < nbb_cells.length; ++i) {\n",
       "                    if (nbb_cells[i].input_prompt_number == nbb_cell_id) {\n",
       "                        if (nbb_cells[i].get_text() == nbb_unformatted_code) {\n",
       "                             nbb_cells[i].set_text(nbb_formatted_code);\n",
       "                        }\n",
       "                        break;\n",
       "                    }\n",
       "                }\n",
       "            }, 500);\n",
       "            "
      ],
      "text/plain": [
       "<IPython.core.display.Javascript object>"
      ]
     },
     "metadata": {},
     "output_type": "display_data"
    }
   ],
   "source": [
    "test_dataset.info()"
   ]
  },
  {
   "cell_type": "code",
   "execution_count": 16,
   "id": "1b38519f",
   "metadata": {},
   "outputs": [
    {
     "name": "stderr",
     "output_type": "stream",
     "text": [
      "/Users/pardeep/anaconda3/envs/nlp-with-pytorch/lib/python3.8/site-packages/torch/nn/functional.py:1709: UserWarning: nn.functional.sigmoid is deprecated. Use torch.sigmoid instead.\n",
      "  warnings.warn(\"nn.functional.sigmoid is deprecated. Use torch.sigmoid instead.\")\n"
     ]
    },
    {
     "name": "stdout",
     "output_type": "stream",
     "text": [
      "[[0, 1], [2, 1], [3, 1], [9, 0], [11, 1], [12, 1], [21, 0], [22, 0], [27, 0], [29, 0]]\n"
     ]
    },
    {
     "data": {
      "application/javascript": [
       "\n",
       "            setTimeout(function() {\n",
       "                var nbb_cell_id = 16;\n",
       "                var nbb_unformatted_code = \"results = []\\nfor id, _, _, tweet in test_dataset.values:\\n    prediction = utils.predict_class(classifier, dataset.get_vectorizer(), tweet)\\n    results.append([id, prediction])\\nprint(results[:10])\";\n",
       "                var nbb_formatted_code = \"results = []\\nfor id, _, _, tweet in test_dataset.values:\\n    prediction = utils.predict_class(classifier, dataset.get_vectorizer(), tweet)\\n    results.append([id, prediction])\\nprint(results[:10])\";\n",
       "                var nbb_cells = Jupyter.notebook.get_cells();\n",
       "                for (var i = 0; i < nbb_cells.length; ++i) {\n",
       "                    if (nbb_cells[i].input_prompt_number == nbb_cell_id) {\n",
       "                        if (nbb_cells[i].get_text() == nbb_unformatted_code) {\n",
       "                             nbb_cells[i].set_text(nbb_formatted_code);\n",
       "                        }\n",
       "                        break;\n",
       "                    }\n",
       "                }\n",
       "            }, 500);\n",
       "            "
      ],
      "text/plain": [
       "<IPython.core.display.Javascript object>"
      ]
     },
     "metadata": {},
     "output_type": "display_data"
    }
   ],
   "source": [
    "results = []\n",
    "for id, _, _, tweet in test_dataset.values:\n",
    "    prediction = utils.predict_class(classifier, dataset.get_vectorizer(), tweet)\n",
    "    results.append([id, prediction])\n",
    "print(results[:10])"
   ]
  },
  {
   "cell_type": "code",
   "execution_count": 18,
   "id": "6da83aa9",
   "metadata": {},
   "outputs": [
    {
     "data": {
      "text/html": [
       "<div>\n",
       "<style scoped>\n",
       "    .dataframe tbody tr th:only-of-type {\n",
       "        vertical-align: middle;\n",
       "    }\n",
       "\n",
       "    .dataframe tbody tr th {\n",
       "        vertical-align: top;\n",
       "    }\n",
       "\n",
       "    .dataframe thead th {\n",
       "        text-align: right;\n",
       "    }\n",
       "</style>\n",
       "<table border=\"1\" class=\"dataframe\">\n",
       "  <thead>\n",
       "    <tr style=\"text-align: right;\">\n",
       "      <th></th>\n",
       "      <th>id</th>\n",
       "      <th>target</th>\n",
       "    </tr>\n",
       "  </thead>\n",
       "  <tbody>\n",
       "    <tr>\n",
       "      <th>0</th>\n",
       "      <td>0</td>\n",
       "      <td>1</td>\n",
       "    </tr>\n",
       "    <tr>\n",
       "      <th>1</th>\n",
       "      <td>2</td>\n",
       "      <td>1</td>\n",
       "    </tr>\n",
       "    <tr>\n",
       "      <th>2</th>\n",
       "      <td>3</td>\n",
       "      <td>1</td>\n",
       "    </tr>\n",
       "    <tr>\n",
       "      <th>3</th>\n",
       "      <td>9</td>\n",
       "      <td>0</td>\n",
       "    </tr>\n",
       "    <tr>\n",
       "      <th>4</th>\n",
       "      <td>11</td>\n",
       "      <td>1</td>\n",
       "    </tr>\n",
       "  </tbody>\n",
       "</table>\n",
       "</div>"
      ],
      "text/plain": [
       "   id  target\n",
       "0   0       1\n",
       "1   2       1\n",
       "2   3       1\n",
       "3   9       0\n",
       "4  11       1"
      ]
     },
     "execution_count": 18,
     "metadata": {},
     "output_type": "execute_result"
    },
    {
     "data": {
      "application/javascript": [
       "\n",
       "            setTimeout(function() {\n",
       "                var nbb_cell_id = 18;\n",
       "                var nbb_unformatted_code = \"submission_df = pd.DataFrame(results, columns=[\\\"id\\\", \\\"target\\\"])\\nsubmission_df.head()\";\n",
       "                var nbb_formatted_code = \"submission_df = pd.DataFrame(results, columns=[\\\"id\\\", \\\"target\\\"])\\nsubmission_df.head()\";\n",
       "                var nbb_cells = Jupyter.notebook.get_cells();\n",
       "                for (var i = 0; i < nbb_cells.length; ++i) {\n",
       "                    if (nbb_cells[i].input_prompt_number == nbb_cell_id) {\n",
       "                        if (nbb_cells[i].get_text() == nbb_unformatted_code) {\n",
       "                             nbb_cells[i].set_text(nbb_formatted_code);\n",
       "                        }\n",
       "                        break;\n",
       "                    }\n",
       "                }\n",
       "            }, 500);\n",
       "            "
      ],
      "text/plain": [
       "<IPython.core.display.Javascript object>"
      ]
     },
     "metadata": {},
     "output_type": "display_data"
    }
   ],
   "source": [
    "submission_df = pd.DataFrame(results, columns=[\"id\", \"target\"])\n",
    "submission_df.head()"
   ]
  },
  {
   "cell_type": "code",
   "execution_count": 19,
   "id": "9562ca36",
   "metadata": {},
   "outputs": [
    {
     "data": {
      "application/javascript": [
       "\n",
       "            setTimeout(function() {\n",
       "                var nbb_cell_id = 19;\n",
       "                var nbb_unformatted_code = \"submission_df.to_csv(\\\"data/perceptron_results.csv\\\", index=False)\";\n",
       "                var nbb_formatted_code = \"submission_df.to_csv(\\\"data/perceptron_results.csv\\\", index=False)\";\n",
       "                var nbb_cells = Jupyter.notebook.get_cells();\n",
       "                for (var i = 0; i < nbb_cells.length; ++i) {\n",
       "                    if (nbb_cells[i].input_prompt_number == nbb_cell_id) {\n",
       "                        if (nbb_cells[i].get_text() == nbb_unformatted_code) {\n",
       "                             nbb_cells[i].set_text(nbb_formatted_code);\n",
       "                        }\n",
       "                        break;\n",
       "                    }\n",
       "                }\n",
       "            }, 500);\n",
       "            "
      ],
      "text/plain": [
       "<IPython.core.display.Javascript object>"
      ]
     },
     "metadata": {},
     "output_type": "display_data"
    }
   ],
   "source": [
    "submission_df.to_csv(\"data/perceptron_results.csv\", index=False)"
   ]
  },
  {
   "cell_type": "markdown",
   "id": "1394e535",
   "metadata": {},
   "source": [
    "### Train using full test dataset\n",
    "\n",
    "- 0.73184\n",
    "- 0.78363 (with scheduler fix)\n",
    "- 0.77658 (500 epochs)"
   ]
  },
  {
   "cell_type": "code",
   "execution_count": 6,
   "id": "669e1f16",
   "metadata": {},
   "outputs": [
    {
     "name": "stdout",
     "output_type": "stream",
     "text": [
      "Expanded filepaths: \n",
      "\tmodels/perceptron/vectorizer.json\n",
      "\tmodels/perceptron/model.pth\n",
      "Using Cuda: False\n",
      "Loading dataset & Creating vectorizer\n",
      "TweetPerceptronClassifier(\n",
      "  (fc1): Linear(in_features=3108, out_features=1, bias=True)\n",
      ")\n"
     ]
    },
    {
     "data": {
      "application/vnd.jupyter.widget-view+json": {
       "model_id": "a00f6e8f5412497ca8d9c389fbdfd81a",
       "version_major": 2,
       "version_minor": 0
      },
      "text/plain": [
       "Training Routine:   0%|          | 0/500 [00:00<?, ?it/s]"
      ]
     },
     "metadata": {},
     "output_type": "display_data"
    },
    {
     "data": {
      "application/vnd.jupyter.widget-view+json": {
       "model_id": "37bc7a327a8e40299e95a2bf4ebb4691",
       "version_major": 2,
       "version_minor": 0
      },
      "text/plain": [
       "split=train:   0%|          | 0/41 [00:00<?, ?it/s]"
      ]
     },
     "metadata": {},
     "output_type": "display_data"
    },
    {
     "data": {
      "application/vnd.jupyter.widget-view+json": {
       "model_id": "c05d0f33d13d4ab2a6e977beaefaa7ab",
       "version_major": 2,
       "version_minor": 0
      },
      "text/plain": [
       "split=val: 0it [00:00, ?it/s]"
      ]
     },
     "metadata": {},
     "output_type": "display_data"
    },
    {
     "name": "stdout",
     "output_type": "stream",
     "text": [
      "--------------- 0th Epoch Stats---------------\n",
      "Training Loss=0.681884057638122, Training Accuracy=66.88262195121949\n",
      "Validation Loss=0.0, Validation Accuracy=0.0.\n",
      "------------------------------------------------------------\n",
      "--------------- 10th Epoch Stats---------------\n",
      "Training Loss=0.5218462318908879, Training Accuracy=81.87881097560977\n",
      "Validation Loss=0.0, Validation Accuracy=0.0.\n",
      "------------------------------------------------------------\n",
      "--------------- 20th Epoch Stats---------------\n",
      "Training Loss=0.44711853236686894, Training Accuracy=84.56554878048779\n",
      "Validation Loss=0.0, Validation Accuracy=0.0.\n",
      "------------------------------------------------------------\n",
      "--------------- 30th Epoch Stats---------------\n",
      "Training Loss=0.4016107960445125, Training Accuracy=85.82317073170732\n",
      "Validation Loss=0.0, Validation Accuracy=0.0.\n",
      "------------------------------------------------------------\n",
      "--------------- 40th Epoch Stats---------------\n",
      "Training Loss=0.37020789341228766, Training Accuracy=86.7949695121951\n",
      "Validation Loss=0.0, Validation Accuracy=0.0.\n",
      "------------------------------------------------------------\n",
      "--------------- 50th Epoch Stats---------------\n",
      "Training Loss=0.3462637902759925, Training Accuracy=87.57621951219514\n",
      "Validation Loss=0.0, Validation Accuracy=0.0.\n",
      "------------------------------------------------------------\n",
      "--------------- 60th Epoch Stats---------------\n",
      "Training Loss=0.3272667854297451, Training Accuracy=88.24314024390246\n",
      "Validation Loss=0.0, Validation Accuracy=0.0.\n",
      "------------------------------------------------------------\n",
      "--------------- 70th Epoch Stats---------------\n",
      "Training Loss=0.31088968893376795, Training Accuracy=88.89100609756098\n",
      "Validation Loss=0.0, Validation Accuracy=0.0.\n",
      "------------------------------------------------------------\n",
      "--------------- 80th Epoch Stats---------------\n",
      "Training Loss=0.2984569763265005, Training Accuracy=89.40548780487805\n",
      "Validation Loss=0.0, Validation Accuracy=0.0.\n",
      "------------------------------------------------------------\n",
      "--------------- 90th Epoch Stats---------------\n",
      "Training Loss=0.2850437386006844, Training Accuracy=89.76753048780489\n",
      "Validation Loss=0.0, Validation Accuracy=0.0.\n",
      "------------------------------------------------------------\n",
      "--------------- 100th Epoch Stats---------------\n",
      "Training Loss=0.2744513637408978, Training Accuracy=90.09146341463416\n",
      "Validation Loss=0.0, Validation Accuracy=0.0.\n",
      "------------------------------------------------------------\n",
      "--------------- 110th Epoch Stats---------------\n",
      "Training Loss=0.26526290505397615, Training Accuracy=90.5297256097561\n",
      "Validation Loss=0.0, Validation Accuracy=0.0.\n",
      "------------------------------------------------------------\n",
      "--------------- 120th Epoch Stats---------------\n",
      "Training Loss=0.2562841562236227, Training Accuracy=90.77743902439026\n",
      "Validation Loss=0.0, Validation Accuracy=0.0.\n",
      "------------------------------------------------------------\n",
      "--------------- 130th Epoch Stats---------------\n",
      "Training Loss=0.2483042772950196, Training Accuracy=91.00609756097563\n",
      "Validation Loss=0.0, Validation Accuracy=0.0.\n",
      "------------------------------------------------------------\n",
      "--------------- 140th Epoch Stats---------------\n",
      "Training Loss=0.24194428942552423, Training Accuracy=91.33003048780489\n",
      "Validation Loss=0.0, Validation Accuracy=0.0.\n",
      "------------------------------------------------------------\n",
      "--------------- 150th Epoch Stats---------------\n",
      "Training Loss=0.23698138354755033, Training Accuracy=91.55868902439025\n",
      "Validation Loss=0.0, Validation Accuracy=0.0.\n",
      "------------------------------------------------------------\n",
      "--------------- 160th Epoch Stats---------------\n",
      "Training Loss=0.23564511937339133, Training Accuracy=91.63490853658537\n",
      "Validation Loss=0.0, Validation Accuracy=0.0.\n",
      "------------------------------------------------------------\n",
      "--------------- 170th Epoch Stats---------------\n",
      "Training Loss=0.23604706184166233, Training Accuracy=91.63490853658537\n",
      "Validation Loss=0.0, Validation Accuracy=0.0.\n",
      "------------------------------------------------------------\n",
      "--------------- 180th Epoch Stats---------------\n",
      "Training Loss=0.23580557871155622, Training Accuracy=91.65396341463415\n",
      "Validation Loss=0.0, Validation Accuracy=0.0.\n",
      "------------------------------------------------------------\n",
      "--------------- 190th Epoch Stats---------------\n",
      "Training Loss=0.2358438481644886, Training Accuracy=91.65396341463412\n",
      "Validation Loss=0.0, Validation Accuracy=0.0.\n",
      "------------------------------------------------------------\n",
      "--------------- 200th Epoch Stats---------------\n",
      "Training Loss=0.2357789009082608, Training Accuracy=91.65396341463416\n",
      "Validation Loss=0.0, Validation Accuracy=0.0.\n",
      "------------------------------------------------------------\n",
      "--------------- 210th Epoch Stats---------------\n",
      "Training Loss=0.2366318709966613, Training Accuracy=91.61585365853654\n",
      "Validation Loss=0.0, Validation Accuracy=0.0.\n",
      "------------------------------------------------------------\n",
      "--------------- 220th Epoch Stats---------------\n",
      "Training Loss=0.23560883468244137, Training Accuracy=91.74923780487805\n",
      "Validation Loss=0.0, Validation Accuracy=0.0.\n",
      "------------------------------------------------------------\n",
      "--------------- 230th Epoch Stats---------------\n",
      "Training Loss=0.23488248666612113, Training Accuracy=91.71112804878048\n",
      "Validation Loss=0.0, Validation Accuracy=0.0.\n",
      "------------------------------------------------------------\n",
      "--------------- 240th Epoch Stats---------------\n",
      "Training Loss=0.23624584006100166, Training Accuracy=91.6349085365854\n",
      "Validation Loss=0.0, Validation Accuracy=0.0.\n",
      "------------------------------------------------------------\n",
      "--------------- 250th Epoch Stats---------------\n",
      "Training Loss=0.23632586801924355, Training Accuracy=91.55868902439026\n",
      "Validation Loss=0.0, Validation Accuracy=0.0.\n",
      "------------------------------------------------------------\n",
      "--------------- 260th Epoch Stats---------------\n",
      "Training Loss=0.23535871905524552, Training Accuracy=91.65396341463418\n",
      "Validation Loss=0.0, Validation Accuracy=0.0.\n",
      "------------------------------------------------------------\n",
      "--------------- 270th Epoch Stats---------------\n",
      "Training Loss=0.2357648087710869, Training Accuracy=91.61585365853657\n",
      "Validation Loss=0.0, Validation Accuracy=0.0.\n",
      "------------------------------------------------------------\n",
      "--------------- 280th Epoch Stats---------------\n",
      "Training Loss=0.23543391794693172, Training Accuracy=91.69207317073169\n",
      "Validation Loss=0.0, Validation Accuracy=0.0.\n",
      "------------------------------------------------------------\n",
      "--------------- 290th Epoch Stats---------------\n",
      "Training Loss=0.2364151005337878, Training Accuracy=91.59679878048782\n",
      "Validation Loss=0.0, Validation Accuracy=0.0.\n",
      "------------------------------------------------------------\n",
      "--------------- 300th Epoch Stats---------------\n",
      "Training Loss=0.23615504401486093, Training Accuracy=91.59679878048779\n",
      "Validation Loss=0.0, Validation Accuracy=0.0.\n",
      "------------------------------------------------------------\n",
      "--------------- 310th Epoch Stats---------------\n",
      "Training Loss=0.2360448099491073, Training Accuracy=91.61585365853661\n",
      "Validation Loss=0.0, Validation Accuracy=0.0.\n",
      "------------------------------------------------------------\n",
      "--------------- 320th Epoch Stats---------------\n",
      "Training Loss=0.23681899505417522, Training Accuracy=91.57774390243905\n",
      "Validation Loss=0.0, Validation Accuracy=0.0.\n",
      "------------------------------------------------------------\n",
      "--------------- 330th Epoch Stats---------------\n",
      "Training Loss=0.2353984142948941, Training Accuracy=91.6920731707317\n",
      "Validation Loss=0.0, Validation Accuracy=0.0.\n",
      "------------------------------------------------------------\n",
      "--------------- 340th Epoch Stats---------------\n",
      "Training Loss=0.23487563976427406, Training Accuracy=91.6730182926829\n",
      "Validation Loss=0.0, Validation Accuracy=0.0.\n",
      "------------------------------------------------------------\n",
      "--------------- 350th Epoch Stats---------------\n",
      "Training Loss=0.23494378241097053, Training Accuracy=91.71112804878051\n",
      "Validation Loss=0.0, Validation Accuracy=0.0.\n",
      "------------------------------------------------------------\n",
      "--------------- 360th Epoch Stats---------------\n",
      "Training Loss=0.23613478134318097, Training Accuracy=91.59679878048779\n",
      "Validation Loss=0.0, Validation Accuracy=0.0.\n",
      "------------------------------------------------------------\n"
     ]
    },
    {
     "name": "stdout",
     "output_type": "stream",
     "text": [
      "--------------- 370th Epoch Stats---------------\n",
      "Training Loss=0.23578875457368245, Training Accuracy=91.65396341463413\n",
      "Validation Loss=0.0, Validation Accuracy=0.0.\n",
      "------------------------------------------------------------\n",
      "--------------- 380th Epoch Stats---------------\n",
      "Training Loss=0.23535394414169034, Training Accuracy=91.67301829268295\n",
      "Validation Loss=0.0, Validation Accuracy=0.0.\n",
      "------------------------------------------------------------\n",
      "--------------- 390th Epoch Stats---------------\n",
      "Training Loss=0.23633681419419084, Training Accuracy=91.63490853658539\n",
      "Validation Loss=0.0, Validation Accuracy=0.0.\n",
      "------------------------------------------------------------\n",
      "--------------- 400th Epoch Stats---------------\n",
      "Training Loss=0.2357822969192412, Training Accuracy=91.71112804878052\n",
      "Validation Loss=0.0, Validation Accuracy=0.0.\n",
      "------------------------------------------------------------\n",
      "--------------- 410th Epoch Stats---------------\n",
      "Training Loss=0.23670431353696963, Training Accuracy=91.63490853658534\n",
      "Validation Loss=0.0, Validation Accuracy=0.0.\n",
      "------------------------------------------------------------\n",
      "--------------- 420th Epoch Stats---------------\n",
      "Training Loss=0.23565743173040993, Training Accuracy=91.63490853658537\n",
      "Validation Loss=0.0, Validation Accuracy=0.0.\n",
      "------------------------------------------------------------\n",
      "--------------- 430th Epoch Stats---------------\n",
      "Training Loss=0.23505403283165724, Training Accuracy=91.73018292682927\n",
      "Validation Loss=0.0, Validation Accuracy=0.0.\n",
      "------------------------------------------------------------\n",
      "--------------- 440th Epoch Stats---------------\n",
      "Training Loss=0.2357501274928814, Training Accuracy=91.65396341463418\n",
      "Validation Loss=0.0, Validation Accuracy=0.0.\n",
      "------------------------------------------------------------\n",
      "--------------- 450th Epoch Stats---------------\n",
      "Training Loss=0.2362863087072605, Training Accuracy=91.67301829268293\n",
      "Validation Loss=0.0, Validation Accuracy=0.0.\n",
      "------------------------------------------------------------\n",
      "--------------- 460th Epoch Stats---------------\n",
      "Training Loss=0.23562525975994952, Training Accuracy=91.73018292682927\n",
      "Validation Loss=0.0, Validation Accuracy=0.0.\n",
      "------------------------------------------------------------\n",
      "--------------- 470th Epoch Stats---------------\n",
      "Training Loss=0.23701223658352363, Training Accuracy=91.59679878048782\n",
      "Validation Loss=0.0, Validation Accuracy=0.0.\n",
      "------------------------------------------------------------\n",
      "--------------- 480th Epoch Stats---------------\n",
      "Training Loss=0.2356203743597356, Training Accuracy=91.6539634146341\n",
      "Validation Loss=0.0, Validation Accuracy=0.0.\n",
      "------------------------------------------------------------\n",
      "--------------- 490th Epoch Stats---------------\n",
      "Training Loss=0.2363098594473629, Training Accuracy=91.61585365853657\n",
      "Validation Loss=0.0, Validation Accuracy=0.0.\n",
      "------------------------------------------------------------\n"
     ]
    },
    {
     "data": {
      "application/javascript": [
       "\n",
       "            setTimeout(function() {\n",
       "                var nbb_cell_id = 6;\n",
       "                var nbb_unformatted_code = \"args = Namespace(\\n    frequency_cutoff=25,\\n    model_state_file=\\\"model.pth\\\",\\n    tweets_csv=\\\"data/train_with_splits.csv\\\",\\n    save_dir=\\\"models/perceptron\\\",\\n    vectorizer_file=\\\"vectorizer.json\\\",\\n    batch_size=128,\\n    early_stopping_criteria=5,\\n    learning_rate=0.001,\\n    num_epochs=500,\\n    seed=1337,\\n    catch_keyboard_interrupt=True,\\n    cuda=True,\\n    expand_filepaths_to_save_dir=True,\\n    reload_from_files=False,\\n)\\n\\nif args.expand_filepaths_to_save_dir:\\n    args.vectorizer_file = os.path.join(args.save_dir, args.vectorizer_file)\\n    args.model_state_file = os.path.join(args.save_dir, args.model_state_file)\\n    print(\\\"Expanded filepaths: \\\")\\n    print(f\\\"\\\\t{args.vectorizer_file}\\\")\\n    print(f\\\"\\\\t{args.model_state_file}\\\")\\n\\n\\nif not torch.cuda.is_available():\\n    args.cuda = False\\nargs.device = torch.device(\\\"cuda\\\" if args.cuda else \\\"cpu\\\")\\n\\nprint(f\\\"Using Cuda: {args.cuda}\\\")\\n\\nutils.set_seed_everywhere(args.seed, args.cuda)\\nutils.handle_dirs(args.save_dir)\\n\\nif args.reload_from_files:\\n    print(\\\"Loading Dataset & Vectorizer\\\")\\n    dataset = TweetDataset.load_dataset_and_load_vectorizer(\\n        args.tweets_csv, args.vectrozier_file, use_full_dataset=True\\n    )\\nelse:\\n    print(\\\"Loading dataset & Creating vectorizer\\\")\\n    dataset = TweetDataset.load_dataset_and_make_vectorizer(\\n        args.tweets_csv, args.vectorizer_file, use_full_dataset=True\\n    )\\n    dataset.save_vectorizer(args.vectorizer_file)\\n    vectorizer = dataset.get_vectorizer()\\n\\nclassifier = TweetPerceptronClassifier(num_features=len(vectorizer.tweet_vocab))\\nprint(classifier)\\nloss_func = nn.BCEWithLogitsLoss()\\noptimizer = optim.Adam(classifier.parameters(), lr=args.learning_rate)\\nscheduler = optim.lr_scheduler.ReduceLROnPlateau(\\n    optimizer=optimizer, mode=\\\"min\\\", factor=0.5, patience=1\\n)\\ntrain_state = utils.train_model(\\n    classifier, loss_func, optimizer, scheduler, dataset, args\\n)\\ntrain_state = utils.evaluate_test_split(\\n    classifier, dataset, loss_func, train_state, args\\n)\";\n",
       "                var nbb_formatted_code = \"args = Namespace(\\n    frequency_cutoff=25,\\n    model_state_file=\\\"model.pth\\\",\\n    tweets_csv=\\\"data/train_with_splits.csv\\\",\\n    save_dir=\\\"models/perceptron\\\",\\n    vectorizer_file=\\\"vectorizer.json\\\",\\n    batch_size=128,\\n    early_stopping_criteria=5,\\n    learning_rate=0.001,\\n    num_epochs=500,\\n    seed=1337,\\n    catch_keyboard_interrupt=True,\\n    cuda=True,\\n    expand_filepaths_to_save_dir=True,\\n    reload_from_files=False,\\n)\\n\\nif args.expand_filepaths_to_save_dir:\\n    args.vectorizer_file = os.path.join(args.save_dir, args.vectorizer_file)\\n    args.model_state_file = os.path.join(args.save_dir, args.model_state_file)\\n    print(\\\"Expanded filepaths: \\\")\\n    print(f\\\"\\\\t{args.vectorizer_file}\\\")\\n    print(f\\\"\\\\t{args.model_state_file}\\\")\\n\\n\\nif not torch.cuda.is_available():\\n    args.cuda = False\\nargs.device = torch.device(\\\"cuda\\\" if args.cuda else \\\"cpu\\\")\\n\\nprint(f\\\"Using Cuda: {args.cuda}\\\")\\n\\nutils.set_seed_everywhere(args.seed, args.cuda)\\nutils.handle_dirs(args.save_dir)\\n\\nif args.reload_from_files:\\n    print(\\\"Loading Dataset & Vectorizer\\\")\\n    dataset = TweetDataset.load_dataset_and_load_vectorizer(\\n        args.tweets_csv, args.vectrozier_file, use_full_dataset=True\\n    )\\nelse:\\n    print(\\\"Loading dataset & Creating vectorizer\\\")\\n    dataset = TweetDataset.load_dataset_and_make_vectorizer(\\n        args.tweets_csv, args.vectorizer_file, use_full_dataset=True\\n    )\\n    dataset.save_vectorizer(args.vectorizer_file)\\n    vectorizer = dataset.get_vectorizer()\\n\\nclassifier = TweetPerceptronClassifier(num_features=len(vectorizer.tweet_vocab))\\nprint(classifier)\\nloss_func = nn.BCEWithLogitsLoss()\\noptimizer = optim.Adam(classifier.parameters(), lr=args.learning_rate)\\nscheduler = optim.lr_scheduler.ReduceLROnPlateau(\\n    optimizer=optimizer, mode=\\\"min\\\", factor=0.5, patience=1\\n)\\ntrain_state = utils.train_model(\\n    classifier, loss_func, optimizer, scheduler, dataset, args\\n)\\ntrain_state = utils.evaluate_test_split(\\n    classifier, dataset, loss_func, train_state, args\\n)\";\n",
       "                var nbb_cells = Jupyter.notebook.get_cells();\n",
       "                for (var i = 0; i < nbb_cells.length; ++i) {\n",
       "                    if (nbb_cells[i].input_prompt_number == nbb_cell_id) {\n",
       "                        if (nbb_cells[i].get_text() == nbb_unformatted_code) {\n",
       "                             nbb_cells[i].set_text(nbb_formatted_code);\n",
       "                        }\n",
       "                        break;\n",
       "                    }\n",
       "                }\n",
       "            }, 500);\n",
       "            "
      ],
      "text/plain": [
       "<IPython.core.display.Javascript object>"
      ]
     },
     "metadata": {},
     "output_type": "display_data"
    }
   ],
   "source": [
    "args = Namespace(\n",
    "    frequency_cutoff=25,\n",
    "    model_state_file=\"model.pth\",\n",
    "    tweets_csv=\"data/train_with_splits.csv\",\n",
    "    save_dir=\"models/perceptron\",\n",
    "    vectorizer_file=\"vectorizer.json\",\n",
    "    batch_size=128,\n",
    "    early_stopping_criteria=5,\n",
    "    learning_rate=0.001,\n",
    "    num_epochs=500,\n",
    "    seed=1337,\n",
    "    catch_keyboard_interrupt=True,\n",
    "    cuda=True,\n",
    "    expand_filepaths_to_save_dir=True,\n",
    "    reload_from_files=False,\n",
    ")\n",
    "\n",
    "if args.expand_filepaths_to_save_dir:\n",
    "    args.vectorizer_file = os.path.join(args.save_dir, args.vectorizer_file)\n",
    "    args.model_state_file = os.path.join(args.save_dir, args.model_state_file)\n",
    "    print(\"Expanded filepaths: \")\n",
    "    print(f\"\\t{args.vectorizer_file}\")\n",
    "    print(f\"\\t{args.model_state_file}\")\n",
    "\n",
    "\n",
    "if not torch.cuda.is_available():\n",
    "    args.cuda = False\n",
    "args.device = torch.device(\"cuda\" if args.cuda else \"cpu\")\n",
    "\n",
    "print(f\"Using Cuda: {args.cuda}\")\n",
    "\n",
    "utils.set_seed_everywhere(args.seed, args.cuda)\n",
    "utils.handle_dirs(args.save_dir)\n",
    "\n",
    "if args.reload_from_files:\n",
    "    print(\"Loading Dataset & Vectorizer\")\n",
    "    dataset = TweetDataset.load_dataset_and_load_vectorizer(\n",
    "        args.tweets_csv, args.vectrozier_file, use_full_dataset=True\n",
    "    )\n",
    "else:\n",
    "    print(\"Loading dataset & Creating vectorizer\")\n",
    "    dataset = TweetDataset.load_dataset_and_make_vectorizer(\n",
    "        args.tweets_csv, args.vectorizer_file, use_full_dataset=True\n",
    "    )\n",
    "    dataset.save_vectorizer(args.vectorizer_file)\n",
    "    vectorizer = dataset.get_vectorizer()\n",
    "\n",
    "classifier = TweetPerceptronClassifier(num_features=len(vectorizer.tweet_vocab))\n",
    "print(classifier)\n",
    "loss_func = nn.BCEWithLogitsLoss()\n",
    "optimizer = optim.Adam(classifier.parameters(), lr=args.learning_rate)\n",
    "scheduler = optim.lr_scheduler.ReduceLROnPlateau(\n",
    "    optimizer=optimizer, mode=\"min\", factor=0.5, patience=1\n",
    ")\n",
    "train_state = utils.train_model(\n",
    "    classifier, loss_func, optimizer, scheduler, dataset, args\n",
    ")\n",
    "train_state = utils.evaluate_test_split(\n",
    "    classifier, dataset, loss_func, train_state, args\n",
    ")"
   ]
  },
  {
   "cell_type": "code",
   "execution_count": 7,
   "id": "bc1196a8",
   "metadata": {},
   "outputs": [
    {
     "name": "stderr",
     "output_type": "stream",
     "text": [
      "/Users/pardeep/anaconda3/envs/nlp-with-pytorch/lib/python3.8/site-packages/torch/nn/functional.py:1709: UserWarning: nn.functional.sigmoid is deprecated. Use torch.sigmoid instead.\n",
      "  warnings.warn(\"nn.functional.sigmoid is deprecated. Use torch.sigmoid instead.\")\n"
     ]
    },
    {
     "data": {
      "application/javascript": [
       "\n",
       "            setTimeout(function() {\n",
       "                var nbb_cell_id = 7;\n",
       "                var nbb_unformatted_code = \"test_dataset = pd.read_csv(\\\"data/test.csv\\\")\\nresults = []\\nfor id, _, _, tweet in test_dataset.values:\\n    prediction = utils.predict_class(classifier, dataset.get_vectorizer(), tweet)\\n    results.append([id, prediction])\\nsubmission_df = pd.DataFrame(results, columns=[\\\"id\\\", \\\"target\\\"])\\nsubmission_df.head()\\nsubmission_df.to_csv(\\\"data/perceptron_results3.csv\\\", index=False)\";\n",
       "                var nbb_formatted_code = \"test_dataset = pd.read_csv(\\\"data/test.csv\\\")\\nresults = []\\nfor id, _, _, tweet in test_dataset.values:\\n    prediction = utils.predict_class(classifier, dataset.get_vectorizer(), tweet)\\n    results.append([id, prediction])\\nsubmission_df = pd.DataFrame(results, columns=[\\\"id\\\", \\\"target\\\"])\\nsubmission_df.head()\\nsubmission_df.to_csv(\\\"data/perceptron_results3.csv\\\", index=False)\";\n",
       "                var nbb_cells = Jupyter.notebook.get_cells();\n",
       "                for (var i = 0; i < nbb_cells.length; ++i) {\n",
       "                    if (nbb_cells[i].input_prompt_number == nbb_cell_id) {\n",
       "                        if (nbb_cells[i].get_text() == nbb_unformatted_code) {\n",
       "                             nbb_cells[i].set_text(nbb_formatted_code);\n",
       "                        }\n",
       "                        break;\n",
       "                    }\n",
       "                }\n",
       "            }, 500);\n",
       "            "
      ],
      "text/plain": [
       "<IPython.core.display.Javascript object>"
      ]
     },
     "metadata": {},
     "output_type": "display_data"
    }
   ],
   "source": [
    "test_dataset = pd.read_csv(\"data/test.csv\")\n",
    "results = []\n",
    "for id, _, _, tweet in test_dataset.values:\n",
    "    prediction = utils.predict_class(classifier, dataset.get_vectorizer(), tweet)\n",
    "    results.append([id, prediction])\n",
    "submission_df = pd.DataFrame(results, columns=[\"id\", \"target\"])\n",
    "submission_df.head()\n",
    "submission_df.to_csv(\"data/perceptron_results3.csv\", index=False)"
   ]
  },
  {
   "cell_type": "code",
   "execution_count": 8,
   "id": "8ee85dee",
   "metadata": {},
   "outputs": [
    {
     "data": {
      "application/javascript": [
       "\n",
       "            setTimeout(function() {\n",
       "                var nbb_cell_id = 8;\n",
       "                var nbb_unformatted_code = \"submission_df1 = pd.read_csv(\\\"data/perceptron_results.csv\\\")\\nsubmission_df2 = pd.read_csv(\\\"data/perceptron_results1.csv\\\")\\nsubmission_df3 = pd.read_csv(\\\"data/perceptron_results2.csv\\\")\\nsubmission_df4 = pd.read_csv(\\\"data/perceptron_results3.csv\\\")\";\n",
       "                var nbb_formatted_code = \"submission_df1 = pd.read_csv(\\\"data/perceptron_results.csv\\\")\\nsubmission_df2 = pd.read_csv(\\\"data/perceptron_results1.csv\\\")\\nsubmission_df3 = pd.read_csv(\\\"data/perceptron_results2.csv\\\")\\nsubmission_df4 = pd.read_csv(\\\"data/perceptron_results3.csv\\\")\";\n",
       "                var nbb_cells = Jupyter.notebook.get_cells();\n",
       "                for (var i = 0; i < nbb_cells.length; ++i) {\n",
       "                    if (nbb_cells[i].input_prompt_number == nbb_cell_id) {\n",
       "                        if (nbb_cells[i].get_text() == nbb_unformatted_code) {\n",
       "                             nbb_cells[i].set_text(nbb_formatted_code);\n",
       "                        }\n",
       "                        break;\n",
       "                    }\n",
       "                }\n",
       "            }, 500);\n",
       "            "
      ],
      "text/plain": [
       "<IPython.core.display.Javascript object>"
      ]
     },
     "metadata": {},
     "output_type": "display_data"
    }
   ],
   "source": [
    "submission_df1 = pd.read_csv(\"data/perceptron_results.csv\")\n",
    "submission_df2 = pd.read_csv(\"data/perceptron_results1.csv\")\n",
    "submission_df3 = pd.read_csv(\"data/perceptron_results2.csv\")\n",
    "submission_df4 = pd.read_csv(\"data/perceptron_results3.csv\")"
   ]
  },
  {
   "cell_type": "code",
   "execution_count": 9,
   "id": "5e152d6d",
   "metadata": {},
   "outputs": [
    {
     "data": {
      "text/plain": [
       "((3263, 2), (2795, 2), (3130, 2), (2692, 2), (3065, 2))"
      ]
     },
     "execution_count": 9,
     "metadata": {},
     "output_type": "execute_result"
    },
    {
     "data": {
      "application/javascript": [
       "\n",
       "            setTimeout(function() {\n",
       "                var nbb_cell_id = 9;\n",
       "                var nbb_unformatted_code = \"submission_df1.shape, submission_df1[\\n    submission_df1[\\\"target\\\"] == submission_df2[\\\"target\\\"]\\n].shape, submission_df1[\\n    submission_df1[\\\"target\\\"] == submission_df3[\\\"target\\\"]\\n].shape, submission_df2[\\n    submission_df3[\\\"target\\\"] == submission_df2[\\\"target\\\"]\\n].shape, submission_df1[\\n    submission_df1[\\\"target\\\"] == submission_df4[\\\"target\\\"]\\n].shape\";\n",
       "                var nbb_formatted_code = \"submission_df1.shape, submission_df1[\\n    submission_df1[\\\"target\\\"] == submission_df2[\\\"target\\\"]\\n].shape, submission_df1[\\n    submission_df1[\\\"target\\\"] == submission_df3[\\\"target\\\"]\\n].shape, submission_df2[\\n    submission_df3[\\\"target\\\"] == submission_df2[\\\"target\\\"]\\n].shape, submission_df1[\\n    submission_df1[\\\"target\\\"] == submission_df4[\\\"target\\\"]\\n].shape\";\n",
       "                var nbb_cells = Jupyter.notebook.get_cells();\n",
       "                for (var i = 0; i < nbb_cells.length; ++i) {\n",
       "                    if (nbb_cells[i].input_prompt_number == nbb_cell_id) {\n",
       "                        if (nbb_cells[i].get_text() == nbb_unformatted_code) {\n",
       "                             nbb_cells[i].set_text(nbb_formatted_code);\n",
       "                        }\n",
       "                        break;\n",
       "                    }\n",
       "                }\n",
       "            }, 500);\n",
       "            "
      ],
      "text/plain": [
       "<IPython.core.display.Javascript object>"
      ]
     },
     "metadata": {},
     "output_type": "display_data"
    }
   ],
   "source": [
    "submission_df1.shape, submission_df1[\n",
    "    submission_df1[\"target\"] == submission_df2[\"target\"]\n",
    "].shape, submission_df1[\n",
    "    submission_df1[\"target\"] == submission_df3[\"target\"]\n",
    "].shape, submission_df2[\n",
    "    submission_df3[\"target\"] == submission_df2[\"target\"]\n",
    "].shape, submission_df1[\n",
    "    submission_df1[\"target\"] == submission_df4[\"target\"]\n",
    "].shape"
   ]
  },
  {
   "cell_type": "code",
   "execution_count": null,
   "id": "4a2dbfc9",
   "metadata": {},
   "outputs": [],
   "source": []
  },
  {
   "cell_type": "code",
   "execution_count": null,
   "id": "0d888faa",
   "metadata": {},
   "outputs": [],
   "source": []
  },
  {
   "cell_type": "code",
   "execution_count": null,
   "id": "a08748cc",
   "metadata": {},
   "outputs": [],
   "source": []
  },
  {
   "cell_type": "code",
   "execution_count": null,
   "id": "a07001b2",
   "metadata": {},
   "outputs": [],
   "source": []
  }
 ],
 "metadata": {
  "kernelspec": {
   "display_name": "Python 3",
   "language": "python",
   "name": "python3"
  },
  "language_info": {
   "codemirror_mode": {
    "name": "ipython",
    "version": 3
   },
   "file_extension": ".py",
   "mimetype": "text/x-python",
   "name": "python",
   "nbconvert_exporter": "python",
   "pygments_lexer": "ipython3",
   "version": "3.8.10"
  },
  "toc": {
   "base_numbering": 1,
   "nav_menu": {},
   "number_sections": true,
   "sideBar": true,
   "skip_h1_title": false,
   "title_cell": "Table of Contents",
   "title_sidebar": "Contents",
   "toc_cell": false,
   "toc_position": {},
   "toc_section_display": true,
   "toc_window_display": false
  }
 },
 "nbformat": 4,
 "nbformat_minor": 5
}
