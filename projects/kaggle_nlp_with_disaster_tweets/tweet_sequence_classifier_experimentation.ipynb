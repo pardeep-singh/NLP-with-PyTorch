{
 "cells": [
  {
   "cell_type": "markdown",
   "id": "09271c4c",
   "metadata": {},
   "source": [
    "## Vanilla Sequence Tweet Classifier\n",
    "\n",
    "- `data/emb_results1.csv` -> 0.42966"
   ]
  },
  {
   "cell_type": "code",
   "execution_count": 1,
   "id": "adcc3e58",
   "metadata": {},
   "outputs": [
    {
     "name": "stderr",
     "output_type": "stream",
     "text": [
      "/Users/pardeep/anaconda3/envs/nlp-with-pytorch/lib/python3.8/site-packages/gensim/similarities/__init__.py:15: UserWarning: The gensim.similarities.levenshtein submodule is disabled, because the optional Levenshtein package <https://pypi.org/project/python-Levenshtein/> is unavailable. Install Levenhstein (e.g. `pip install python-Levenshtein`) to suppress this warning.\n",
      "  warnings.warn(msg)\n"
     ]
    },
    {
     "data": {
      "application/javascript": [
       "\n",
       "            setTimeout(function() {\n",
       "                var nbb_cell_id = 1;\n",
       "                var nbb_unformatted_code = \"%load_ext nb_black\\n\\nimport collections\\nimport numpy as np\\nimport pandas as pd\\nimport re\\nfrom argparse import Namespace\\nimport os\\n\\nimport torch.optim as optim\\nimport torch\\nimport torch.nn as nn\\nimport torch.nn.functional as F\\n\\nimport utils\\nfrom dataset import SequenceTweetDataset\\nfrom classifiers import TweetEmbeddingClassifier\";\n",
       "                var nbb_formatted_code = \"%load_ext nb_black\\n\\nimport collections\\nimport numpy as np\\nimport pandas as pd\\nimport re\\nfrom argparse import Namespace\\nimport os\\n\\nimport torch.optim as optim\\nimport torch\\nimport torch.nn as nn\\nimport torch.nn.functional as F\\n\\nimport utils\\nfrom dataset import SequenceTweetDataset\\nfrom classifiers import TweetEmbeddingClassifier\";\n",
       "                var nbb_cells = Jupyter.notebook.get_cells();\n",
       "                for (var i = 0; i < nbb_cells.length; ++i) {\n",
       "                    if (nbb_cells[i].input_prompt_number == nbb_cell_id) {\n",
       "                        if (nbb_cells[i].get_text() == nbb_unformatted_code) {\n",
       "                             nbb_cells[i].set_text(nbb_formatted_code);\n",
       "                        }\n",
       "                        break;\n",
       "                    }\n",
       "                }\n",
       "            }, 500);\n",
       "            "
      ],
      "text/plain": [
       "<IPython.core.display.Javascript object>"
      ]
     },
     "metadata": {},
     "output_type": "display_data"
    }
   ],
   "source": [
    "%load_ext nb_black\n",
    "\n",
    "import collections\n",
    "import numpy as np\n",
    "import pandas as pd\n",
    "import re\n",
    "from argparse import Namespace\n",
    "import os\n",
    "\n",
    "import torch.optim as optim\n",
    "import torch\n",
    "import torch.nn as nn\n",
    "import torch.nn.functional as F\n",
    "\n",
    "import utils\n",
    "from dataset import SequenceTweetDataset\n",
    "from classifiers import TweetEmbeddingClassifier"
   ]
  },
  {
   "cell_type": "code",
   "execution_count": 2,
   "id": "6c414754",
   "metadata": {},
   "outputs": [
    {
     "name": "stdout",
     "output_type": "stream",
     "text": [
      "Expanded filepaths: \n",
      "\tmodels/embeddings/document_classification/vectorizer.json\n",
      "\tmodels/embeddings/document_classification/model.pth\n",
      "Using CUDA: False\n"
     ]
    },
    {
     "data": {
      "application/javascript": [
       "\n",
       "            setTimeout(function() {\n",
       "                var nbb_cell_id = 2;\n",
       "                var nbb_unformatted_code = \"args = Namespace(\\n    # Data and Path hyper parameters\\n    tweets_csv=\\\"data/train_with_splits.csv\\\",\\n    vectorizer_file=\\\"vectorizer.json\\\",\\n    model_state_file=\\\"model.pth\\\",\\n    save_dir=\\\"models/embeddings/document_classification\\\",\\n    # Model hyper parameters\\n    glove_filepath=\\\"../../data/glove.6B.100d.txt\\\",\\n    use_glove=False,\\n    embedding_size=100,\\n    hidden_dim=100,\\n    num_channels=100,\\n    # Training hyper parameter\\n    seed=1337,\\n    learning_rate=0.001,\\n    dropout_p=0.1,\\n    batch_size=128,\\n    num_epochs=100,\\n    early_stopping_criteria=5,\\n    # Runtime option\\n    cuda=True,\\n    catch_keyboard_interrupt=True,\\n    reload_from_files=False,\\n    expand_filepaths_to_save_dir=True,\\n)\\n\\nif args.expand_filepaths_to_save_dir:\\n    args.vectorizer_file = os.path.join(args.save_dir, args.vectorizer_file)\\n\\n    args.model_state_file = os.path.join(args.save_dir, args.model_state_file)\\n\\n    print(\\\"Expanded filepaths: \\\")\\n    print(\\\"\\\\t{}\\\".format(args.vectorizer_file))\\n    print(\\\"\\\\t{}\\\".format(args.model_state_file))\\n\\n# Check CUDA\\nif not torch.cuda.is_available():\\n    args.cuda = False\\n\\nargs.device = torch.device(\\\"cuda\\\" if args.cuda else \\\"cpu\\\")\\nprint(\\\"Using CUDA: {}\\\".format(args.cuda))\\n\\n# Set seed for reproducibility\\nutils.set_seed_everywhere(args.seed, args.cuda)\\n\\n# handle dirs\\nutils.handle_dirs(args.save_dir)\";\n",
       "                var nbb_formatted_code = \"args = Namespace(\\n    # Data and Path hyper parameters\\n    tweets_csv=\\\"data/train_with_splits.csv\\\",\\n    vectorizer_file=\\\"vectorizer.json\\\",\\n    model_state_file=\\\"model.pth\\\",\\n    save_dir=\\\"models/embeddings/document_classification\\\",\\n    # Model hyper parameters\\n    glove_filepath=\\\"../../data/glove.6B.100d.txt\\\",\\n    use_glove=False,\\n    embedding_size=100,\\n    hidden_dim=100,\\n    num_channels=100,\\n    # Training hyper parameter\\n    seed=1337,\\n    learning_rate=0.001,\\n    dropout_p=0.1,\\n    batch_size=128,\\n    num_epochs=100,\\n    early_stopping_criteria=5,\\n    # Runtime option\\n    cuda=True,\\n    catch_keyboard_interrupt=True,\\n    reload_from_files=False,\\n    expand_filepaths_to_save_dir=True,\\n)\\n\\nif args.expand_filepaths_to_save_dir:\\n    args.vectorizer_file = os.path.join(args.save_dir, args.vectorizer_file)\\n\\n    args.model_state_file = os.path.join(args.save_dir, args.model_state_file)\\n\\n    print(\\\"Expanded filepaths: \\\")\\n    print(\\\"\\\\t{}\\\".format(args.vectorizer_file))\\n    print(\\\"\\\\t{}\\\".format(args.model_state_file))\\n\\n# Check CUDA\\nif not torch.cuda.is_available():\\n    args.cuda = False\\n\\nargs.device = torch.device(\\\"cuda\\\" if args.cuda else \\\"cpu\\\")\\nprint(\\\"Using CUDA: {}\\\".format(args.cuda))\\n\\n# Set seed for reproducibility\\nutils.set_seed_everywhere(args.seed, args.cuda)\\n\\n# handle dirs\\nutils.handle_dirs(args.save_dir)\";\n",
       "                var nbb_cells = Jupyter.notebook.get_cells();\n",
       "                for (var i = 0; i < nbb_cells.length; ++i) {\n",
       "                    if (nbb_cells[i].input_prompt_number == nbb_cell_id) {\n",
       "                        if (nbb_cells[i].get_text() == nbb_unformatted_code) {\n",
       "                             nbb_cells[i].set_text(nbb_formatted_code);\n",
       "                        }\n",
       "                        break;\n",
       "                    }\n",
       "                }\n",
       "            }, 500);\n",
       "            "
      ],
      "text/plain": [
       "<IPython.core.display.Javascript object>"
      ]
     },
     "metadata": {},
     "output_type": "display_data"
    }
   ],
   "source": [
    "args = Namespace(\n",
    "    # Data and Path hyper parameters\n",
    "    tweets_csv=\"data/train_with_splits.csv\",\n",
    "    vectorizer_file=\"vectorizer.json\",\n",
    "    model_state_file=\"model.pth\",\n",
    "    save_dir=\"models/embeddings/\",\n",
    "    # Model hyper parameters\n",
    "    glove_filepath=\"../../data/glove.6B.100d.txt\",\n",
    "    use_glove=False,\n",
    "    embedding_size=100,\n",
    "    hidden_dim=100,\n",
    "    num_channels=100,\n",
    "    # Training hyper parameter\n",
    "    seed=1337,\n",
    "    learning_rate=0.001,\n",
    "    dropout_p=0.1,\n",
    "    batch_size=128,\n",
    "    num_epochs=100,\n",
    "    early_stopping_criteria=5,\n",
    "    # Runtime option\n",
    "    cuda=True,\n",
    "    catch_keyboard_interrupt=True,\n",
    "    reload_from_files=False,\n",
    "    expand_filepaths_to_save_dir=True,\n",
    ")\n",
    "\n",
    "if args.expand_filepaths_to_save_dir:\n",
    "    args.vectorizer_file = os.path.join(args.save_dir, args.vectorizer_file)\n",
    "\n",
    "    args.model_state_file = os.path.join(args.save_dir, args.model_state_file)\n",
    "\n",
    "    print(\"Expanded filepaths: \")\n",
    "    print(\"\\t{}\".format(args.vectorizer_file))\n",
    "    print(\"\\t{}\".format(args.model_state_file))\n",
    "\n",
    "# Check CUDA\n",
    "if not torch.cuda.is_available():\n",
    "    args.cuda = False\n",
    "\n",
    "args.device = torch.device(\"cuda\" if args.cuda else \"cpu\")\n",
    "print(\"Using CUDA: {}\".format(args.cuda))\n",
    "\n",
    "# Set seed for reproducibility\n",
    "utils.set_seed_everywhere(args.seed, args.cuda)\n",
    "\n",
    "# handle dirs\n",
    "utils.handle_dirs(args.save_dir)"
   ]
  },
  {
   "cell_type": "code",
   "execution_count": 3,
   "id": "0d55572e",
   "metadata": {},
   "outputs": [
    {
     "name": "stdout",
     "output_type": "stream",
     "text": [
      "Using pre-trained embeddings\n",
      "TweetEmbeddingClassifier(\n",
      "  (emb): Embedding(3111, 100, padding_idx=0)\n",
      "  (convnet): Sequential(\n",
      "    (0): Conv1d(100, 100, kernel_size=(3,), stride=(1,))\n",
      "    (1): ELU(alpha=1.0)\n",
      "    (2): Conv1d(100, 100, kernel_size=(3,), stride=(2,))\n",
      "    (3): ELU(alpha=1.0)\n",
      "    (4): Conv1d(100, 100, kernel_size=(3,), stride=(2,))\n",
      "    (5): ELU(alpha=1.0)\n",
      "    (6): Conv1d(100, 100, kernel_size=(3,), stride=(1,))\n",
      "    (7): ELU(alpha=1.0)\n",
      "  )\n",
      "  (fc1): Linear(in_features=100, out_features=100, bias=True)\n",
      "  (fc2): Linear(in_features=100, out_features=1, bias=True)\n",
      ")\n"
     ]
    },
    {
     "name": "stderr",
     "output_type": "stream",
     "text": [
      "/Users/pardeep/playground/NLP-with-PyTorch/projects/kaggle_nlp_with_disaster_tweets/utils.py:315: UserWarning: nn.init.xavier_uniform is now deprecated in favor of nn.init.xavier_uniform_.\n",
      "  torch.nn.init.xavier_uniform(embedding_i)\n"
     ]
    },
    {
     "data": {
      "application/javascript": [
       "\n",
       "            setTimeout(function() {\n",
       "                var nbb_cell_id = 3;\n",
       "                var nbb_unformatted_code = \"args.use_glove = True\\n\\nif args.reload_from_files:\\n    # training from a checkpoint\\n    dataset = SequenceTweetDataset.load_dataset_and_load_vectorizer(\\n        args.tweets_csv, args.vectorizer_file\\n    )\\nelse:\\n    # create dataset and vectorizer\\n    dataset = SequenceTweetDataset.load_dataset_and_make_vectorizer(args.tweets_csv)\\n    dataset.save_vectorizer(args.vectorizer_file)\\nvectorizer = dataset.get_vectorizer()\\n\\n# Use GloVe or randomly initialized embeddings\\nif args.use_glove:\\n    words = vectorizer.tweet_vocab._token_to_idx.keys()\\n    embeddings = utils.make_embedding_matrix(\\n        glove_filepath=args.glove_filepath, words=words\\n    )\\n    print(\\\"Using pre-trained embeddings\\\")\\nelse:\\n    print(\\\"Not using pre-trained embeddings\\\")\\n    embeddings = None\\n\\nclassifier = TweetEmbeddingClassifier(\\n    embedding_size=args.embedding_size,\\n    num_embeddings=len(vectorizer.tweet_vocab),\\n    num_channels=args.num_channels,\\n    hidden_dim=args.hidden_dim,\\n    output_dim=1,\\n    dropout_p=args.dropout_p,\\n    pretrained_embeddings=embeddings,\\n    padding_idx=0,\\n)\\nprint(classifier)\";\n",
       "                var nbb_formatted_code = \"args.use_glove = True\\n\\nif args.reload_from_files:\\n    # training from a checkpoint\\n    dataset = SequenceTweetDataset.load_dataset_and_load_vectorizer(\\n        args.tweets_csv, args.vectorizer_file\\n    )\\nelse:\\n    # create dataset and vectorizer\\n    dataset = SequenceTweetDataset.load_dataset_and_make_vectorizer(args.tweets_csv)\\n    dataset.save_vectorizer(args.vectorizer_file)\\nvectorizer = dataset.get_vectorizer()\\n\\n# Use GloVe or randomly initialized embeddings\\nif args.use_glove:\\n    words = vectorizer.tweet_vocab._token_to_idx.keys()\\n    embeddings = utils.make_embedding_matrix(\\n        glove_filepath=args.glove_filepath, words=words\\n    )\\n    print(\\\"Using pre-trained embeddings\\\")\\nelse:\\n    print(\\\"Not using pre-trained embeddings\\\")\\n    embeddings = None\\n\\nclassifier = TweetEmbeddingClassifier(\\n    embedding_size=args.embedding_size,\\n    num_embeddings=len(vectorizer.tweet_vocab),\\n    num_channels=args.num_channels,\\n    hidden_dim=args.hidden_dim,\\n    output_dim=1,\\n    dropout_p=args.dropout_p,\\n    pretrained_embeddings=embeddings,\\n    padding_idx=0,\\n)\\nprint(classifier)\";\n",
       "                var nbb_cells = Jupyter.notebook.get_cells();\n",
       "                for (var i = 0; i < nbb_cells.length; ++i) {\n",
       "                    if (nbb_cells[i].input_prompt_number == nbb_cell_id) {\n",
       "                        if (nbb_cells[i].get_text() == nbb_unformatted_code) {\n",
       "                             nbb_cells[i].set_text(nbb_formatted_code);\n",
       "                        }\n",
       "                        break;\n",
       "                    }\n",
       "                }\n",
       "            }, 500);\n",
       "            "
      ],
      "text/plain": [
       "<IPython.core.display.Javascript object>"
      ]
     },
     "metadata": {},
     "output_type": "display_data"
    }
   ],
   "source": [
    "args.use_glove = True\n",
    "\n",
    "if args.reload_from_files:\n",
    "    # training from a checkpoint\n",
    "    dataset = SequenceTweetDataset.load_dataset_and_load_vectorizer(\n",
    "        args.tweets_csv, args.vectorizer_file\n",
    "    )\n",
    "else:\n",
    "    # create dataset and vectorizer\n",
    "    dataset = SequenceTweetDataset.load_dataset_and_make_vectorizer(args.tweets_csv)\n",
    "    dataset.save_vectorizer(args.vectorizer_file)\n",
    "vectorizer = dataset.get_vectorizer()\n",
    "\n",
    "# Use GloVe or randomly initialized embeddings\n",
    "if args.use_glove:\n",
    "    words = vectorizer.tweet_vocab._token_to_idx.keys()\n",
    "    embeddings = utils.make_embedding_matrix(\n",
    "        glove_filepath=args.glove_filepath, words=words\n",
    "    )\n",
    "    print(\"Using pre-trained embeddings\")\n",
    "else:\n",
    "    print(\"Not using pre-trained embeddings\")\n",
    "    embeddings = None\n",
    "\n",
    "classifier = TweetEmbeddingClassifier(\n",
    "    embedding_size=args.embedding_size,\n",
    "    num_embeddings=len(vectorizer.tweet_vocab),\n",
    "    num_channels=args.num_channels,\n",
    "    hidden_dim=args.hidden_dim,\n",
    "    output_dim=1,\n",
    "    dropout_p=args.dropout_p,\n",
    "    pretrained_embeddings=embeddings,\n",
    "    padding_idx=0,\n",
    ")\n",
    "print(classifier)"
   ]
  },
  {
   "cell_type": "code",
   "execution_count": 4,
   "id": "80fa37cb",
   "metadata": {},
   "outputs": [
    {
     "data": {
      "application/vnd.jupyter.widget-view+json": {
       "model_id": "eee30d7e925942f1b32fd489e5b0ecc9",
       "version_major": 2,
       "version_minor": 0
      },
      "text/plain": [
       "Training Routine:   0%|          | 0/100 [00:00<?, ?it/s]"
      ]
     },
     "metadata": {},
     "output_type": "display_data"
    },
    {
     "data": {
      "application/vnd.jupyter.widget-view+json": {
       "model_id": "6182b4846c1c4588bd18c6d5e3acb491",
       "version_major": 2,
       "version_minor": 0
      },
      "text/plain": [
       "split=train:   0%|          | 0/41 [00:00<?, ?it/s]"
      ]
     },
     "metadata": {},
     "output_type": "display_data"
    },
    {
     "data": {
      "application/vnd.jupyter.widget-view+json": {
       "model_id": "2a508319f2e44edf95294fda75b3cf23",
       "version_major": 2,
       "version_minor": 0
      },
      "text/plain": [
       "split=val:   0%|          | 0/8 [00:00<?, ?it/s]"
      ]
     },
     "metadata": {},
     "output_type": "display_data"
    },
    {
     "name": "stdout",
     "output_type": "stream",
     "text": [
      "============ Split=train, Size=5331 ============\n",
      "============ Split=val, Size=1141 ============\n",
      "--------------- 0th Epoch Stats---------------\n",
      "Training Loss=0.6367046709467724, Training Accuracy=61.985518292682926\n",
      "Validation Loss=0.4669395312666893, Validation Accuracy=79.296875.\n",
      "------------------------------------------------------------\n",
      "--------------- 10th Epoch Stats---------------\n",
      "Training Loss=0.1959298821847613, Training Accuracy=92.98780487804879\n",
      "Validation Loss=0.6810704581439495, Validation Accuracy=77.1484375.\n",
      "------------------------------------------------------------\n",
      "--------------- 20th Epoch Stats---------------\n",
      "Training Loss=0.17105375866337516, Training Accuracy=94.13109756097562\n",
      "Validation Loss=0.735496610403061, Validation Accuracy=75.9765625.\n",
      "------------------------------------------------------------\n",
      "--------------- 30th Epoch Stats---------------\n",
      "Training Loss=0.17115213322203335, Training Accuracy=94.16920731707317\n",
      "Validation Loss=0.7313713729381562, Validation Accuracy=76.171875.\n",
      "------------------------------------------------------------\n",
      "--------------- 40th Epoch Stats---------------\n",
      "Training Loss=0.17088518200851072, Training Accuracy=94.2263719512195\n",
      "Validation Loss=0.7399904876947403, Validation Accuracy=75.9765625.\n",
      "------------------------------------------------------------\n",
      "--------------- 50th Epoch Stats---------------\n",
      "Training Loss=0.17190431149267568, Training Accuracy=94.11204268292681\n",
      "Validation Loss=0.7698633819818497, Validation Accuracy=75.48828125.\n",
      "------------------------------------------------------------\n",
      "--------------- 60th Epoch Stats---------------\n",
      "Training Loss=0.17098327653437123, Training Accuracy=94.2454268292683\n",
      "Validation Loss=0.7172230966389179, Validation Accuracy=76.5625.\n",
      "------------------------------------------------------------\n",
      "--------------- 70th Epoch Stats---------------\n",
      "Training Loss=0.17250303342574982, Training Accuracy=94.2263719512195\n",
      "Validation Loss=0.7563951984047889, Validation Accuracy=75.68359375.\n",
      "------------------------------------------------------------\n",
      "--------------- 80th Epoch Stats---------------\n",
      "Training Loss=0.1699268078295196, Training Accuracy=94.2263719512195\n",
      "Validation Loss=0.7499470338225365, Validation Accuracy=76.07421875.\n",
      "------------------------------------------------------------\n",
      "--------------- 90th Epoch Stats---------------\n",
      "Training Loss=0.1715263566229401, Training Accuracy=94.359756097561\n",
      "Validation Loss=0.6992455348372459, Validation Accuracy=77.9296875.\n",
      "------------------------------------------------------------\n",
      "============ Split=test, Size=1141 ============\n",
      "-------- Test Accuracy=78.02734375, Test Loss=0.7120643705129623.--------\n"
     ]
    },
    {
     "data": {
      "application/javascript": [
       "\n",
       "            setTimeout(function() {\n",
       "                var nbb_cell_id = 4;\n",
       "                var nbb_unformatted_code = \"classifier = classifier.to(args.device)\\nloss_func = nn.BCEWithLogitsLoss()\\noptimizer = optim.Adam(classifier.parameters(), lr=args.learning_rate)\\nscheduler = optim.lr_scheduler.ReduceLROnPlateau(\\n    optimizer=optimizer, mode=\\\"min\\\", factor=0.5, patience=1\\n)\\ntrain_state = utils.train_model(\\n    classifier=classifier,\\n    loss_func=loss_func,\\n    optimizer=optimizer,\\n    scheduler=scheduler,\\n    dataset=dataset,\\n    args=args,\\n)\\ntrain_state = utils.evaluate_test_split(\\n    classifier=classifier,\\n    dataset=dataset,\\n    loss_func=loss_func,\\n    args=args,\\n    train_state=train_state,\\n)\";\n",
       "                var nbb_formatted_code = \"classifier = classifier.to(args.device)\\nloss_func = nn.BCEWithLogitsLoss()\\noptimizer = optim.Adam(classifier.parameters(), lr=args.learning_rate)\\nscheduler = optim.lr_scheduler.ReduceLROnPlateau(\\n    optimizer=optimizer, mode=\\\"min\\\", factor=0.5, patience=1\\n)\\ntrain_state = utils.train_model(\\n    classifier=classifier,\\n    loss_func=loss_func,\\n    optimizer=optimizer,\\n    scheduler=scheduler,\\n    dataset=dataset,\\n    args=args,\\n)\\ntrain_state = utils.evaluate_test_split(\\n    classifier=classifier,\\n    dataset=dataset,\\n    loss_func=loss_func,\\n    args=args,\\n    train_state=train_state,\\n)\";\n",
       "                var nbb_cells = Jupyter.notebook.get_cells();\n",
       "                for (var i = 0; i < nbb_cells.length; ++i) {\n",
       "                    if (nbb_cells[i].input_prompt_number == nbb_cell_id) {\n",
       "                        if (nbb_cells[i].get_text() == nbb_unformatted_code) {\n",
       "                             nbb_cells[i].set_text(nbb_formatted_code);\n",
       "                        }\n",
       "                        break;\n",
       "                    }\n",
       "                }\n",
       "            }, 500);\n",
       "            "
      ],
      "text/plain": [
       "<IPython.core.display.Javascript object>"
      ]
     },
     "metadata": {},
     "output_type": "display_data"
    }
   ],
   "source": [
    "classifier = classifier.to(args.device)\n",
    "loss_func = nn.BCEWithLogitsLoss()\n",
    "optimizer = optim.Adam(classifier.parameters(), lr=args.learning_rate)\n",
    "scheduler = optim.lr_scheduler.ReduceLROnPlateau(\n",
    "    optimizer=optimizer, mode=\"min\", factor=0.5, patience=1\n",
    ")\n",
    "train_state = utils.train_model(\n",
    "    classifier=classifier,\n",
    "    loss_func=loss_func,\n",
    "    optimizer=optimizer,\n",
    "    scheduler=scheduler,\n",
    "    dataset=dataset,\n",
    "    args=args,\n",
    ")\n",
    "train_state = utils.evaluate_test_split(\n",
    "    classifier=classifier,\n",
    "    dataset=dataset,\n",
    "    loss_func=loss_func,\n",
    "    args=args,\n",
    "    train_state=train_state,\n",
    ")"
   ]
  },
  {
   "cell_type": "code",
   "execution_count": 13,
   "id": "4122c539",
   "metadata": {},
   "outputs": [
    {
     "data": {
      "application/javascript": [
       "\n",
       "            setTimeout(function() {\n",
       "                var nbb_cell_id = 13;\n",
       "                var nbb_unformatted_code = \"def predict_class(classifier, vectorizer, tweet, max_length, decision_threshold=0.0):\\n    vectorized_tweet = torch.tensor(\\n        vectorizer.vectorize(tweet, vector_length=max_length)\\n    )\\n    result = classifier(vectorized_tweet.unsqueeze(0))\\n    probability_value = F.sigmoid(result).item()\\n    predicted_index = 1 if probability_value >= decision_threshold else 0\\n    return vectorizer.target_vocab.lookup_index(predicted_index)\";\n",
       "                var nbb_formatted_code = \"def predict_class(classifier, vectorizer, tweet, max_length, decision_threshold=0.0):\\n    vectorized_tweet = torch.tensor(\\n        vectorizer.vectorize(tweet, vector_length=max_length)\\n    )\\n    result = classifier(vectorized_tweet.unsqueeze(0))\\n    probability_value = F.sigmoid(result).item()\\n    predicted_index = 1 if probability_value >= decision_threshold else 0\\n    return vectorizer.target_vocab.lookup_index(predicted_index)\";\n",
       "                var nbb_cells = Jupyter.notebook.get_cells();\n",
       "                for (var i = 0; i < nbb_cells.length; ++i) {\n",
       "                    if (nbb_cells[i].input_prompt_number == nbb_cell_id) {\n",
       "                        if (nbb_cells[i].get_text() == nbb_unformatted_code) {\n",
       "                             nbb_cells[i].set_text(nbb_formatted_code);\n",
       "                        }\n",
       "                        break;\n",
       "                    }\n",
       "                }\n",
       "            }, 500);\n",
       "            "
      ],
      "text/plain": [
       "<IPython.core.display.Javascript object>"
      ]
     },
     "metadata": {},
     "output_type": "display_data"
    }
   ],
   "source": [
    "def predict_class(classifier, vectorizer, tweet, max_length, decision_threshold=0.0):\n",
    "    vectorized_tweet = torch.tensor(\n",
    "        vectorizer.vectorize(tweet, vector_length=max_length)\n",
    "    )\n",
    "    result = classifier(vectorized_tweet.unsqueeze(0))\n",
    "    probability_value = F.sigmoid(result).item()\n",
    "    predicted_index = 1 if probability_value >= decision_threshold else 0\n",
    "    return vectorizer.target_vocab.lookup_index(predicted_index)"
   ]
  },
  {
   "cell_type": "code",
   "execution_count": 14,
   "id": "b0c03db5",
   "metadata": {},
   "outputs": [
    {
     "name": "stderr",
     "output_type": "stream",
     "text": [
      "/Users/pardeep/anaconda3/envs/nlp-with-pytorch/lib/python3.8/site-packages/torch/nn/functional.py:1709: UserWarning: nn.functional.sigmoid is deprecated. Use torch.sigmoid instead.\n",
      "  warnings.warn(\"nn.functional.sigmoid is deprecated. Use torch.sigmoid instead.\")\n"
     ]
    },
    {
     "data": {
      "application/javascript": [
       "\n",
       "            setTimeout(function() {\n",
       "                var nbb_cell_id = 14;\n",
       "                var nbb_unformatted_code = \"test_dataset = pd.read_csv(\\\"data/test.csv\\\")\\nresults = []\\nfor id, _, _, tweet in test_dataset.values:\\n    prediction = predict_class(\\n        classifier, dataset.get_vectorizer(), tweet, dataset._max_seq_length + 1\\n    )\\n    results.append([id, prediction])\\nsubmission_df6 = pd.DataFrame(results, columns=[\\\"id\\\", \\\"target\\\"])\\nsubmission_df6.to_csv(\\\"data/emb_results1.csv\\\", index=False)\";\n",
       "                var nbb_formatted_code = \"test_dataset = pd.read_csv(\\\"data/test.csv\\\")\\nresults = []\\nfor id, _, _, tweet in test_dataset.values:\\n    prediction = predict_class(\\n        classifier, dataset.get_vectorizer(), tweet, dataset._max_seq_length + 1\\n    )\\n    results.append([id, prediction])\\nsubmission_df6 = pd.DataFrame(results, columns=[\\\"id\\\", \\\"target\\\"])\\nsubmission_df6.to_csv(\\\"data/emb_results1.csv\\\", index=False)\";\n",
       "                var nbb_cells = Jupyter.notebook.get_cells();\n",
       "                for (var i = 0; i < nbb_cells.length; ++i) {\n",
       "                    if (nbb_cells[i].input_prompt_number == nbb_cell_id) {\n",
       "                        if (nbb_cells[i].get_text() == nbb_unformatted_code) {\n",
       "                             nbb_cells[i].set_text(nbb_formatted_code);\n",
       "                        }\n",
       "                        break;\n",
       "                    }\n",
       "                }\n",
       "            }, 500);\n",
       "            "
      ],
      "text/plain": [
       "<IPython.core.display.Javascript object>"
      ]
     },
     "metadata": {},
     "output_type": "display_data"
    }
   ],
   "source": [
    "test_dataset = pd.read_csv(\"data/test.csv\")\n",
    "results = []\n",
    "for id, _, _, tweet in test_dataset.values:\n",
    "    prediction = predict_class(\n",
    "        classifier, dataset.get_vectorizer(), tweet, dataset._max_seq_length + 1\n",
    "    )\n",
    "    results.append([id, prediction])\n",
    "submission_df6 = pd.DataFrame(results, columns=[\"id\", \"target\"])\n",
    "submission_df6.to_csv(\"data/emb_results1.csv\", index=False)"
   ]
  },
  {
   "cell_type": "code",
   "execution_count": null,
   "id": "9dfafe6d",
   "metadata": {},
   "outputs": [],
   "source": []
  }
 ],
 "metadata": {
  "kernelspec": {
   "display_name": "Python 3",
   "language": "python",
   "name": "python3"
  },
  "language_info": {
   "codemirror_mode": {
    "name": "ipython",
    "version": 3
   },
   "file_extension": ".py",
   "mimetype": "text/x-python",
   "name": "python",
   "nbconvert_exporter": "python",
   "pygments_lexer": "ipython3",
   "version": "3.8.10"
  },
  "toc": {
   "base_numbering": 1,
   "nav_menu": {},
   "number_sections": true,
   "sideBar": true,
   "skip_h1_title": false,
   "title_cell": "Table of Contents",
   "title_sidebar": "Contents",
   "toc_cell": false,
   "toc_position": {},
   "toc_section_display": true,
   "toc_window_display": false
  }
 },
 "nbformat": 4,
 "nbformat_minor": 5
}
